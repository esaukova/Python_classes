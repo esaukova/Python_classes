{
  "nbformat": 4,
  "nbformat_minor": 0,
  "metadata": {
    "colab": {
      "provenance": [],
      "include_colab_link": true
    },
    "kernelspec": {
      "name": "python3",
      "display_name": "Python 3"
    },
    "language_info": {
      "name": "python"
    }
  },
  "cells": [
    {
      "cell_type": "markdown",
      "metadata": {
        "id": "view-in-github",
        "colab_type": "text"
      },
      "source": [
        "<a href=\"https://colab.research.google.com/github/esaukova/Python_classes/blob/main/%D0%A6%D0%9A_PY100_%D0%A2%D0%B5%D0%BC%D0%B0_5_%D0%A0%D0%B0%D0%B1%D0%BE%D1%82%D0%B0_%D1%81_%D0%B1%D0%B8%D0%B1%D0%BB%D0%B8%D0%BE%D1%82%D0%B5%D0%BA%D0%B0%D0%BC%D0%B8_%D0%9E%D1%84%D0%BE%D1%80%D0%BC%D0%BB%D0%B5%D0%BD%D0%B8%D0%B5_%D0%BA%D0%BE%D0%B4%D0%B0_.ipynb\" target=\"_parent\"><img src=\"https://colab.research.google.com/assets/colab-badge.svg\" alt=\"Open In Colab\"/></a>"
      ]
    },
    {
      "cell_type": "markdown",
      "source": [
        "# Работа с библиотеками. Оформление кода."
      ],
      "metadata": {
        "id": "L02wPuEUxHkI"
      }
    },
    {
      "cell_type": "markdown",
      "metadata": {
        "id": "P1VnMBA1BWnd"
      },
      "source": [
        "## Форматирование строк"
      ]
    },
    {
      "cell_type": "markdown",
      "metadata": {
        "id": "wPCXYiahJP-m"
      },
      "source": [
        "С версии python 3.6 существует понятие f-string или f-строки.  \n",
        "F-строки позволяют встраивать выражения в строки,  \n",
        "используя минимальный синтаксис.\n",
        "\n",
        "```python\n",
        "value = 50\n",
        "\n",
        "f_string = f\"Значение = {value}\"  # f-строка\n",
        "concat_string = \"Значение = \" + str(value)  # конкатенация строк\n",
        "```"
      ]
    },
    {
      "cell_type": "code",
      "metadata": {
        "colab": {
          "base_uri": "https://localhost:8080/"
        },
        "id": "EV2W8DQqpfd8",
        "outputId": "31ac3ea3-db21-49d1-e5a4-e708a55d42df"
      },
      "source": [
        "cart = {\n",
        "    \"Яблоко\": 23,\n",
        "    \"Апельсин\": 47,\n",
        "    \"Банан\": 10\n",
        "}\n",
        "\n",
        "for fruit, price in cart.items():\n",
        "    print(f'Фрукт \"{fruit.lower()}\" стоит = {price}')"
      ],
      "execution_count": null,
      "outputs": [
        {
          "output_type": "stream",
          "name": "stdout",
          "text": [
            "Фрукт \"яблоко\" стоит = 23\n",
            "Фрукт \"апельсин\" стоит = 47\n",
            "Фрукт \"банан\" стоит = 10\n"
          ]
        }
      ]
    },
    {
      "cell_type": "markdown",
      "metadata": {
        "id": "SN1Ov7_gCKPx"
      },
      "source": [
        "#### Выравнивание"
      ]
    },
    {
      "cell_type": "markdown",
      "source": [
        "[Мини язык](https://docs.python.org/3/library/string.html#format-specification-mini-language) для форматирования строк\n",
        "\n",
        "```python\n",
        "f\"{value:description}\"\n",
        "```\n",
        "\n",
        "Чем - Куда - Сколько\n",
        "- Чем по умолчанию - пробелами\n",
        "- Куда по умолчанию - к левому краю\n",
        "- Сколько - задается пользователем"
      ],
      "metadata": {
        "id": "aZdrQkZTijLA"
      }
    },
    {
      "cell_type": "code",
      "source": [
        "# Выровнять три столбца\n",
        "print(f'{\"один\":10}{\"два\":10}{\"три\"}')\n",
        "print(f'{\"четыре\":10}{\"пять\":10}{\"шесть\"}')"
      ],
      "metadata": {
        "colab": {
          "base_uri": "https://localhost:8080/"
        },
        "id": "uvjiwtmCjKxD",
        "outputId": "5811cebb-044b-429a-8907-be338003c3e1"
      },
      "execution_count": null,
      "outputs": [
        {
          "output_type": "stream",
          "name": "stdout",
          "text": [
            "один      два       три\n",
            "четыре    пять      шесть\n"
          ]
        }
      ]
    },
    {
      "cell_type": "code",
      "metadata": {
        "id": "a9YOI626CN7v",
        "colab": {
          "base_uri": "https://localhost:8080/"
        },
        "outputId": "94d53001-65c0-4ee4-d218-16d08b9f7e64"
      },
      "source": [
        "# Выравнивание текста на правому и левому краю, а так по центру.\n",
        "str_ = 'abcd'\n",
        "\n",
        "print(f'{str_:>10}')  # >10 - выравнивание до ширины 10 по правому краю заполнить пробелами\n",
        "print(f'{str_:_^10}')  # _^10 - выравнивание до ширины 10 по центру, заполнить _\n",
        "print(f'{str_:+<10}')  # _^10 - выравнивание до ширины 10 по левому краю, заполнить +"
      ],
      "execution_count": null,
      "outputs": [
        {
          "output_type": "stream",
          "name": "stdout",
          "text": [
            "      abcd\n",
            "___abcd___\n",
            "abcd++++++\n"
          ]
        }
      ]
    },
    {
      "cell_type": "code",
      "metadata": {
        "colab": {
          "base_uri": "https://localhost:8080/"
        },
        "id": "oje3YqRKrk-d",
        "outputId": "ee35cf47-3fe1-47e1-8bfb-8ec8c460b85c"
      },
      "source": [
        "# числа фиксированного размера\n",
        "value = 12.34567\n",
        "print(f\"{value:.2f}\")  # .2f - округление до двух знаков после запятой"
      ],
      "execution_count": null,
      "outputs": [
        {
          "output_type": "stream",
          "name": "stdout",
          "text": [
            "12.35\n"
          ]
        }
      ]
    },
    {
      "cell_type": "markdown",
      "source": [
        "##### ***Задача***\n",
        "Распечатать лесенку в следующем формате:\n",
        "```\n",
        "    *\n",
        "   **\n",
        "  ***\n",
        " ****\n",
        "*****\n",
        "```"
      ],
      "metadata": {
        "id": "cwyhfEdlUJU-"
      }
    },
    {
      "cell_type": "markdown",
      "source": [
        "Один из способов решения:\n",
        "```python\n",
        "count_stair = 5\n",
        "\n",
        "for count in range(1, count_stair+1):\n",
        "    print(f\"{'*' * count:>5}}\")\n",
        "```\n",
        "Но здесь ширину выравнивания и количество ступеней не связаны между собой."
      ],
      "metadata": {
        "id": "A_vfJhwaVuuG"
      }
    },
    {
      "cell_type": "code",
      "source": [
        "count_stair = 5\n",
        "width = count_stair  # ширина выравнивания текста\n",
        "\n",
        "for count in range(1, count_stair+1):\n",
        "    print(f\"{'*' * count:>{width}}\")  # чтобы использовать переменные для форматирования их необходимо заключить в {}"
      ],
      "metadata": {
        "colab": {
          "base_uri": "https://localhost:8080/"
        },
        "id": "x3gKbdLVVdFI",
        "outputId": "31a9aec2-ad66-4717-93fe-a1b95ce5f8e1"
      },
      "execution_count": null,
      "outputs": [
        {
          "output_type": "stream",
          "name": "stdout",
          "text": [
            "    *\n",
            "   **\n",
            "  ***\n",
            " ****\n",
            "*****\n"
          ]
        }
      ]
    },
    {
      "cell_type": "markdown",
      "metadata": {
        "id": "8z4k0czx5RJn"
      },
      "source": [
        "## Модули. Способы создания и использования."
      ]
    },
    {
      "cell_type": "markdown",
      "source": [
        "Существуют модули, пакеты, фреймворки...  \n",
        "Вот несколько примеров, полулярных модулей на Python:\n",
        "- [Популярные модули и фреймворки](https://eternalhost.net/blog/razrabotka/python-biblioteki#p3)\n",
        "\n",
        "Предметом текущего разговора будут модули."
      ],
      "metadata": {
        "id": "8_jS9MpAzmJN"
      }
    },
    {
      "cell_type": "markdown",
      "source": [
        "### Модули"
      ],
      "metadata": {
        "id": "9a44zrvZxuDV"
      }
    },
    {
      "cell_type": "markdown",
      "source": [
        "Модуль в языке Python представляет отдельный файл с кодом,  \n",
        "который можно повторно использовать в других программах.\n",
        "\n",
        "Для создания модуля необходимо создать собственно файл с расширением **.py**,  \n",
        "который будет представлять модуль.\n",
        "\n",
        "Для повторного использования модуля его следует импортировать.  \n",
        "Импортировать можно:\n",
        "- [стандартные](https://docs.python.org/3/library/index.html) модули;\n",
        "- модули других разработчиков;\n",
        "- свои собственные модули.\n",
        "\n",
        "Мы будем говорить про стандартные модули."
      ],
      "metadata": {
        "id": "gPfCpwPUxyMo"
      }
    },
    {
      "cell_type": "markdown",
      "source": [
        "### Способы импортирования кода."
      ],
      "metadata": {
        "id": "Qfx2Ollh3KcP"
      }
    },
    {
      "cell_type": "markdown",
      "metadata": {
        "id": "JKYNyvKo5cio"
      },
      "source": [
        "Импорт происходит с помощью зарезервированного слова **`import`** <название модуля>\n",
        "\n",
        "```python\n",
        "import os  # импорт модуля\n",
        "```\n",
        "\n",
        "При импорте существует 4 различных подхода.  \n",
        "Цель каждого однакова - доставить какой-то функционал в ваш модуль."
      ]
    },
    {
      "cell_type": "markdown",
      "source": [
        "#### **Способ первый.**  \n",
        "Импортировать весь модуль."
      ],
      "metadata": {
        "id": "MEPoDuyVgiFg"
      }
    },
    {
      "cell_type": "code",
      "metadata": {
        "id": "BNz0T2FpGX8v",
        "colab": {
          "base_uri": "https://localhost:8080/"
        },
        "outputId": "0e4a00f3-c171-4355-8f75-92cce2420c22"
      },
      "source": [
        "# Импорт всего модуля и обращение к функция и переменным через имя модуля\n",
        "import math\n",
        "print(math.pi)  # 3.141592653589793"
      ],
      "execution_count": null,
      "outputs": [
        {
          "output_type": "stream",
          "name": "stdout",
          "text": [
            "3.141592653589793\n"
          ]
        }
      ]
    },
    {
      "cell_type": "markdown",
      "metadata": {
        "id": "bi53Q4FkG8kr"
      },
      "source": [
        "#### **Способ второй.**  \n",
        "Даем новое имя модулю, это позволяет избежать ошибок,  \n",
        "если у вас есть функции или переменные, которые называются  \n",
        "так же как модуль, то вы можете дать новое имя модуля для данного скрипта."
      ]
    },
    {
      "cell_type": "code",
      "metadata": {
        "id": "0uahY9roGy-L",
        "colab": {
          "base_uri": "https://localhost:8080/"
        },
        "outputId": "5a1df3aa-26b5-49b0-9dcb-e16112d5d7a6"
      },
      "source": [
        "import math as m  # использование нового имени для обращения к импортированному модулю\n",
        "\n",
        "math = \"Глобальная переменная\"\n",
        "\n",
        "print(m.pi)  # 3.141592653589793\n",
        "print(math)"
      ],
      "execution_count": null,
      "outputs": [
        {
          "output_type": "stream",
          "name": "stdout",
          "text": [
            "3.141592653589793\n",
            "Глобальная переменная\n"
          ]
        }
      ]
    },
    {
      "cell_type": "markdown",
      "metadata": {
        "id": "SbhHaRQ_oXJ-"
      },
      "source": [
        "#### **Третий способ.**  \n",
        "Импортировать всё содержимое модуля в неявном виде.  \n",
        "Не очень хорошая практика, потому что непонятно,  \n",
        "что именно было импортировано.  \n",
        "Явное всегда лучше, чем неявное."
      ]
    },
    {
      "cell_type": "code",
      "metadata": {
        "id": "ax8c2_gwHQ1B",
        "colab": {
          "base_uri": "https://localhost:8080/"
        },
        "outputId": "e794e8d9-f46e-47b3-8bdf-b6794e6a492a"
      },
      "source": [
        "from math import *  # импортируем всё из модуля math. Плохой способ\n",
        "print(pi)  # 3.141592653589793"
      ],
      "execution_count": null,
      "outputs": [
        {
          "output_type": "stream",
          "name": "stdout",
          "text": [
            "3.141592653589793\n"
          ]
        }
      ]
    },
    {
      "cell_type": "code",
      "metadata": {
        "id": "mP1oxLKqAqIG",
        "colab": {
          "base_uri": "https://localhost:8080/"
        },
        "outputId": "54de8cf0-e0c6-4b96-a29c-e9f3d821edbd"
      },
      "source": [
        "from math import pi, e  # вместо * лучше импортировать отдельные объекты\n",
        "\n",
        "print(pi)  # 3.141592653589793\n",
        "print(e)  # 2.718281828459045"
      ],
      "execution_count": null,
      "outputs": [
        {
          "output_type": "stream",
          "name": "stdout",
          "text": [
            "3.141592653589793\n",
            "2.718281828459045\n"
          ]
        }
      ]
    },
    {
      "cell_type": "markdown",
      "source": [
        "#### **Четвертый способ.**  \n",
        "При импорте отдельных объектов дать им новые имена."
      ],
      "metadata": {
        "id": "MbS3O6THfgQI"
      }
    },
    {
      "cell_type": "code",
      "source": [
        "from math import pi as PI\n",
        "\n",
        "print(PI)  # 3.141592653589793"
      ],
      "metadata": {
        "colab": {
          "base_uri": "https://localhost:8080/"
        },
        "id": "wE7bcpfkfkjN",
        "outputId": "dd7f4392-71aa-4efc-9019-0bc4e124e250"
      },
      "execution_count": null,
      "outputs": [
        {
          "output_type": "stream",
          "name": "stdout",
          "text": [
            "3.141592653589793\n"
          ]
        }
      ]
    },
    {
      "cell_type": "markdown",
      "source": [
        "Все 4 способа равнозначны друг другу.  \n",
        "Выбирать нужно по обстоятельствам и собственным предпочтениям.\n",
        "\n",
        "Формы импорта\n",
        "```python\n",
        "import math\n",
        "```\n",
        "\n",
        "```python\n",
        "from math import pi, e\n",
        "```\n",
        "не позволяют сэкономить память при импорте.  \n",
        "**Импортируемый модуль выполняется от первой до последней строки!**\n"
      ],
      "metadata": {
        "id": "CHrxXbm8g8SZ"
      }
    },
    {
      "cell_type": "markdown",
      "source": [
        "## Работа со встроенными модулями"
      ],
      "metadata": {
        "id": "gR3rkH392_mZ"
      }
    },
    {
      "cell_type": "markdown",
      "source": [
        "### модуль collections"
      ],
      "metadata": {
        "id": "MfoTXCjoBVSZ"
      }
    },
    {
      "cell_type": "markdown",
      "source": [
        "Модуль [collections](https://docs.python.org/3/library/collections.html#module-collections) содержит в себе дополнительные типы данных,  \n",
        "удобные в использовании.  \n",
        "Например, Counter или OrderDict."
      ],
      "metadata": {
        "id": "7E71xDNgFRmz"
      }
    },
    {
      "cell_type": "markdown",
      "source": [
        "#### Counter"
      ],
      "metadata": {
        "id": "g8JO-AzeBcdN"
      }
    },
    {
      "cell_type": "markdown",
      "source": [
        "Рассмотри такую задачу.\n",
        "\n",
        "Дан список оценок.  \n",
        "Составить словарь, сколько человек получили каждую из оценок.\n",
        "\n",
        "```python\n",
        "graders_dict = {}\n",
        "\n",
        "for grade in grades_list:\n",
        "    if grade in graders_dict:\n",
        "        graders_dict[grade] += 1  # оценку уже встречали, поэтому увеличиваем количество\n",
        "    else:\n",
        "        graders_dict[grade] = 1  # оценку встретили 1 раз\n",
        "```\n",
        "\n",
        "```python\n",
        "graders_dict = {}\n",
        "\n",
        "for grade in grades_list:\n",
        "    graders_dict[grade] = graders_dict.get(grade, 0) + 1\n",
        "```\n",
        "\n",
        "Данную задачу можно решить используя [Counter](https://docs.python.org/3/library/collections.html#collections.Counter)  \n",
        "из модуля `collections`"
      ],
      "metadata": {
        "id": "5quKnvkaBhT9"
      }
    },
    {
      "cell_type": "code",
      "source": [
        "from collections import Counter\n",
        "\n",
        "grades_list = [5, 5, 4, 3, 4, 5, 5, 2]\n",
        "grades = Counter(grades_list)  # Counter посчитает количество каждого объекта\n",
        "print(grades)"
      ],
      "metadata": {
        "colab": {
          "base_uri": "https://localhost:8080/"
        },
        "id": "8-e7bPlwdo0s",
        "outputId": "75852089-beb6-4006-fde4-bca359f0481a"
      },
      "execution_count": null,
      "outputs": [
        {
          "output_type": "stream",
          "name": "stdout",
          "text": [
            "Counter({5: 4, 4: 2, 3: 1, 2: 1})\n"
          ]
        }
      ]
    },
    {
      "cell_type": "code",
      "source": [
        "grades.most_common(3)  # топ-3 оценок"
      ],
      "metadata": {
        "colab": {
          "base_uri": "https://localhost:8080/"
        },
        "id": "zhJfIrTRDOcO",
        "outputId": "1df6abf5-b0ec-4d9e-b5c4-913a4b701bfc"
      },
      "execution_count": null,
      "outputs": [
        {
          "output_type": "execute_result",
          "data": {
            "text/plain": [
              "[(5, 4), (4, 2), (3, 1)]"
            ]
          },
          "metadata": {},
          "execution_count": 12
        }
      ]
    },
    {
      "cell_type": "markdown",
      "source": [
        "#### Упорядоченный словарь (OrderedDict)"
      ],
      "metadata": {
        "id": "UGLbc3bFm3_0"
      }
    },
    {
      "cell_type": "markdown",
      "source": [
        "Начиная с Python 3.7 словари **стали упорядоченными**.  \n",
        "До этого ключи не гарантировался порядок ключей  \n",
        "по порядку их добавления (как set).\n",
        "\n",
        "До версии 3.7 или в некоторых текущих версиях используется  \n",
        "[OrderedDict](https://docs.python.org/3/library/collections.html#collections.OrderedDict) из модуля **`collections`**  \n",
        "если необходим упорядоченый словарь."
      ],
      "metadata": {
        "id": "0HB0-Ntum9Xf"
      }
    },
    {
      "cell_type": "code",
      "source": [
        "from collections import OrderedDict\n",
        "\n",
        "dict_ = OrderedDict()  # вместо {}\n",
        "\n",
        "dict_ = 1\n",
        "dict_[2] = 2\n",
        "[1]\n",
        "print(dict_)  # OrderedDict([(1, 1), (2, 2)])\n",
        "print(dict_[1])  # 1"
      ],
      "metadata": {
        "colab": {
          "base_uri": "https://localhost:8080/"
        },
        "id": "K0VZ19jrm3bi",
        "outputId": "b0477851-ca2a-40b6-9628-a5c95c18183d"
      },
      "execution_count": null,
      "outputs": [
        {
          "output_type": "stream",
          "name": "stdout",
          "text": [
            "OrderedDict([(1, 1), (2, 2)])\n",
            "1\n"
          ]
        }
      ]
    },
    {
      "cell_type": "markdown",
      "metadata": {
        "id": "29fAezq5qD5x"
      },
      "source": [
        "### модуль random"
      ]
    },
    {
      "cell_type": "markdown",
      "metadata": {
        "id": "ZlwK-LdbsMOX"
      },
      "source": [
        "Модуль [random](https://docs.python.org/3/library/random.html) позволяет внести полезную случайность в наши программы.\n",
        "\n",
        "`random.randint(A, B)` - случайное целое число N, A ≤ N ≤ B.\n",
        "\n",
        "`random.random()` - случайное число c плавающей запятой N, 0 ≤ N < 1\n",
        "\n",
        "`random.uniform(A, B)` - случайное число c плавающей запятой N, A ≤ N < B\n"
      ]
    },
    {
      "cell_type": "code",
      "metadata": {
        "colab": {
          "base_uri": "https://localhost:8080/"
        },
        "id": "RIcgiw3mqC4h",
        "outputId": "4444f3b9-c2c8-42c6-8f22-185c29361c8d"
      },
      "source": [
        "import random\n",
        "\n",
        "random_int = random.randint(-100, 100)\n",
        "print(random_int)\n",
        "\n",
        "print(random.random())\n",
        "\n",
        "random_num = random.uniform(-100, 100)\n",
        "print(random_num)"
      ],
      "execution_count": null,
      "outputs": [
        {
          "output_type": "stream",
          "name": "stdout",
          "text": [
            "36\n",
            "0.4087103816992549\n",
            "14.109353673675116\n"
          ]
        }
      ]
    },
    {
      "cell_type": "markdown",
      "metadata": {
        "id": "g5xfPz0Vs2Z4"
      },
      "source": [
        "`random.choice(sequence)` - случайный элемент непустой последовательности.\n",
        "\n",
        "`random.shuffle(sequence)` - перемешивает последовательность  \n",
        "(изменяется сама последовательность).  \n",
        "Поэтому функция не работает для неизменяемых объектов."
      ]
    },
    {
      "cell_type": "code",
      "metadata": {
        "colab": {
          "base_uri": "https://localhost:8080/"
        },
        "id": "8fN3YTqntsM3",
        "outputId": "15deb8e0-f495-4eef-875b-8da4696b71ed"
      },
      "source": [
        "from random import choice\n",
        "\n",
        "\n",
        "FIRST_PLAYER = \"X\"  # символ первого игрока\n",
        "SECOND_PLAYER = \"O\"  # символ второго игрока\n",
        "\n",
        "player_symbols = [FIRST_PLAYER, SECOND_PLAYER]\n",
        "current_player = choice(player_symbols)  # выбираем кто будет ходить первым\n",
        "print(current_player)"
      ],
      "execution_count": null,
      "outputs": [
        {
          "output_type": "stream",
          "name": "stdout",
          "text": [
            "X\n"
          ]
        }
      ]
    },
    {
      "cell_type": "code",
      "metadata": {
        "colab": {
          "base_uri": "https://localhost:8080/"
        },
        "id": "pjXUTIa_uNEA",
        "outputId": "59484915-10d7-404b-a4fd-8745c444ea57"
      },
      "source": [
        "from random import shuffle\n",
        "\n",
        "list_numbers = list(range(10))\n",
        "\n",
        "shuffle(list_numbers)  # ничего не возвращает, изменяет list_numbers\n",
        "print(list_numbers)"
      ],
      "execution_count": null,
      "outputs": [
        {
          "output_type": "stream",
          "name": "stdout",
          "text": [
            "[1, 0, 8, 3, 6, 4, 9, 2, 5, 7]\n"
          ]
        }
      ]
    },
    {
      "cell_type": "markdown",
      "source": [
        "### модуль pprint"
      ],
      "metadata": {
        "id": "A1hyDNAyJ6GV"
      }
    },
    {
      "cell_type": "markdown",
      "source": [
        "Модуль [pprint](https://docs.python.org/3/library/pprint.html) позволяет красиво отображать объекты Python.  \n",
        "При этом сохраняется структура объекта и отображение,  \n",
        "которое выводит `pprint`, можно использовать для создания объекта."
      ],
      "metadata": {
        "id": "i7GogcP6BFPh"
      }
    },
    {
      "cell_type": "code",
      "source": [
        "project_info = {\n",
        "    'author': 'A. Random Developer',\n",
        "    'author_email': 'author@example.com',\n",
        "    'bugtrack_url': None,\n",
        "    'description': '# A sample Python project! [Python Logo](https://www.python.org/static/community_logos/python-logo.png \"Sample inline image\"). A sample project that exists as an aid to the [Python Packaging User Guide][packaging guide]\\'s [Tutorial on Packaging and Distributing Projects][distribution tutorial].',\n",
        "    'description_content_type': 'text/markdown',\n",
        "}\n",
        "\n",
        "print(project_info)"
      ],
      "metadata": {
        "colab": {
          "base_uri": "https://localhost:8080/"
        },
        "id": "tKLgk1idM7nN",
        "outputId": "21022794-1e30-4aa1-b521-3a01a5b21f99"
      },
      "execution_count": null,
      "outputs": [
        {
          "output_type": "stream",
          "name": "stdout",
          "text": [
            "{'author': 'A. Random Developer', 'author_email': 'author@example.com', 'bugtrack_url': None, 'description': '# A sample Python project! [Python Logo](https://www.python.org/static/community_logos/python-logo.png \"Sample inline image\"). A sample project that exists as an aid to the [Python Packaging User Guide][packaging guide]\\'s [Tutorial on Packaging and Distributing Projects][distribution tutorial].', 'description_content_type': 'text/markdown'}\n"
          ]
        }
      ]
    },
    {
      "cell_type": "code",
      "source": [
        "from pprint import pprint\n",
        "\n",
        "\n",
        "project_info = {\n",
        "    'author': 'A. Random Developer',\n",
        "    'author_email': 'author@example.com',\n",
        "    'bugtrack_url': None,\n",
        "    'description': '# A sample Python project! [Python Logo](https://www.python.org/static/community_logos/python-logo.png \"Sample inline image\"). A sample project that exists as an aid to the [Python Packaging User Guide][packaging guide]\\'s [Tutorial on Packaging and Distributing Projects][distribution tutorial].',\n",
        "    'description_content_type': 'text/markdown',\n",
        "}\n",
        "\n",
        "pprint(project_info)"
      ],
      "metadata": {
        "colab": {
          "base_uri": "https://localhost:8080/"
        },
        "id": "-83M6FYOJ8OQ",
        "outputId": "6cf0a0ca-c2d0-483c-9ed2-437faee2e500"
      },
      "execution_count": null,
      "outputs": [
        {
          "output_type": "stream",
          "name": "stdout",
          "text": [
            "{'author': 'A. Random Developer',\n",
            " 'author_email': 'author@example.com',\n",
            " 'bugtrack_url': None,\n",
            " 'description': '# A sample Python project! [Python '\n",
            "                'Logo](https://www.python.org/static/community_logos/python-logo.png '\n",
            "                '\"Sample inline image\"). A sample project that exists as an '\n",
            "                \"aid to the [Python Packaging User Guide][packaging guide]'s \"\n",
            "                '[Tutorial on Packaging and Distributing '\n",
            "                'Projects][distribution tutorial].',\n",
            " 'description_content_type': 'text/markdown'}\n"
          ]
        }
      ]
    },
    {
      "cell_type": "markdown",
      "source": [
        "### модуль time"
      ],
      "metadata": {
        "id": "NLAKUB799En_"
      }
    },
    {
      "cell_type": "markdown",
      "source": [
        "Модуль `time` позволяет удобно работать со временем.  \n",
        "\n",
        "- `time.sleep(secs)` - позволяет заморозить или усыпить вашу программу.\n",
        "- `time.time()` - позволяет получить временную метку  \n",
        "в виде количества секунд пройденных с 1 января 1970 года."
      ],
      "metadata": {
        "id": "o2u2eng59INn"
      }
    },
    {
      "cell_type": "code",
      "source": [
        "import time\n",
        "\n",
        "\n",
        "t0 = time.time()\n",
        "\n",
        "time.sleep(3)\n",
        "\n",
        "dt = time.time() - t0\n",
        "print(f\"Время работы программы: {dt:.5f}\")"
      ],
      "metadata": {
        "colab": {
          "base_uri": "https://localhost:8080/"
        },
        "id": "6-_wMafQ9yS7",
        "outputId": "3c979278-8b5d-4171-e037-9585048e4688"
      },
      "execution_count": null,
      "outputs": [
        {
          "output_type": "stream",
          "name": "stdout",
          "text": [
            "Время работы программы: 3.00287\n"
          ]
        }
      ]
    },
    {
      "cell_type": "markdown",
      "source": [
        "## Анотация типов"
      ],
      "metadata": {
        "id": "3Zg4puw1kTK-"
      }
    },
    {
      "cell_type": "markdown",
      "metadata": {
        "id": "VoJvYv5brEoM"
      },
      "source": [
        "**Python - язык с неявной сильной динамической типизацией**.\n",
        "\n",
        "Разберем это определение по отдельным кусочкам."
      ]
    },
    {
      "cell_type": "markdown",
      "metadata": {
        "id": "cTZm3TInro4B"
      },
      "source": [
        "**Динамическая типизация** означает, что тип переменной определяется  \n",
        "во время выполнения программы (интерпретации).  \n",
        "Во время работы вашей программы сначала одна переменная может содержать  \n",
        "в себе целочисленное значение, а потом строку.\n"
      ]
    },
    {
      "cell_type": "code",
      "metadata": {
        "id": "jAPpJFGBsI2G",
        "colab": {
          "base_uri": "https://localhost:8080/"
        },
        "outputId": "ad85f39d-4533-4513-9e9e-2cc8209bd0c5"
      },
      "source": [
        "a = 1\n",
        "print(a)\n",
        "\n",
        "a = 'новое значение переменной а'\n",
        "print(a)"
      ],
      "execution_count": null,
      "outputs": [
        {
          "output_type": "stream",
          "name": "stdout",
          "text": [
            "1\n",
            "новое значение переменной а\n"
          ]
        }
      ]
    },
    {
      "cell_type": "markdown",
      "metadata": {
        "id": "OauRlBlksUEs"
      },
      "source": [
        "С точки зрения интерпретатора в этом нет никакой ошибки.  \n",
        "\n",
        "А вот с другой точки зрения такое не явное изменение типа данных может  \n",
        "запутать, тех кто будет читать ваш код и вникать в его логику."
      ]
    },
    {
      "cell_type": "markdown",
      "metadata": {
        "id": "VZfTTSLutQpj"
      },
      "source": [
        "И наконец **неявная типизация** нам говорит о том,  \n",
        "что тип переменной при ее объявлении не нужно указывать.\n",
        "\n",
        "```python\n",
        "some_var = 1\n",
        "other_var = 'Hello World'\n",
        "```\n",
        "\n",
        "В Python 3.6 появилась такая интересная особенность,  \n",
        "как **синтаксис для аннотаций переменных**.  \n",
        "\n",
        "```python\n",
        "some_var: int = 1\n",
        "other_var: str = 'Hello World'\n",
        "```"
      ]
    },
    {
      "cell_type": "code",
      "metadata": {
        "id": "4WDEJVIkeaTL"
      },
      "source": [
        "# с точки зрения интерпретатора это две идентичные функции\n",
        "def add_with_type_hints(a: int, b: int = 1) -> int:\n",
        "    return a + b\n",
        "\n",
        "\n",
        "def add(a, b):\n",
        "    return a + b"
      ],
      "execution_count": null,
      "outputs": []
    },
    {
      "cell_type": "code",
      "source": [
        "def get_fake_list(a, b, c) -> str:  # ошибки не будет\n",
        "    return [a, b, c]\n",
        "\n",
        "\n",
        "print(get_fake_list(1, 2, 3))"
      ],
      "metadata": {
        "colab": {
          "base_uri": "https://localhost:8080/"
        },
        "id": "V4HOZfK8oHA9",
        "outputId": "1096a7ab-a416-4c49-ccb5-3afe2576d1d9"
      },
      "execution_count": null,
      "outputs": [
        {
          "output_type": "stream",
          "name": "stdout",
          "text": [
            "[1, 2, 3]\n"
          ]
        }
      ]
    },
    {
      "cell_type": "markdown",
      "source": [
        "![image.png](data:image/png;base64,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)\n",
        "\n",
        "Цель — указать разработчику на ожидаемый тип данных  \n",
        "при получении или возврате данных из функции или метода.  \n",
        "В свою очередь, это позволяет сократить количество багов,  \n",
        "ускорить написание кода и улучшить его качество."
      ],
      "metadata": {
        "id": "bc1gZ78ZljZO"
      }
    },
    {
      "cell_type": "markdown",
      "source": [
        "### Аннотация встроенными типами"
      ],
      "metadata": {
        "id": "B5Fgty7aW4hx"
      }
    },
    {
      "cell_type": "code",
      "source": [
        "def get_int() -> int:\n",
        "    return 1\n",
        "\n",
        "\n",
        "def get_float() -> float:\n",
        "    return 1.0\n",
        "\n",
        "\n",
        "def get_str() -> str:\n",
        "    return \"Hello World\"\n",
        "\n",
        "\n",
        "def get_tuple() -> tuple:\n",
        "    return 1, 2\n",
        "\n",
        "\n",
        "def get_list() -> list:\n",
        "    return [1, 2]\n",
        "\n",
        "\n",
        "def get_dict() -> dict:\n",
        "    return {1: 2}"
      ],
      "metadata": {
        "id": "4AgEi8luEAb0"
      },
      "execution_count": null,
      "outputs": []
    },
    {
      "cell_type": "markdown",
      "source": [
        "### Модуль `typing`. Generic-типы"
      ],
      "metadata": {
        "id": "BuEcNrx-W_-K"
      }
    },
    {
      "cell_type": "markdown",
      "source": [
        "Модуль `typing` может использоваться для детальной с аннотации типов.\n",
        "\n",
        "Cуществуют типы из модуля typing, которые можно параметризировать.  \n",
        "Такие типы называются Generic-типами.  \n",
        "Такого рода типа определены для многих встроенных в Python структур данных:\n",
        "\n",
        "```python\n",
        "from typing import List, Tuple, Dict\n",
        "\n",
        "# python <= 3.8\n",
        "List[int]  # Список int-ов\n",
        "Tuple[int, ...]  # Кортеж int-ов\n",
        "Dict[str, int]  # Cловарь, где ключи будут иметь тип str, а значения – тип int\n",
        "```\n",
        "\n",
        "Как можно заметить, некоторые типы имеют несколько параметров,  \n",
        "которые можно описать.  \n",
        "Например, `Dict[str, int]` означает, что это будет словарь,  \n",
        "где ключи будут иметь тип `str`, а значения – тип `int`."
      ],
      "metadata": {
        "id": "xwEn0CFOlvk1"
      }
    },
    {
      "cell_type": "markdown",
      "source": [
        "Generic типы нужно было использовать до версии Python 3.8 включительно.  \n",
        "С версии 3.9 встроенные типы данных поддерживают параметризацию.\n",
        "\n",
        "```python\n",
        "# python >= 3.9\n",
        "list[int]  # Список int-ов\n",
        "tuple[int, ...]  # Кортеж int-ов\n",
        "dict[str, int]  # Cловарь, где ключи будут иметь тип str, а значения – тип int\n",
        "```"
      ],
      "metadata": {
        "id": "1g8VKa4AmufU"
      }
    },
    {
      "cell_type": "code",
      "source": [
        "from typing import Tuple, List, Dict\n",
        "\n",
        "\n",
        "def get_tuple() -> Tuple[int, str]:  # кортеж из двух элементов\n",
        "    return 1, \"2\"\n",
        "\n",
        "\n",
        "def get_tuple_ints() -> Tuple[int, ...]:  # кортеж произвольной длины\n",
        "    return 1, 2, 3, 4, 5\n",
        "\n",
        "\n",
        "def get_list() -> List[int]:  # внутри все значения типа int\n",
        "    return [1, 2, 3, 4, 5]\n",
        "\n",
        "\n",
        "def get_dict() -> Dict[int, list]:  # пара тип ключа - тип значения\n",
        "    return {1: [2]}"
      ],
      "metadata": {
        "id": "KjLUQ19GsaoT"
      },
      "execution_count": null,
      "outputs": []
    },
    {
      "cell_type": "markdown",
      "source": [
        "Для версии 3.9 и выше для коллекций  \n",
        "можно дополнительно указать содержимое.\n",
        "\n",
        "```python\n",
        "\"\"\" Только для python >= 3.9 \"\"\"\n",
        "\n",
        "\n",
        "def get_tuple() -> tuple[int, str]:  # кортеж из двух элементов\n",
        "    return 1, \"two\"\n",
        "\n",
        "\n",
        "def get_tuple_ints() -> tuple[int, ...]:  # кортеж произвольной длины\n",
        "    return 1, 2, 3\n",
        "\n",
        "\n",
        "def get_list() -> list[int]:  # внутри все значения типа int\n",
        "    return [1, 2, 3, 4, 5]\n",
        "\n",
        "\n",
        "def get_dict() -> dict[int, list]:  # пара тип ключа - тип значения\n",
        "    return {1: [2]}\n",
        "```"
      ],
      "metadata": {
        "id": "mffHTHKFrdrJ"
      }
    },
    {
      "cell_type": "markdown",
      "source": [
        "#### `Union`, `Optional`, `Any`"
      ],
      "metadata": {
        "id": "nev--X7RDVIJ"
      }
    },
    {
      "cell_type": "markdown",
      "source": [
        "Объединение типов данных.  \n",
        "`Union` позволяет сказать, что ожидается какой-то  \n",
        "из нескольких указанных типов данных.\n",
        "```python\n",
        "from typing import Union\n",
        "\n",
        "\n",
        "def set_list_or_tuple(seq: Union[list, tuple]):  # или list или tuple\n",
        "    return seq\n",
        "```"
      ],
      "metadata": {
        "id": "E9OlmGIhndrJ"
      }
    },
    {
      "cell_type": "markdown",
      "source": [
        "Необязательный тип данных.  \n",
        "Generic `Optional[...]` заменяет запись `Union[..., None]`,  \n",
        "где `...` - любой тип данных\n",
        "\n",
        "```python\n",
        "from random import choice\n",
        "from typing import Optional\n",
        "\n",
        "\n",
        "def get_int_or_none() -> Optional[int]:\n",
        "    return choice([5, None])\n",
        "\n",
        "print(get_int_or_none())\n",
        "```\n",
        "\n",
        "Особенно важно при работе с булевым типом данных,  \n",
        "если принципиально различать `None`\n",
        "```python\n",
        "def get_bool_or_none() -> Optional[bool]:  # None тоже может быть воспринят как False\n",
        "    ...\n",
        "```"
      ],
      "metadata": {
        "id": "xa5b8pr1oC9_"
      }
    },
    {
      "cell_type": "markdown",
      "source": [
        "Когда функция может принимать или возвращать любой тип данных,  \n",
        "то следует использовать `Any` для аннотации типов.\n",
        "\n",
        "```python\n",
        "from typing import Any\n",
        "\n",
        "\n",
        "def get_any_value() -> Any:\n",
        "    ...\n",
        "```\n",
        "\n",
        "А если функция ничего не возвращает,  \n",
        "то можно это также в явном виде указать.\n",
        "```python\n",
        "def get_none() -> None:\n",
        "    ...\n",
        "```"
      ],
      "metadata": {
        "id": "Q62MrdXMDemN"
      }
    },
    {
      "cell_type": "markdown",
      "metadata": {
        "id": "_f-ZPywEp55H"
      },
      "source": [
        "## list comprehension"
      ]
    },
    {
      "cell_type": "markdown",
      "source": [
        "**list comprehension** или **cписковое включение** - это способ  \n",
        "компактного описания операций обработки списков."
      ],
      "metadata": {
        "id": "KTLFu2CBjkIr"
      }
    },
    {
      "cell_type": "markdown",
      "source": [
        "### Обработка каждого элемента"
      ],
      "metadata": {
        "id": "n9NGbRXTfprL"
      }
    },
    {
      "cell_type": "code",
      "metadata": {
        "colab": {
          "base_uri": "https://localhost:8080/"
        },
        "outputId": "af663f34-8860-4f08-a612-b216a37fc323",
        "id": "NhFfFurHp55I"
      },
      "source": [
        "cart = [3, 4, 12, 17, 19, 21, 23, 26, 30]\n",
        "\n",
        "cashier = []  # новый список с помощью метода append\n",
        "for item in cart:\n",
        "    cashier.append(item)\n",
        "print(cashier)\n",
        "\n",
        "cashier = [item for item in cart]\n",
        "print(cashier)\n"
      ],
      "execution_count": null,
      "outputs": [
        {
          "output_type": "stream",
          "name": "stdout",
          "text": [
            "[3, 4, 12, 17, 19, 21, 23, 26, 30]\n",
            "[3, 4, 12, 17, 19, 21, 23, 26, 30]\n"
          ]
        }
      ]
    },
    {
      "cell_type": "markdown",
      "metadata": {
        "id": "JilOm_akp55J"
      },
      "source": [
        "![](https://github.com/mrdbourke/python-list-comprehensions-tutorial/raw/f68f956c745932e1b824a69994706d715adde0a1/images/list-comprehensions-1.png)"
      ]
    },
    {
      "cell_type": "markdown",
      "source": [
        "Внутри list comprehension можно  \n",
        "вызывать целые функции и  \n",
        "помещать их результат в список."
      ],
      "metadata": {
        "id": "WURIHkzunKLk"
      }
    },
    {
      "cell_type": "code",
      "metadata": {
        "colab": {
          "base_uri": "https://localhost:8080/"
        },
        "id": "ato2n9w40vQv",
        "outputId": "bee23935-2c5d-4ae1-86ff-bdbc3b341a63"
      },
      "source": [
        "import random\n",
        "\n",
        "# если сама переменная цикла for не нужна, то можно использовать нижнее подчеркивание\n",
        "random_list = [random.randint(1, 10) for _ in range(10)]\n",
        "print(random_list)"
      ],
      "execution_count": null,
      "outputs": [
        {
          "output_type": "stream",
          "name": "stdout",
          "text": [
            "[3, 8, 7, 9, 5, 8, 8, 8, 5, 3]\n"
          ]
        }
      ]
    },
    {
      "cell_type": "markdown",
      "metadata": {
        "id": "5LQP3XvhfXJ1"
      },
      "source": [
        "##### ***Задача.***\n",
        "Сделать имена студентов с заглавной буквы.\n",
        "\n"
      ]
    },
    {
      "cell_type": "code",
      "metadata": {
        "colab": {
          "base_uri": "https://localhost:8080/"
        },
        "outputId": "6b5336da-58c9-40d7-88c3-5dd9de04235e",
        "id": "AERkw6gvfXJ2"
      },
      "source": [
        "students_list = ['cаша', 'кИРилл', 'пЕТЯ', 'оЛя']\n",
        "\n",
        "students_list = [student.capitalize() for student in students_list]\n",
        "print(students_list)"
      ],
      "execution_count": null,
      "outputs": [
        {
          "output_type": "stream",
          "name": "stdout",
          "text": [
            "['Cаша', 'Кирилл', 'Петя', 'Оля']\n"
          ]
        }
      ]
    },
    {
      "cell_type": "markdown",
      "source": [
        "##### ***Задача.***\n",
        "\n",
        "Получить список цифр числа."
      ],
      "metadata": {
        "id": "GwxgqrKEnLIM"
      }
    },
    {
      "cell_type": "code",
      "metadata": {
        "colab": {
          "base_uri": "https://localhost:8080/"
        },
        "id": "4oZJCOBa1UDN",
        "outputId": "6af30e06-30cb-478d-d2b2-33d09264ee61"
      },
      "source": [
        "number = 12345\n",
        "list_digits = [int(d) for d in str(number)]  # Получить список цифр числа N\n",
        "\n",
        "print(list_digits)  # [1, 2, 3, 4, 5]"
      ],
      "execution_count": null,
      "outputs": [
        {
          "output_type": "stream",
          "name": "stdout",
          "text": [
            "[1, 2, 3, 4, 5]\n"
          ]
        }
      ]
    },
    {
      "cell_type": "markdown",
      "source": [
        "### Фильтрация элементов"
      ],
      "metadata": {
        "id": "KqBclW8qfxjg"
      }
    },
    {
      "cell_type": "code",
      "metadata": {
        "id": "MeJH1lcB0RCF",
        "colab": {
          "base_uri": "https://localhost:8080/"
        },
        "outputId": "f4e862c9-2794-41b8-cbf9-9a5bb8390163"
      },
      "source": [
        "cart = [5, 7, 9, 10, 12, 15, 19, 20, 22]\n",
        "\n",
        "cashier_3 = []\n",
        "for item in cart:\n",
        "    if item % 2 == 0:  # только четные\n",
        "        cashier_3.append(item)\n",
        "print(cashier_3)\n",
        "\n",
        "cashier_3 = [item for item in cart if item % 2 == 0]\n",
        "print(cashier_3)"
      ],
      "execution_count": null,
      "outputs": [
        {
          "output_type": "stream",
          "name": "stdout",
          "text": [
            "[10, 12, 20, 22]\n",
            "[10, 12, 20, 22]\n"
          ]
        }
      ]
    },
    {
      "cell_type": "markdown",
      "metadata": {
        "id": "snHVDtsj0Zx3"
      },
      "source": [
        "![](https://github.com/mrdbourke/python-list-comprehensions-tutorial/raw/f68f956c745932e1b824a69994706d715adde0a1/images/list-comprehensions-2.png)"
      ]
    },
    {
      "cell_type": "markdown",
      "metadata": {
        "id": "HAFR21irgBpG"
      },
      "source": [
        "##### ***Задача.***\n",
        "\n",
        "Дан словарь учеников.  \n",
        "Составить список учеников старше 18.\n"
      ]
    },
    {
      "cell_type": "code",
      "source": [
        "students_list = [\n",
        "    {\n",
        "        \"name\": \"Саша\",\n",
        "        \"age\": 27,\n",
        "    },\n",
        "    {\n",
        "        \"name\": \"Кирилл\",\n",
        "        \"age\": 52,\n",
        "    },\n",
        "    {\n",
        "        \"name\": \"Маша\",\n",
        "        \"age\": 14,\n",
        "    },\n",
        "    {\n",
        "        \"name\": \"Петя\",\n",
        "        \"age\": 36,\n",
        "    },\n",
        "    {\n",
        "        \"name\": \"Оля\",\n",
        "        \"age\": 43,\n",
        "    },\n",
        "]\n",
        "min_age = 18  # минимальный возраст\n",
        "\n",
        "print([student for student in students_list if student[\"age\"] > min_age])"
      ],
      "metadata": {
        "colab": {
          "base_uri": "https://localhost:8080/"
        },
        "id": "Ae_6bDglgMCw",
        "outputId": "0ea90830-d2a8-4b81-d9bb-8e503a8c42eb"
      },
      "execution_count": null,
      "outputs": [
        {
          "output_type": "stream",
          "name": "stdout",
          "text": [
            "[{'name': 'Саша', 'age': 27}, {'name': 'Кирилл', 'age': 52}, {'name': 'Петя', 'age': 36}, {'name': 'Оля', 'age': 43}]\n"
          ]
        }
      ]
    },
    {
      "cell_type": "markdown",
      "metadata": {
        "id": "8GW4N46b3IXq"
      },
      "source": [
        "## Исключения"
      ]
    },
    {
      "cell_type": "markdown",
      "metadata": {
        "id": "EiJxXM9722hc"
      },
      "source": [
        "### try-except"
      ]
    },
    {
      "cell_type": "markdown",
      "metadata": {
        "id": "AOST-TNy2-dm"
      },
      "source": [
        "![](https://pythonru.com/wp-content/uploads/2020/02/sintaksis-obrabotki-isklyuchenij.png)"
      ]
    },
    {
      "cell_type": "markdown",
      "metadata": {
        "id": "6KeG1Mm5MMGF"
      },
      "source": [
        "Блок try-except позволяет отловить ошибки и обработать их.  \n",
        "Из основных ошибок следует выделить:\n",
        "- **`ValueError`** - которая возникает, если указанное значение  \n",
        "не удовлетворяет заданным условиям\n",
        "- **`TypeError`** - которая возникает, если тип данных  \n",
        "не удовлетворяет заданным условиям\n",
        "- **`IndexError`** - обращение к элементам последовательности  \n",
        "по несуществующему индексу\n",
        "- **`KeyError`** - обращение к элементам словаря по несуществующему ключу\n",
        "- **`ZeroDivisionError`** - деление на ноль"
      ]
    },
    {
      "cell_type": "markdown",
      "source": [
        "Напишем такую функцию, которая будет уметь делить на ноль.  \n",
        "И вместо ошибки возвращать бесконечность :)"
      ],
      "metadata": {
        "id": "61bXcxdZ-XPB"
      }
    },
    {
      "cell_type": "code",
      "metadata": {
        "id": "HBZZchE5L_sl",
        "colab": {
          "base_uri": "https://localhost:8080/"
        },
        "outputId": "ac736c1a-e7b7-4123-979a-39b65ac54aaa"
      },
      "source": [
        "def division(a: int, b: int):\n",
        "    try:\n",
        "        print(f\"try: Попытка деления {a} на {b} ...\")\n",
        "        res = a / b\n",
        "    except ZeroDivisionError:\n",
        "        print(\"except: Деление на ноль\")\n",
        "        return float(\"inf\")  # float(\"inf\") - бесконечность :)\n",
        "    else:\n",
        "        print(\"else: Деление успешно\")\n",
        "        return res\n",
        "    finally:\n",
        "        print(\"finally: Деление выполнено\")\n",
        "\n",
        "\n",
        "division(5, 10)\n",
        "print(\"-\" * 15)\n",
        "division(5, 0)"
      ],
      "execution_count": null,
      "outputs": [
        {
          "output_type": "stream",
          "name": "stdout",
          "text": [
            "try: Попытка деления 5 на 10 ...\n",
            "else: Деление успешно\n",
            "finally: Деление выполнено\n",
            "---------------\n",
            "try: Попытка деления 5 на 0 ...\n",
            "except: Деление на ноль\n",
            "finally: Деление выполнено\n"
          ]
        },
        {
          "output_type": "execute_result",
          "data": {
            "text/plain": [
              "inf"
            ]
          },
          "metadata": {},
          "execution_count": 31
        }
      ]
    },
    {
      "cell_type": "markdown",
      "source": [
        "#### Иерархия ошибок"
      ],
      "metadata": {
        "id": "Gmw_Fyb7_jgm"
      }
    },
    {
      "cell_type": "markdown",
      "source": [
        "В python [ошибки](https://docs.python.org/3/library/exceptions.html#exception-hierarchy) подчинены некоторой иерархии.  \n",
        "\n",
        "Данная иерархия важна, так как try-except может  \n",
        "включать в себя несколько ошибок.  \n",
        "И проверка ошибок происходит сверху вниз,  \n",
        "до первого совпадения ошибки."
      ],
      "metadata": {
        "id": "A77lT2PU_vFr"
      }
    },
    {
      "cell_type": "code",
      "metadata": {
        "id": "vb20N3M2MWWH",
        "colab": {
          "base_uri": "https://localhost:8080/"
        },
        "outputId": "ceed0271-03ab-4033-9969-9c3085acd91b"
      },
      "source": [
        "try:\n",
        "    5 / 0\n",
        "except Exception:\n",
        "    print(\"Очень общая ошибка :(\")\n",
        "except ZeroDivisionError:\n",
        "    print(\"Делить на ноль нельзя\")"
      ],
      "execution_count": null,
      "outputs": [
        {
          "output_type": "stream",
          "name": "stdout",
          "text": [
            "Очень общая ошибка :(\n"
          ]
        }
      ]
    },
    {
      "cell_type": "code",
      "source": [
        "try:\n",
        "    5 / 0\n",
        "except ZeroDivisionError:\n",
        "    print(\"Делить на ноль нельзя\")\n",
        "except Exception:  # Если и использовать Exception, то в самом конце\n",
        "    print(\"Неизвестная ошибка. Надо разбираться.\")\n"
      ],
      "metadata": {
        "colab": {
          "base_uri": "https://localhost:8080/"
        },
        "id": "3k1nvsOiAhtl",
        "outputId": "545955f6-3889-4e56-bc14-aa75b36fd1f0"
      },
      "execution_count": null,
      "outputs": [
        {
          "output_type": "stream",
          "name": "stdout",
          "text": [
            "Делить на ноль нельзя\n"
          ]
        }
      ]
    },
    {
      "cell_type": "markdown",
      "source": [
        "#### Замалчивание ошибок"
      ],
      "metadata": {
        "id": "RadVfX10-1fc"
      }
    },
    {
      "cell_type": "markdown",
      "source": [
        "PEP20:\n",
        "> Ошибки не должны замалчиваться.  \n",
        "> Если не замалчиваются явно.\n",
        "\n",
        "Так делать КАТЕГОРИЧЕСКИ НЕЛЬЗЯ!!!\n",
        "```python\n",
        "try:\n",
        "    some_func()\n",
        "except Exception:\n",
        "    ...\n",
        "```\n",
        "\n",
        "\n",
        "\n"
      ],
      "metadata": {
        "id": "EVZtyC6U_DyC"
      }
    },
    {
      "cell_type": "code",
      "source": [
        "# никакой ошибки нет, поэтому программист думает, что всё ок\n",
        "try:\n",
        "    5 / 0\n",
        "except Exception:\n",
        "    ..."
      ],
      "metadata": {
        "id": "13ej61V3trk9"
      },
      "execution_count": null,
      "outputs": []
    },
    {
      "cell_type": "markdown",
      "metadata": {
        "id": "nDfC24WK35o3"
      },
      "source": [
        "На крайний случай можно использовать функцию `print_exc`  \n",
        "из модуля traceback"
      ]
    },
    {
      "cell_type": "code",
      "metadata": {
        "id": "NP6jUTuKM_4k",
        "colab": {
          "base_uri": "https://localhost:8080/"
        },
        "outputId": "62031d67-729b-4060-c822-64b08feeffea"
      },
      "source": [
        "from traceback import print_exc\n",
        "\n",
        "\n",
        "try:\n",
        "    5 / 0\n",
        "except:\n",
        "    print_exc()"
      ],
      "execution_count": null,
      "outputs": [
        {
          "output_type": "stream",
          "name": "stderr",
          "text": [
            "Traceback (most recent call last):\n",
            "  File \"<ipython-input-35-8c6596cd0297>\", line 5, in <module>\n",
            "    5 / 0\n",
            "ZeroDivisionError: division by zero\n"
          ]
        }
      ]
    },
    {
      "cell_type": "markdown",
      "metadata": {
        "id": "Onw2apPU4IDL"
      },
      "source": [
        "### Вызов собственных ошибок"
      ]
    },
    {
      "cell_type": "markdown",
      "source": [
        "При необходимости можно специально вызвать ошибку.  \n",
        "Или ещё говорят \"поднять ошибку\".  \n",
        "Делается это с помощью ключевого слова `raise` или `assert`.  \n",
        "\n",
        "```python\n",
        "raise ValueError(\"Здесь можно указать сопровождающий текст ошибки\")  # ValueError: Здесь можно указать сопровождающий текст ошибки\n",
        "\n",
        "raise TypeError  # TypeError:\n",
        "```\n",
        "\n",
        "Ошибки типа `assert` используются, например во фреймворке [pytest](https://pytest-docs-ru.readthedocs.io/ru/latest/#),  \n",
        "который отвечает за тестирование программ.\n",
        "```python\n",
        "assert True  # OK\n",
        "\n",
        "# Если False, то будет ошибка\n",
        "assert False  # AssertionError:\n",
        "```"
      ],
      "metadata": {
        "id": "LLVr7jMjCLc_"
      }
    },
    {
      "cell_type": "markdown",
      "metadata": {
        "id": "08N-PTAIWOcO"
      },
      "source": [
        "#### Функция `isinstance`"
      ]
    },
    {
      "cell_type": "markdown",
      "metadata": {
        "id": "Oa_1InFs9OBM"
      },
      "source": [
        "Встроенная функция `isinstance` позволяет проверить  \n",
        "является ли указанный объект определенного типа.\n",
        "```python\n",
        "isinstance(object_, type_)\n",
        "```"
      ]
    },
    {
      "cell_type": "code",
      "metadata": {
        "id": "aqRIyvyV_zO6",
        "colab": {
          "base_uri": "https://localhost:8080/"
        },
        "outputId": "25c6d216-8225-47bc-9bf3-ac52394dedfa"
      },
      "source": [
        "# проверка что объет является списком\n",
        "a = [1, 2, 3]\n",
        "print(isinstance(a, list))"
      ],
      "execution_count": null,
      "outputs": [
        {
          "output_type": "stream",
          "name": "stdout",
          "text": [
            "True\n"
          ]
        }
      ]
    },
    {
      "cell_type": "code",
      "metadata": {
        "id": "CYWZx2pbVrvi",
        "colab": {
          "base_uri": "https://localhost:8080/"
        },
        "outputId": "ddf84b1b-58bc-4987-8246-653a509e50ec"
      },
      "source": [
        "# особый случай - проверка что объект является объектом класса NoneType\n",
        "b = None\n",
        "print(isinstance(b, type(None)))  # is None"
      ],
      "execution_count": null,
      "outputs": [
        {
          "output_type": "stream",
          "name": "stdout",
          "text": [
            "True\n"
          ]
        }
      ]
    },
    {
      "cell_type": "code",
      "metadata": {
        "id": "cYEoiEMK_5ql",
        "colab": {
          "base_uri": "https://localhost:8080/"
        },
        "outputId": "86618dd2-42c4-4d7f-c2ff-6641050617d4"
      },
      "source": [
        "# isinstance умеет проверять принадлежность сразу нескольким классам\n",
        "int_num = \"12e3\"\n",
        "float_num = 2.0\n",
        "\n",
        "print(isinstance(int_num, (int, float)))\n",
        "print(isinstance(float_num, (int, float)))"
      ],
      "execution_count": null,
      "outputs": [
        {
          "output_type": "stream",
          "name": "stdout",
          "text": [
            "False\n",
            "True\n"
          ]
        }
      ]
    },
    {
      "cell_type": "markdown",
      "source": [
        "##### ***Задача***"
      ],
      "metadata": {
        "id": "MszLkL77K-yb"
      }
    },
    {
      "cell_type": "markdown",
      "metadata": {
        "id": "togl8HjP4u2T"
      },
      "source": [
        "Записать функцию, которая будет складывать только положительные целые числа.\n",
        "\n",
        "```python\n",
        "# ленивая реализация\n",
        "def add_func(a: int, b: int) -> int:\n",
        "    return a + b\n",
        "```"
      ]
    },
    {
      "cell_type": "code",
      "metadata": {
        "id": "jE0kOzBDNQD6",
        "colab": {
          "base_uri": "https://localhost:8080/"
        },
        "outputId": "25f95f35-7ecb-4948-a4f3-1ca8205f5a31"
      },
      "source": [
        "def add_func(a: int, b: int) -> int:\n",
        "    if not isinstance(a, int):\n",
        "        raise TypeError(f\"У переменной a должен быть тип int, не {type(a)}\")\n",
        "    if not isinstance(b, int):\n",
        "        raise TypeError(f\"У переменной b должен быть тип int, не {type(b)}\")\n",
        "\n",
        "    if not a > 0:\n",
        "        raise ValueError(\"Число a должно быть положительным.\")\n",
        "    if b <= 0:\n",
        "        raise ValueError(\"Число b должно быть положительным.\")\n",
        "\n",
        "    return a + b\n",
        "\n",
        "add_func(1, 1)"
      ],
      "execution_count": null,
      "outputs": [
        {
          "output_type": "execute_result",
          "data": {
            "text/plain": [
              "2"
            ]
          },
          "metadata": {},
          "execution_count": 39
        }
      ]
    },
    {
      "cell_type": "markdown",
      "source": [
        "## Оформление кода"
      ],
      "metadata": {
        "id": "bjok7FEZGcG1"
      }
    },
    {
      "cell_type": "markdown",
      "source": [
        "### Документирование кода"
      ],
      "metadata": {
        "id": "p0SG_2zeZDgZ"
      }
    },
    {
      "cell_type": "markdown",
      "source": [
        "Что происходит в этой функции?\n",
        "```python\n",
        "def func(arg1, arg2):\n",
        "    if arg1 == arg2:\n",
        "        raise ValueError('arg1 must not be equal to arg2')\n",
        "\n",
        "    return True\n",
        "```\n",
        "\n",
        "Два аргумента функции не должны быть похожи друг на друга.  \n",
        "Если это не так, то функция возвращает ошибку.  \n",
        "\n",
        "Если аргументы разные, то возвращет True.\n",
        "Вот бы это описание добавить прямо в функцию...  \n",
        "и для этого в python есть **docstring**.\n",
        "\n",
        "docstring - это всегда первая строка после объявления функции.  \n",
        "\n",
        "**Вариант 1. Краткая форма.**\n",
        "```python\n",
        "def func(arg1, arg2):\n",
        "    \"\"\"Функция сравнения двух аргументов между собой.\"\"\"\n",
        "    ...\n",
        "```\n",
        "\n",
        "**Вариант 2. ReStructuredText (reST)**\n",
        "```python\n",
        "def func(arg1, arg2):\n",
        "    \"\"\"Функция сравнения двух аргументов между собой.\n",
        "\n",
        "    Подробное описание функции.\n",
        "\n",
        "    :param arg1: Описание аргумента arg1.\n",
        "    :param arg2: Описание аргумента arg2.\n",
        "    :raise: ValueError, если аргумент arg1 равен аргументу arg2\n",
        "    :return: Описание возврашаемого значения\n",
        "    \"\"\"\n",
        "    ...\n",
        "```\n",
        "\n",
        "**Вариант 3. Google code [style](https://google.github.io/styleguide/pyguide.html).**\n",
        "```python\n",
        "def func(arg1, arg2):\n",
        "    \"\"\"Функция сравнения двух аргументов между собой.\n",
        "\n",
        "    Подробное описание функции.\n",
        "\n",
        "    Args:\n",
        "        arg1: Описание аргумента arg1.\n",
        "        arg2: Описание аргумента arg2.\n",
        "\n",
        "    Returns:\n",
        "        Описание возврашаемого значения\n",
        "\n",
        "    Raises:\n",
        "        ValueError, если аргумент arg1 равен аргументу arg2\n",
        "    \"\"\"\n",
        "```\n"
      ],
      "metadata": {
        "id": "Nc-knSmHe5Hs"
      }
    },
    {
      "cell_type": "markdown",
      "source": [
        "### Тестирование кода"
      ],
      "metadata": {
        "id": "hdbVnRMHZHSi"
      }
    },
    {
      "cell_type": "markdown",
      "source": [
        "#### О видах тестирования"
      ],
      "metadata": {
        "id": "CKE9TgtjdrOA"
      }
    },
    {
      "cell_type": "markdown",
      "source": [
        "Мы будем говорить о модульном тестировании.  \n",
        "В основе модульного тестирования лежат  \n",
        "модульные тесты (**unit tests**) или **юнит-тесты**.  \n",
        "Процесс модульного тестирования позволяет проверить на корректность  \n",
        "отдельные компоненты или модули (не обязательно файлы .py)  \n",
        "исходного кода программы.  \n",
        "\n",
        "Тестирование компонентов — это когда проверяется минимально  \n",
        "возможный для тестирования компонент, например, функция.  \n",
        "Проверка компонента (модуля) как правило реализуется  \n",
        "несколькими тестами (один тест - один тестовый случай или **testcase**).  \n",
        "\n",
        "Из этого определения можно сделать вывод,  \n",
        "что входным требованием к оформлению кода,  \n",
        "является требование написания программ в виде компонентов,  \n",
        "например, функций."
      ],
      "metadata": {
        "id": "bjku3boVdfge"
      }
    },
    {
      "cell_type": "markdown",
      "source": [
        "Очень важно, тестирование было также **регрессионным**, а именно:  \n",
        "После внесения изменений в очередную версию программы,  \n",
        "регрессионные тесты подтверждают, что сделанные изменения не  \n",
        "повлияли на работоспособность остальной функциональности приложения.  \n",
        "\n",
        "Регрессионное тестирование может выполняться как вручную,  \n",
        "так и средствами автоматизации тестирования.  "
      ],
      "metadata": {
        "id": "pqTt-nMtfDpH"
      }
    },
    {
      "cell_type": "markdown",
      "source": [
        "#### Зачем писать тесты?"
      ],
      "metadata": {
        "id": "nUZl5k2sfOGp"
      }
    },
    {
      "cell_type": "markdown",
      "source": [
        "Необходимость написания тестов строится на предположении,  \n",
        "что даже в минимально сложной программе есть ошибки,  \n",
        "которые будут незамечены программистом.\n",
        "\n",
        "Разумеется, при проектировании также могут возникнуть ошибки,  \n",
        "которые следует отловить до запуска программы в промышленное использование.  \n",
        "\n",
        "Перечислим какими свойствами обладает «хороший» тест:\n",
        "- корректный (что-то проверяет, иногда падает);\n",
        "- конкретный (проверяет что-то одно);\n",
        "- понятный читателю;\n",
        "- необходимым и достаточным (тривиальные вещи, как правило, не тестируются);\n",
        "- граничные и нетипичные случаи."
      ],
      "metadata": {
        "id": "IBWM5149fWcG"
      }
    },
    {
      "cell_type": "markdown",
      "source": [
        "##### **Задача**\n",
        "\n",
        "Написать функцию, которая будет считать факториал числа n.  \n",
        "Факториал числа n - это произведение всех чисел от 1 до n включительно.  \n",
        "Факториал числа 0 равен 1 по определению.\n",
        "\n",
        "Проверить функцию с помощью doctest."
      ],
      "metadata": {
        "id": "AaLEtnMdGp5G"
      }
    },
    {
      "cell_type": "code",
      "source": [
        "import doctest\n",
        "\n",
        "\n",
        "def factorial(n: int) -> int:\n",
        "    \"\"\"Возвращает факториал целого числа n. Число n >= 0.\n",
        "\n",
        "    Примеры:\n",
        "    >>> factorial(5)\n",
        "    120\n",
        "    >>> [factorial(n) for n in range(6)]\n",
        "    [1, 1, 2, 6, 24, 120]\n",
        "\n",
        "    По определению факториал 0 равен 1\n",
        "    >>> factorial(0)\n",
        "    1\n",
        "\n",
        "    >>> factorial(30.1)\n",
        "    Traceback (most recent call last):\n",
        "        ...\n",
        "    TypeError: n must be integer, not <class 'float'>\n",
        "\n",
        "    >>> factorial(-1)\n",
        "    Traceback (most recent call last):\n",
        "        ...\n",
        "    ValueError: n must be >= 0\n",
        "    \"\"\"\n",
        "    if not isinstance(n, int):\n",
        "        raise TypeError(f\"n must be integer, not {type(n)}\")\n",
        "    if not n >= 0:\n",
        "        raise ValueError(\"n must be >= 0\")\n",
        "\n",
        "    result = 1\n",
        "    for i in range(2, n+1):\n",
        "        result *= i\n",
        "\n",
        "    return result\n",
        "\n",
        "\n",
        "doctest.testmod()  # сам ищет в документации тесты"
      ],
      "metadata": {
        "colab": {
          "base_uri": "https://localhost:8080/"
        },
        "id": "cR0HSUvEyh3j",
        "outputId": "f70df807-b0ca-4107-a6d0-bc8cba7f92ad"
      },
      "execution_count": null,
      "outputs": [
        {
          "output_type": "execute_result",
          "data": {
            "text/plain": [
              "TestResults(failed=0, attempted=5)"
            ]
          },
          "metadata": {},
          "execution_count": 41
        }
      ]
    },
    {
      "cell_type": "markdown",
      "source": [
        "### Оформление модуля"
      ],
      "metadata": {
        "id": "F66EBPGqBeI9"
      }
    },
    {
      "cell_type": "markdown",
      "source": [
        "Почему PEP8 действительно важен?\n",
        "\n",
        "> \"На самом деле соотношение времени чтения и  \n",
        "написания кода превышает 10:1\" — Роберт С. Мартин, \"Чистый код\".\n",
        "\n",
        "- ... Легко читается любым разработчиком...  \n",
        "    Соблюдение стиля названий переменных,  \n",
        "    чтобы можно было легко понять, где переменная, константа, тип данных...\n",
        "- ... Автор кода заботится о нем ...  \n",
        "    Пишет документацию, использует аннотацию типов.  \n",
        "- И куда же без тестов к своему коду :)\n",
        "\n",
        "![https://drive.google.com/file/d/1afL1waCX9kpFBymzBhnjUdh5l9biTMg2/view?usp=sharing](https://drive.google.com/uc?id=1afL1waCX9kpFBymzBhnjUdh5l9biTMg2)\n"
      ],
      "metadata": {
        "id": "Nov8yJo8HOSz"
      }
    },
    {
      "cell_type": "markdown",
      "source": [
        "Представим, что следующая ячейка с кодом - это целый модуль.  \n",
        "Тогда согласно PEP8:\n",
        "1. **Пустые строки.**  \n",
        "    Оставляйте по две пустые строки перед и  \n",
        "    после объявлений функций.  \n",
        "    Не используйте более 1 пустой строки  \n",
        "    в последовательных строках кода.\n",
        "2. **Импорт модулей.**  \n",
        "    Каждый импорт на своей линии\n",
        "    ```python\n",
        "    import os\n",
        "\n",
        "    import sys\n",
        "    ```\n",
        "\n",
        "    Но, можно импортировать несколько функций  \n",
        "    из одного модуля в одной строке\n",
        "\n",
        "    ```python\n",
        "    from numpy import arange, ndarray\n",
        "    ```\n",
        "\n",
        "3. **Порядок расположения.**  \n",
        "    1. Импорт всех модулей\n",
        "    2. Объявление всех необходимых констант\n",
        "    3. Объявление всех функций\n",
        "    4. Любую работу с кодом, вычисление на коленке, print,  \n",
        "    глобальные переменные, проверку работоспособности  \n",
        "    всё это лучше выносить в блок `if __name__ == \"__main__\":`.\n"
      ],
      "metadata": {
        "id": "wk2Gj68SNUz5"
      }
    },
    {
      "cell_type": "code",
      "source": [
        "\"\"\"Документация на целый модуль.\n",
        "\n",
        "Здесь может подробное описание зачем нужен модуль, что с ним делать.\n",
        "\n",
        "Можно приводить примеры с помощью doctest\n",
        ">>> factorial(30)\n",
        "265252859812191058636308480000000\n",
        "\"\"\"\n",
        "# Дальше идут все необходимые импорты\n",
        "import doctest\n",
        "\n",
        "# Константы, если они необходимы\n",
        "CONST_VAR = ...\n",
        "\n",
        "\n",
        "# Все функции. Функции отделяются друг от друга двумя пустыми строками\n",
        "def factorial(n: int) -> int:\n",
        "    \"\"\"Возвращает факториал целого числа n. Число n >= 0.\n",
        "\n",
        "    Примеры:\n",
        "    >>> factorial(5)\n",
        "    120\n",
        "    >>> [factorial(n) for n in range(6)]\n",
        "    [1, 1, 2, 6, 24, 120]\n",
        "\n",
        "    По определению факториал 0 равен 1\n",
        "    >>> factorial(0)\n",
        "    1\n",
        "\n",
        "    >>> factorial(30.1)\n",
        "    Traceback (most recent call last):\n",
        "        ...\n",
        "    TypeError: n must be integer, not <class 'float'>\n",
        "\n",
        "    >>> factorial(-1)\n",
        "    Traceback (most recent call last):\n",
        "        ...\n",
        "    ValueError: n must be >= 0\n",
        "    \"\"\"\n",
        "    if not isinstance(n, int):\n",
        "        raise TypeError(f\"n must be integer, not {type(n)}\")\n",
        "    if not n >= 0:\n",
        "        raise ValueError(\"n must be >= 0\")\n",
        "\n",
        "    # между логически разделенными кусками кода можно осталять одну пустую строку\n",
        "    result = 1\n",
        "    for i in range(2, n+1):\n",
        "        result *= i\n",
        "\n",
        "    return result\n",
        "\n",
        "\n",
        "# определяет \"точку входа\" при работе, откуда надо начинать распутывать \"клубок\" кода\n",
        "if __name__ == \"__main__\":\n",
        "    doctest.testmod()  # Основной целью скрипта является unit-тестирование\n"
      ],
      "metadata": {
        "id": "eB960rbMBc2W"
      },
      "execution_count": null,
      "outputs": []
    }
  ]
}