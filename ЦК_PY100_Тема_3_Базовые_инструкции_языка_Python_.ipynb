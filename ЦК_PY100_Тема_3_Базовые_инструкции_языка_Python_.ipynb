{
  "nbformat": 4,
  "nbformat_minor": 0,
  "metadata": {
    "colab": {
      "provenance": []
    },
    "kernelspec": {
      "name": "python3",
      "display_name": "Python 3"
    },
    "language_info": {
      "name": "python"
    }
  },
  "cells": [
    {
      "cell_type": "markdown",
      "source": [
        "## Условная инструкция if и синтаксические правила."
      ],
      "metadata": {
        "id": "2vM1cBbVGdk-"
      }
    },
    {
      "cell_type": "markdown",
      "metadata": {
        "id": "LL65mmZHYrOV"
      },
      "source": [
        "### Обзор основных управляющих инструкций языка Python."
      ]
    },
    {
      "cell_type": "markdown",
      "source": [
        "Основные управляющие конструкции предтавляют из себя:\n",
        "- Данные (ввод-вывод): `input` и `print`\n",
        "- Предопределённый процесс - функция\n",
        "- Вопрос или условие - `if/else`\n",
        "- Циклы - `for` или `else`\n",
        "\n",
        "Сейчас будем разбирать **условия** и **циклы**.  "
      ],
      "metadata": {
        "id": "ykd5fGx8Lor9"
      }
    },
    {
      "cell_type": "markdown",
      "metadata": {
        "id": "IpBAF4srYvi0"
      },
      "source": [
        "Для структурирования и визиализации программ  \n",
        "можно использовать блок-схемы.\n",
        "\n",
        "**Блок-схема** — распространённый тип графических схем,  \n",
        "описывающих алгоритмы или процессы,  \n",
        "в которых отдельные шаги изображаются  \n",
        "в виде блоков различной формы,  \n",
        "соединённых между собой линиями,  \n",
        "указывающими направление последовательности.\n",
        "\n",
        "***Примечание***:  \n",
        "Подробнее изучить составные элементы  \n",
        "блок-схем вы можете в [данном](http://videoege.ru/informatika/elementy-blok-shem) материале.  \n",
        "А с помощью [данного](https://app.diagrams.net/) бесплатного сервиса  \n",
        "можно составлять блок-схемы."
      ]
    },
    {
      "cell_type": "markdown",
      "source": [
        "### Конструкция if, конструкция if – else."
      ],
      "metadata": {
        "id": "V6RJwa82OL6z"
      }
    },
    {
      "cell_type": "markdown",
      "source": [
        "**Логическая переменная** – это простое высказывание, содержащее только  \n",
        "одну мысль, про которую можно сказать истина она (`True`) или ложна (`False`).  \n",
        "В python это тип данных `bool`."
      ],
      "metadata": {
        "id": "K_M1uy_xUcZX"
      }
    },
    {
      "cell_type": "markdown",
      "source": [
        "#### Условный оператор"
      ],
      "metadata": {
        "id": "xHBGY6zmHeC3"
      }
    },
    {
      "cell_type": "markdown",
      "metadata": {
        "id": "oQvN4SdtY2aZ"
      },
      "source": [
        "Условный оператор позволяет выполнять определенные  \n",
        "вами инструкции при некотором условии.  \n",
        "Условие задается логическим выражением, которое может принимать  \n",
        "два значения \"истина\" или \"ложь\", и в зависимости от этого  \n",
        "выполнять какие-то действия или наоборот пропускать их.\n",
        "\n",
        "```python\n",
        "if Условие:\n",
        "    # Начало блока кода. Выполнится, если условие True.\n",
        "    # Один отступ вправо от уровня объявления условного оператора\n",
        "    ...\n",
        "    # Конец блока кода\n",
        "else:\n",
        "    # Начало блока кода. Выполнится, если условие False.\n",
        "    # Один отступ вправо от уровня объявления условного оператора\n",
        "    ...\n",
        "    # Конец блока кода\n",
        "\n",
        "# Код который будет выполняться после условного оператора. Один отступ влево, чтобы закончить объявление цикла\n",
        "```\n"
      ]
    },
    {
      "cell_type": "markdown",
      "metadata": {
        "id": "HKJB8VfQZyCZ"
      },
      "source": [
        "![https://app.diagrams.net/#G1ZVt296z72aIz-9Zn8WLWAJn1icdGCbDB](https://drive.google.com/uc?id=1ZVt296z72aIz-9Zn8WLWAJn1icdGCbDB)\n",
        "\n",
        "![](https://drive.google.com/uc?id=1gzlW7-V_X42MyImdsuVo7ra4eUZbLMH0)"
      ]
    },
    {
      "cell_type": "code",
      "metadata": {
        "colab": {
          "base_uri": "https://localhost:8080/"
        },
        "id": "Wwr7qEdjYzy2",
        "outputId": "371589fe-4ef5-43f1-f0f2-2989db05bb55"
      },
      "source": [
        "is_rainy = True  # дождь будет\n",
        "\n",
        "if is_rainy:\n",
        "    print('Беру зонт')\n",
        "    print('Надеть сапоги')\n",
        "else:\n",
        "    print('Не беру зонт')\n",
        "\n",
        "print('Иду гулять')"
      ],
      "execution_count": null,
      "outputs": [
        {
          "output_type": "stream",
          "name": "stdout",
          "text": [
            "Беру зонт\n",
            "Надеть сапоги\n",
            "Иду гулять\n"
          ]
        }
      ]
    },
    {
      "cell_type": "code",
      "source": [
        "is_rainy = False  # дождя не будет\n",
        "\n",
        "if is_rainy:\n",
        "    print('Беру зонт')\n",
        "    print('Одеваю сапоги')\n",
        "else:\n",
        "    print('Не беру зонт')\n",
        "\n",
        "print('Иду гулять')"
      ],
      "metadata": {
        "colab": {
          "base_uri": "https://localhost:8080/"
        },
        "id": "7CArcK-4bSZ7",
        "outputId": "3bcbe285-d3fd-4afa-a4e9-0764e0e30eb2"
      },
      "execution_count": null,
      "outputs": [
        {
          "output_type": "stream",
          "name": "stdout",
          "text": [
            "Не беру зонт\n",
            "Иду гулять\n"
          ]
        }
      ]
    },
    {
      "cell_type": "markdown",
      "source": [
        "Часть `else` не является обязательной.  \n",
        "При необходимости её можно опустить."
      ],
      "metadata": {
        "id": "fzqW64OeF7ZO"
      }
    },
    {
      "cell_type": "markdown",
      "source": [
        "Если будет дождь, то надо взять зонт,  \n",
        "в противном случае делать ничего не надо."
      ],
      "metadata": {
        "id": "-ZC-zKh1GmuV"
      }
    },
    {
      "cell_type": "code",
      "source": [
        "is_rainy = True  # дождь будет\n",
        "\n",
        "if is_rainy:\n",
        "    print('Беру зонт')\n",
        "print('Иду гулять')"
      ],
      "metadata": {
        "colab": {
          "base_uri": "https://localhost:8080/"
        },
        "id": "UlE_t8tNHCzY",
        "outputId": "0c0c7990-7d34-4d4e-ecac-2764815f4164"
      },
      "execution_count": null,
      "outputs": [
        {
          "output_type": "stream",
          "name": "stdout",
          "text": [
            "Беру зонт\n",
            "Иду гулять\n"
          ]
        }
      ]
    },
    {
      "cell_type": "markdown",
      "source": [
        "Если дождя не будет,  \n",
        "то и делать ничего не надо."
      ],
      "metadata": {
        "id": "aGW9jDGFHHRK"
      }
    },
    {
      "cell_type": "code",
      "source": [
        "is_rainy = False  # дождя не будет\n",
        "\n",
        "if is_rainy:  # Ничего распечатано не будет\n",
        "    print('Беру зонт')\n",
        "print('Иду гулять')"
      ],
      "metadata": {
        "id": "Iw2IYhh6sPBq",
        "colab": {
          "base_uri": "https://localhost:8080/"
        },
        "outputId": "e3ec77ad-01c7-4a9f-ee49-29477ea2e82e"
      },
      "execution_count": null,
      "outputs": [
        {
          "output_type": "stream",
          "name": "stdout",
          "text": [
            "Иду гулять\n"
          ]
        }
      ]
    },
    {
      "cell_type": "markdown",
      "metadata": {
        "id": "NJPqjTrMaLZO"
      },
      "source": [
        "#### Вложенный условный оператор"
      ]
    },
    {
      "cell_type": "markdown",
      "metadata": {
        "id": "dROR-14zaVkM"
      },
      "source": [
        "![unnamed.png](data:image/png;base64,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)"
      ]
    },
    {
      "cell_type": "code",
      "metadata": {
        "id": "yxeVLnrVaM-e",
        "colab": {
          "base_uri": "https://localhost:8080/"
        },
        "outputId": "506f96a9-e6b0-45f5-9f04-c991d139149e"
      },
      "source": [
        "is_rainy = True  # дождь будет\n",
        "heavy_rain = False  # не сильный дождь\n",
        "\n",
        "if is_rainy:\n",
        "    if heavy_rain:\n",
        "        print('Беру зонт')\n",
        "    else:\n",
        "        print(\"Беру дождевик\")\n",
        "else:\n",
        "    print('Не беру зонт')\n",
        "print('Иду гулять')"
      ],
      "execution_count": null,
      "outputs": [
        {
          "output_type": "stream",
          "name": "stdout",
          "text": [
            "Беру дождевик\n",
            "Иду гулять\n"
          ]
        }
      ]
    },
    {
      "cell_type": "code",
      "source": [
        "is_rainy = True  # дождь будет\n",
        "heavy_rain = True  # сильный дождь\n",
        "\n",
        "if is_rainy:\n",
        "    if heavy_rain:\n",
        "        print('Беру зонт')\n",
        "    else:\n",
        "        print(\"Беру дождевик\")\n",
        "else:\n",
        "    print('Не беру зонт')\n",
        "print('Иду гулять')"
      ],
      "metadata": {
        "colab": {
          "base_uri": "https://localhost:8080/"
        },
        "id": "74jv4bm5VW80",
        "outputId": "c9ecf3eb-cf95-4c30-bed9-161aa6630697"
      },
      "execution_count": null,
      "outputs": [
        {
          "output_type": "stream",
          "name": "stdout",
          "text": [
            "Беру зонт\n",
            "Иду гулять\n"
          ]
        }
      ]
    },
    {
      "cell_type": "markdown",
      "source": [
        "### Проверка истинности."
      ],
      "metadata": {
        "id": "tbGO0644f2ZE"
      }
    },
    {
      "cell_type": "markdown",
      "source": [
        "Теперь рассмотрим, а как же можно получить  \n",
        "те самые логичекие переменные `True` или `False`.  \n",
        "Как заставить программу саму принимать решение."
      ],
      "metadata": {
        "id": "amw9tMbkbMCq"
      }
    },
    {
      "cell_type": "markdown",
      "source": [
        "#### Операторы сравнения"
      ],
      "metadata": {
        "id": "4UzU2BhavPnh"
      }
    },
    {
      "cell_type": "markdown",
      "source": [
        "1. **`<`** - Меньше — условие верно, если первый операнд меньше второго.\n",
        "1. **`>`** - Больше — условие верно, если первый операнд больше второго.\n",
        "1. **`<=`** - Меньше или равно.\n",
        "1. **`>=`** - Больше или равно.\n",
        "1. **`==`** - Равенство. Условие верно, если два операнда равны.\n",
        "1. **`!=`** - Неравенство. Условие верно, если два операнда неравны.\n",
        "\n"
      ],
      "metadata": {
        "id": "7I110UjvUk8X"
      }
    },
    {
      "cell_type": "code",
      "source": [
        "print(\"Пять больше трех?\", 5 > 3)  # True\n",
        "\n",
        "print(\"Длина слова равна 1?\", len(\"Hello\") == 1)  # False\n",
        "\n",
        "print(\"7 не равно 12?\", 7 != 12)  # True"
      ],
      "metadata": {
        "colab": {
          "base_uri": "https://localhost:8080/"
        },
        "id": "khzn5ToWpOY1",
        "outputId": "e85f791d-fe13-4433-8edf-841fc9553229"
      },
      "execution_count": null,
      "outputs": [
        {
          "output_type": "stream",
          "name": "stdout",
          "text": [
            "Пять больше трех? True\n",
            "Длина слова равна 1? False\n",
            "7 не равно 12? True\n"
          ]
        }
      ]
    },
    {
      "cell_type": "markdown",
      "source": [
        "##### ***Задача***"
      ],
      "metadata": {
        "id": "kiJCZqBjHT9s"
      }
    },
    {
      "cell_type": "markdown",
      "metadata": {
        "id": "M18ycYC6Z_fY"
      },
      "source": [
        "Что будет напечатано в результате выполнения данного куска кода?"
      ]
    },
    {
      "cell_type": "code",
      "metadata": {
        "id": "HqaKJ0v5Zo-7",
        "outputId": "cce7a862-31a5-45e9-c523-8341495e9de7",
        "colab": {
          "base_uri": "https://localhost:8080/"
        }
      },
      "source": [
        "s = 5\n",
        "a = 1\n",
        "\n",
        "if a > 0:\n",
        "   s += a  # s = s + a\n",
        "else:\n",
        "   s -= a  # s = s - a\n",
        "\n",
        "print(s)"
      ],
      "execution_count": null,
      "outputs": [
        {
          "output_type": "stream",
          "name": "stdout",
          "text": [
            "6\n"
          ]
        }
      ]
    },
    {
      "cell_type": "markdown",
      "source": [
        "#### Операторы `in` и `is`"
      ],
      "metadata": {
        "id": "RxJAvcjuvWZy"
      }
    },
    {
      "cell_type": "markdown",
      "source": [
        "![https://app.diagrams.net/?title=logical_operators_in__is.png&client=1#G1GtwodgNbOII1VnTJ30Mf1eY_IPWJ3t4o](https://drive.google.com/uc?id=1GtwodgNbOII1VnTJ30Mf1eY_IPWJ3t4o)"
      ],
      "metadata": {
        "id": "OfiCF463Txmg"
      }
    },
    {
      "cell_type": "code",
      "source": [
        "list_ = [1, 2, 3, 4, 5]\n",
        "\n",
        "print(\"В списке есть число 7?\", 7 in list_)  # False"
      ],
      "metadata": {
        "colab": {
          "base_uri": "https://localhost:8080/"
        },
        "id": "DTTUINJsrt29",
        "outputId": "dd594060-4728-41b8-9983-c52e87b42500"
      },
      "execution_count": null,
      "outputs": [
        {
          "output_type": "stream",
          "name": "stdout",
          "text": [
            "В списке есть число 7? False\n"
          ]
        }
      ]
    },
    {
      "cell_type": "markdown",
      "source": [
        "Eсли вы хотите проверить,  \n",
        "что за какой-то переменной скрывается именно **`None`**,  \n",
        "то следует использовать оператор **`is`**. (см. [PEP8](https://pythonworld.ru/osnovy/pep-8-rukovodstvo-po-napisaniyu-koda-na-python.html#section-31))\n",
        "\n",
        "```python\n",
        "some_var is None\n",
        "```\n",
        "\n",
        "Связано это с особенностью типа данных **`None`**.  \n",
        "В отличии от других типов данных, значение **`None`**  \n",
        "содержится всегда в единственном экземпляре. (см. [Одиночка (Singleton)](https://ru.wikipedia.org/wiki/%D0%9E%D0%B4%D0%B8%D0%BD%D0%BE%D1%87%D0%BA%D0%B0_(%D1%88%D0%B0%D0%B1%D0%BB%D0%BE%D0%BD_%D0%BF%D1%80%D0%BE%D0%B5%D0%BA%D1%82%D0%B8%D1%80%D0%BE%D0%B2%D0%B0%D0%BD%D0%B8%D1%8F)#Python))  "
      ],
      "metadata": {
        "id": "dAJY6b5b8HPc"
      }
    },
    {
      "cell_type": "code",
      "source": [
        "some_var = None\n",
        "other_var = None\n",
        "\n",
        "print(some_var is other_var)  # True"
      ],
      "metadata": {
        "colab": {
          "base_uri": "https://localhost:8080/"
        },
        "id": "msg8osTRvne9",
        "outputId": "9e21677b-1477-4a77-8422-8923d31e0014"
      },
      "execution_count": null,
      "outputs": [
        {
          "output_type": "stream",
          "name": "stdout",
          "text": [
            "True\n"
          ]
        }
      ]
    },
    {
      "cell_type": "markdown",
      "source": [
        "##### ***Задача. Проверка вхождения подстроки.***\n",
        "\n",
        "Проверить вхождение подстроки в строку."
      ],
      "metadata": {
        "id": "Jr7gmeALP8Zl"
      }
    },
    {
      "cell_type": "code",
      "source": [
        "str_ = \"Строка с цифрой 1\"\n",
        "\n",
        "is_substr = \"Строка\" in str_  # True\n",
        "print(\"В строке есть слово Строка?\", is_substr)"
      ],
      "metadata": {
        "colab": {
          "base_uri": "https://localhost:8080/"
        },
        "id": "L9PztV0ZqLFE",
        "outputId": "40e8ea2b-07fe-42d9-f43c-f911bcd60149"
      },
      "execution_count": null,
      "outputs": [
        {
          "output_type": "stream",
          "name": "stdout",
          "text": [
            "В строке есть слово Строка? True\n"
          ]
        }
      ]
    },
    {
      "cell_type": "markdown",
      "source": [
        "#### Логические операторы"
      ],
      "metadata": {
        "id": "iE55JvjRwfTx"
      }
    },
    {
      "cell_type": "markdown",
      "source": [
        "![https://app.diagrams.net/#G1S0w0CYbxr9396mcrRTluj3Yxhwv9Giq7](https://drive.google.com/uc?id=1S0w0CYbxr9396mcrRTluj3Yxhwv9Giq7)"
      ],
      "metadata": {
        "id": "CnFZLUi7f7Pq"
      }
    },
    {
      "cell_type": "markdown",
      "source": [
        "**Логическая функция** - составное высказывание, которое содержит  \n",
        "несколько простых мыслей, соединенных между собой с помощью логических операторов.  \n",
        "Результат логической функции - `True` или `False`.\n",
        "\n",
        "1. 5 < Y < 10  \n",
        "    **[(Y > 5) \"И\" (Y < 10)]**\n",
        "\n",
        "2. Какое-то из чисел X, Y положительно.  \n",
        "    **[(X > 0) \"ИЛИ\" (Y > 0) \"ИЛИ\" [(X > 0) \"И\" (Y > 0))]]**"
      ],
      "metadata": {
        "id": "4Hd_AMDih_Ma"
      }
    },
    {
      "cell_type": "markdown",
      "source": [
        "![image.png](data:image/png;base64,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)"
      ],
      "metadata": {
        "id": "DnP8W1IugVZq"
      }
    },
    {
      "cell_type": "markdown",
      "metadata": {
        "id": "kekoNYV2atz_"
      },
      "source": [
        "##### ***Задача:***\n",
        "\n",
        "Записать условие проверки целого числа А, является ли оно кратным двум и трем.\n"
      ]
    },
    {
      "cell_type": "code",
      "metadata": {
        "id": "lhxq9JM4asah",
        "colab": {
          "base_uri": "https://localhost:8080/"
        },
        "outputId": "c355851e-3c0b-4ef0-86f1-8e9c1a238076"
      },
      "source": [
        "number = 12\n",
        "\n",
        "condition_1 = number % 2 == 0  # число кратно 2\n",
        "condition_2 = number % 3 == 0  # число кратно 3\n",
        "\n",
        "if condition_1 and condition_2:\n",
        "    print('Число кратно 2 и 3')\n",
        "else:\n",
        "    print('Число не (кратно 2 и 3)')\n"
      ],
      "execution_count": null,
      "outputs": [
        {
          "output_type": "stream",
          "name": "stdout",
          "text": [
            "Число кратно 2 и 3\n"
          ]
        }
      ]
    },
    {
      "cell_type": "markdown",
      "source": [
        "##### ***Задача:***\n",
        "\n",
        "Написать условие для определения, является ли данный месяц зимним."
      ],
      "metadata": {
        "id": "i6ZR-0uBDwex"
      }
    },
    {
      "cell_type": "code",
      "metadata": {
        "colab": {
          "base_uri": "https://localhost:8080/"
        },
        "id": "R7Iw0I669VdD",
        "outputId": "7b430523-396d-4889-c146-6cd67eef2ad0"
      },
      "source": [
        "mount = 12\n",
        "\n",
        "# символ \\ позволяет визуально разбить команду, для интерпретатора это одна строка\n",
        "bad_condition = \\\n",
        "    mount == 12 or \\\n",
        "    mount == 1 or \\\n",
        "    mount == 2  # Очень плохая запись условия\n",
        "\n",
        "good_condition = mount in [12, 1, 2]  # При множественном сравнении лучше использовать in\n",
        "\n",
        "if good_condition:\n",
        "    print(\"Зима!!!\")"
      ],
      "execution_count": null,
      "outputs": [
        {
          "output_type": "stream",
          "name": "stdout",
          "text": [
            "Зима!!!\n"
          ]
        }
      ]
    },
    {
      "cell_type": "markdown",
      "source": [
        "#### Цепочки операторов"
      ],
      "metadata": {
        "id": "j6_7X5v02UB9"
      }
    },
    {
      "cell_type": "markdown",
      "source": [
        "Python поддерживает такое понятие как цепочки операторов.  \n",
        "При последовательном указании операторов сравнения, `in` и `is`  \n",
        "между ними ставится оператор `and`."
      ],
      "metadata": {
        "id": "zSdc2K4iFQbY"
      }
    },
    {
      "cell_type": "code",
      "source": [
        "str_1 = 'test'\n",
        "str_2 = \"test\"\n",
        "str_3 = '''test'''\n",
        "str_4 = \"\"\"test\"\"\"\n",
        "\n",
        "print(str_1 == str_2 == str_3 == str_4)\n",
        "print(\n",
        "    (str_1 == str_2)\n",
        "    and (str_2 == str_3)\n",
        "    and (str_3 == str_4)\n",
        ")"
      ],
      "metadata": {
        "colab": {
          "base_uri": "https://localhost:8080/"
        },
        "id": "Dkn_wnlCFJt0",
        "outputId": "a71e499d-6011-450f-b848-db9f0fc3f4a5"
      },
      "execution_count": null,
      "outputs": [
        {
          "output_type": "stream",
          "name": "stdout",
          "text": [
            "True\n",
            "True\n"
          ]
        }
      ]
    },
    {
      "cell_type": "markdown",
      "metadata": {
        "id": "ev2A6MndbO63"
      },
      "source": [
        "##### ***Задача:***\n",
        "\n",
        "Написать условие для определения, является ли данное время суток утром.  \n",
        "Утром считается временной промежуток с 6 включительно и до 12 часов не включительно."
      ]
    },
    {
      "cell_type": "code",
      "metadata": {
        "id": "tvFNmH-9b7ad",
        "colab": {
          "base_uri": "https://localhost:8080/"
        },
        "outputId": "09a80fe3-76ee-415b-bdc9-349130daead5"
      },
      "source": [
        "hour = 7\n",
        "\n",
        "bad_condition = (6 <= hour) and (hour < 12)  # Плохая запись условия\n",
        "good_condition = 6 <= hour < 12  # цепочки операторов всегда соединяются через AND\n",
        "\n",
        "if good_condition:\n",
        "    print(\"Утро!!!\")"
      ],
      "execution_count": null,
      "outputs": [
        {
          "output_type": "stream",
          "name": "stdout",
          "text": [
            "Утро!!!\n"
          ]
        }
      ]
    },
    {
      "cell_type": "markdown",
      "source": [
        "#### Приоритет логических операторов"
      ],
      "metadata": {
        "id": "9VL0lYd-xA7g"
      }
    },
    {
      "cell_type": "markdown",
      "source": [
        "Приоритет логических операторов:\n",
        "1. Первая очередь\n",
        "    1. **`in`**, **`not in`** - Проверка принадлежности\n",
        "    1. **`is`**, **`is not`** - Проверка тождественности\n",
        "    1. **`<`** - Меньше — условие верно, если первый операнд меньше второго.\n",
        "    1. **`>`** - Больше — условие верно, если первый операнд больше второго.\n",
        "    1. **`<=`** - Меньше или равно.\n",
        "    1. **`>=`** - Больше или равно.\n",
        "    1. **`==`** - Равенство. Условие верно, если два операнда равны.\n",
        "    1. **`!=`** - Неравенство. Условие верно, если два операнда неравны.\n",
        "1. Вторая очередь  \n",
        "    **`not x`** - логическое \"НЕ\" или отрицание\n",
        "1. Третья очередь  \n",
        "    **`and`** - логическое \"И\" или \"умножение\"\n",
        "1. Четвертая очередь  \n",
        "    **`or`** - логическое \"ИЛИ\" или \"сложение\""
      ],
      "metadata": {
        "id": "Rx79B6fjlYNO"
      }
    },
    {
      "cell_type": "code",
      "source": [
        "# Посчитаем пример\n",
        "example = (2 > 3) and (2 < 2) or (1 != 5) and (not (5 < 3) or (3 == 1))\n",
        "\n",
        "my_result = False and False or True and (not False or False)\n",
        "my_result = False and False or True and (True or False)\n",
        "my_result = (False and False) or (True and True)\n",
        "my_result = False or True\n",
        "my_result = True\n",
        "\n",
        "print(example)\n",
        "print(my_result)\n",
        "print(example == my_result)"
      ],
      "metadata": {
        "colab": {
          "base_uri": "https://localhost:8080/"
        },
        "id": "9s-4PeZHgc9E",
        "outputId": "3453c3bb-1386-49ec-b898-bc48b0c42d24"
      },
      "execution_count": null,
      "outputs": [
        {
          "output_type": "stream",
          "name": "stdout",
          "text": [
            "True\n",
            "True\n",
            "True\n"
          ]
        }
      ]
    },
    {
      "cell_type": "markdown",
      "source": [
        "##### ***Задача***\n",
        "Входят ли в список [5, 6, 7, 8, 9] числа 4 и 8?\n",
        "\n",
        "Может показаться, что данную задачу можно решить следующим способом:\n"
      ],
      "metadata": {
        "id": "7DR3G6U6y0mI"
      }
    },
    {
      "cell_type": "code",
      "source": [
        "list_ = [5, 6, 7, 8, 9]\n",
        "\n",
        "result = 4 and 8 in list_\n",
        "print(result)"
      ],
      "metadata": {
        "colab": {
          "base_uri": "https://localhost:8080/"
        },
        "id": "Q1lgtIavy0GK",
        "outputId": "f1016001-0543-4a75-a524-dbd2b7fc6b02"
      },
      "execution_count": null,
      "outputs": [
        {
          "output_type": "stream",
          "name": "stdout",
          "text": [
            "True\n"
          ]
        }
      ]
    },
    {
      "cell_type": "code",
      "source": [
        "list_ = [5, 6, 7, 8, 9]\n",
        "\n",
        "result = (4 in list_) and (8 in list_)\n",
        "print(result)"
      ],
      "metadata": {
        "colab": {
          "base_uri": "https://localhost:8080/"
        },
        "id": "Co5Pbi9o33RP",
        "outputId": "7ced2446-b6ac-4d4a-da24-92ab8884c722"
      },
      "execution_count": null,
      "outputs": [
        {
          "output_type": "stream",
          "name": "stdout",
          "text": [
            "False\n"
          ]
        }
      ]
    },
    {
      "cell_type": "markdown",
      "source": [
        "**Примечание**:  \n",
        "С особенностями работы операторов `and` и `or` можно ознакомиться [здесь](https://www.opennet.ru/docs/RUS/diveinto_python/apihelper_andor.html)"
      ],
      "metadata": {
        "id": "cFrf8kwL1mNN"
      }
    },
    {
      "cell_type": "markdown",
      "metadata": {
        "id": "zAQ-NY33D4KX"
      },
      "source": [
        "#### Приведение к булевскому типу. Рекомендации PEP8"
      ]
    },
    {
      "cell_type": "markdown",
      "metadata": {
        "id": "9AqPIczfZRh1"
      },
      "source": [
        "<img src=\"https://drive.google.com/uc?id=1XeMpwwgDQze2Ad0K7owD3iO5yJFb0LPd\"/>\n",
        "\n",
        "Чтобы проверить чему будет приведен тот или иной тип,  \n",
        "то можете воспользоваться встроенной функцией `bool`"
      ]
    },
    {
      "cell_type": "code",
      "metadata": {
        "colab": {
          "base_uri": "https://localhost:8080/"
        },
        "id": "wJrkEe6HxDRy",
        "outputId": "dbf79e4c-414a-4fab-fc9b-6a274e725679"
      },
      "source": [
        "print(bool(0))  # False\n",
        "print(bool(1))  # True"
      ],
      "execution_count": null,
      "outputs": [
        {
          "output_type": "stream",
          "name": "stdout",
          "text": [
            "False\n",
            "True\n"
          ]
        }
      ]
    },
    {
      "cell_type": "code",
      "metadata": {
        "colab": {
          "base_uri": "https://localhost:8080/"
        },
        "id": "SA_Qm5iDZZzN",
        "outputId": "883df155-9b01-419e-b6ea-1c4fde348b9a"
      },
      "source": [
        "print(bool(\"\")) # False\n",
        "print(bool(\"1\"))  # True"
      ],
      "execution_count": null,
      "outputs": [
        {
          "output_type": "stream",
          "name": "stdout",
          "text": [
            "False\n",
            "True\n"
          ]
        }
      ]
    },
    {
      "cell_type": "code",
      "metadata": {
        "colab": {
          "base_uri": "https://localhost:8080/"
        },
        "id": "Z0ecpoJ-ZczD",
        "outputId": "46c2313d-0538-4c27-b119-4295c7e2583a"
      },
      "source": [
        "print(bool([])) # False\n",
        "print(bool([1]))  # True"
      ],
      "execution_count": null,
      "outputs": [
        {
          "output_type": "stream",
          "name": "stdout",
          "text": [
            "False\n",
            "True\n"
          ]
        }
      ]
    },
    {
      "cell_type": "markdown",
      "source": [
        "Рассмотрим выжимку из [PEP8](https://pythonworld.ru/osnovy/pep-8-rukovodstvo-po-napisaniyu-koda-na-python.html#section-31) относительно  \n",
        "работы с логическими переменными."
      ],
      "metadata": {
        "id": "PfxAdtHTSEBx"
      }
    },
    {
      "cell_type": "markdown",
      "source": [
        "Сравнения с `None` должны обязательно выполняться  \n",
        "с использованием операторов `is` или `is not`,  \n",
        "а не с помощью операторов сравнения.\n",
        "```python\n",
        "condition = ...  # True / False / None\n",
        "if condition:\n",
        "    print(\"True\")\n",
        "else:\n",
        "    print(\"False or None\")\n",
        "```\n",
        "\n",
        "```python\n",
        "condition = ...  # True / False / None\n",
        "if condition is None:\n",
        "    print(\"None\")\n",
        "else:\n",
        "    print(\"True or False\")\n",
        "```"
      ],
      "metadata": {
        "id": "5qK7Gti1QxH5"
      }
    },
    {
      "cell_type": "markdown",
      "metadata": {
        "id": "FXoW22T9yLlh"
      },
      "source": [
        "Для последовательностей (строк, списков, кортежей)  \n",
        "используйте тот факт, что пустая последовательность есть `False`\n",
        "```python\n",
        "# Плохо\n",
        "if password == \"\":\n",
        "   print(\"Вы забыли ввести пароль\")\n",
        "else:\n",
        "   ...\n",
        "\n",
        "# Очень плохо\n",
        "if len(password) == 0:\n",
        "   print(\"Вы забыли ввести пароль\")\n",
        "else:\n",
        "   ...\n",
        "\n",
        "# Хорошо\n",
        "if not password:\n",
        "   print(\"Вы забыли ввести пароль\")\n",
        "else:\n",
        "   ...\n",
        "```\n",
        "\n",
        "```python\n",
        "# Хорошо\n",
        "list_ = []\n",
        "\n",
        "if not list_:\n",
        "    ...\n",
        "\n",
        "if list_:\n",
        "    ...\n",
        "\n",
        "# Плохо\n",
        "if len(list_)\n",
        "    ...\n",
        "\n",
        "if not len(list_)\n",
        "    ...\n",
        "```"
      ]
    },
    {
      "cell_type": "markdown",
      "metadata": {
        "id": "XbxBSZpByYG7"
      },
      "source": [
        "Не сравнивайте логические типы с `True` и `False` с помощью ==\n",
        "```python\n",
        "bool_ = True\n",
        "\n",
        "# Хорошо\n",
        "if bool_:\n",
        "    ...\n",
        "\n",
        "# Плохо\n",
        "if bool_ == True:\n",
        "    ...\n",
        "\n",
        "# Совсем неправильно\n",
        "if bool_ is True:\n",
        "    ...\n",
        "```"
      ]
    },
    {
      "cell_type": "markdown",
      "metadata": {
        "id": "clQl2uYIeF6b"
      },
      "source": [
        "### Конструкция if-elif-else"
      ]
    },
    {
      "cell_type": "markdown",
      "metadata": {
        "id": "UIa3247DeLU5"
      },
      "source": [
        "Иногда необходимо сравнивать значения по порядку.  \n",
        "И в случае выполнения какого-либо условия,  \n",
        "все оставшиеся условия проверять не нужно.  \n",
        "Так вот в этом случае на помощью конструкция  \n",
        "`if-elif-...-else`.\n",
        "\n",
        "![pasted image 0 (1).png](data:image/png;base64,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)  \n",
        "\n",
        "\n"
      ]
    },
    {
      "cell_type": "markdown",
      "source": [
        "Например:  \n",
        "Записать условие проверки, является ли заданное число больше 10\n",
        "\n",
        "```python\n",
        "# Плохо\n",
        "if a > 10:\n",
        "    print('a больше 10')\n",
        "else:\n",
        "    if a < 10:\n",
        "        print('a меньше 10')\n",
        "    else:\n",
        "        print('a равно 10')\n",
        "```\n",
        "\n",
        "```python\n",
        "# Хорошо\n",
        "if a > 10:\n",
        "    print('a больше 10')\n",
        "elif a < 10:\n",
        "    print('a меньше 10')\n",
        "else:\n",
        "    print('a равно 10')\n",
        "```"
      ],
      "metadata": {
        "id": "ksuabFDvEkLm"
      }
    },
    {
      "cell_type": "markdown",
      "metadata": {
        "id": "R4UhZTjnFVaj"
      },
      "source": [
        "##### ***Задача:***\n",
        "\n",
        "Записать условие проверки целого числа А, является ли оно кратным двум или трем.\n"
      ]
    },
    {
      "cell_type": "code",
      "metadata": {
        "colab": {
          "base_uri": "https://localhost:8080/"
        },
        "outputId": "36d69b8d-af01-40f1-a5de-f10b3e83eddc",
        "id": "OVVp-htMFVaj"
      },
      "source": [
        "number = 12\n",
        "\n",
        "condition_1 = number % 2 == 0  # число кратно 2\n",
        "condition_2 = number % 3 == 0  # число кратно 3\n",
        "\n",
        "if condition_1 or condition_2:\n",
        "    print('Число кратно 2 или 3')\n",
        "else:\n",
        "    print('Число не (кратно 2 или 3)')\n"
      ],
      "execution_count": null,
      "outputs": [
        {
          "output_type": "stream",
          "name": "stdout",
          "text": [
            "Число кратно 2 или 3\n"
          ]
        }
      ]
    },
    {
      "cell_type": "code",
      "source": [
        "number = 12\n",
        "\n",
        "condition_1 = number % 2 == 0  # число кратно 2\n",
        "condition_2 = number % 3 == 0  # число кратно 3\n",
        "\n",
        "if condition_1 and condition_2:\n",
        "    print('Число кратно 2 и 3')\n",
        "elif condition_1:\n",
        "    print('Число кратно 2')\n",
        "elif condition_2:\n",
        "    print('Число кратно 3')\n",
        "else:\n",
        "    print('Число не кратно 2 и не кратно 3)')"
      ],
      "metadata": {
        "colab": {
          "base_uri": "https://localhost:8080/"
        },
        "id": "x0w9FygdFsm-",
        "outputId": "689ec924-0a61-40d3-b006-561fdf1cf61d"
      },
      "execution_count": null,
      "outputs": [
        {
          "output_type": "stream",
          "name": "stdout",
          "text": [
            "Число кратно 2 и 3\n"
          ]
        }
      ]
    },
    {
      "cell_type": "markdown",
      "source": [
        "### Тернарный оператор. Инлайновый if"
      ],
      "metadata": {
        "id": "KqGbmaipvX-U"
      }
    },
    {
      "cell_type": "markdown",
      "source": [
        "Тернарный оператор или инлайновый if бывает полезен в случаях,  \n",
        "когда в одну и ту же переменную вы помещаете значение в зависимости от условия.\n",
        "``` python\n",
        "if ...:\n",
        "    # какое-то значение по ветке True\n",
        "    some_var = \"True\"\n",
        "else:\n",
        "    # какое-то значение по ветке False\n",
        "    some_var = \"False\"\n",
        "```\n",
        "\n",
        "\n",
        "``` python\n",
        "some_var = \"True\" if ... else \"False\"\n",
        "```"
      ],
      "metadata": {
        "id": "hXMKSs6WwHTU"
      }
    },
    {
      "cell_type": "markdown",
      "source": [
        "##### ***Задача. Определить, является ли число четным или нечетным.***"
      ],
      "metadata": {
        "id": "SB9b7CMTvjeF"
      }
    },
    {
      "cell_type": "code",
      "source": [
        "num = 10\n",
        "\n",
        "if num % 2 == 0:\n",
        "    num_desc = \"четное\"\n",
        "else:\n",
        "    num_desc = \"нечетное\"\n",
        "\n",
        "print(\"Число\", num, num_desc)"
      ],
      "metadata": {
        "colab": {
          "base_uri": "https://localhost:8080/"
        },
        "id": "T_pCCMJ0vgbi",
        "outputId": "b6e4f6d4-82ab-4dd0-88fa-65b3ac6b9c4e"
      },
      "execution_count": null,
      "outputs": [
        {
          "output_type": "stream",
          "name": "stdout",
          "text": [
            "Число 10 четное\n"
          ]
        }
      ]
    },
    {
      "cell_type": "code",
      "source": [
        "num = 10\n",
        "num_desc = \"четное\" if num % 2 == 0 else \"нечетное\"\n",
        "\n",
        "print(\"Число\", num, num_desc)"
      ],
      "metadata": {
        "colab": {
          "base_uri": "https://localhost:8080/"
        },
        "id": "LE46hgJAv2AE",
        "outputId": "408c6658-a5f7-41c9-edaf-53d8613f2374"
      },
      "execution_count": null,
      "outputs": [
        {
          "output_type": "stream",
          "name": "stdout",
          "text": [
            "Число 10 четное\n"
          ]
        }
      ]
    },
    {
      "cell_type": "markdown",
      "metadata": {
        "id": "SVTmNtWDzOUP"
      },
      "source": [
        "# Циклы `for` и `while`"
      ]
    },
    {
      "cell_type": "markdown",
      "metadata": {
        "id": "hE8gdgrBzRYw"
      },
      "source": [
        "## Цикл `for`."
      ]
    },
    {
      "cell_type": "markdown",
      "metadata": {
        "id": "QhMowaGOzZbw"
      },
      "source": [
        "Чтобы работать с циклом `for` используется следующая конструкция:\n",
        "\n",
        "```python\n",
        "for value in collection:\n",
        "    # Начало блока кода с телом цикла. Один отступ вправо от уровня объявления цикла\n",
        "    ...\n",
        "    ...\n",
        "    ...\n",
        "    # Конец блока кода с телом цикла\n",
        "# Код который будет выполняться после цикла. Один отступ влево, чтобы закончить объявление цикла\n",
        "```\n",
        "![https://app.diagrams.net/#G1IgSpVj5n5mLu_RfEC9DiUJ5kSyZenwbg](https://drive.google.com/uc?id=1IgSpVj5n5mLu_RfEC9DiUJ5kSyZenwbg)\n",
        "\n",
        "В данном случае мы объявляем переменную `value`  \n",
        "(название переменной вы выбираете сами), которая будет использоваться  \n",
        "для того чтобы попорядку получать значения из любой коллекции  \n",
        "`collection` (списка, кортежа, словаря, строки и т.д.).\n",
        "\n",
        "- В строке, где вы объявляете цикл `for` в конце обязательно  \n",
        "должно стоять **двоеточие** - так вы показываете интерпретатору,  \n",
        "что дальше будет идти тело цикла.  \n",
        "- Тело цикла должно состоять как **минимум из одной инструкции**.  \n",
        "- Чтобы интерпретатор мог понять, какие операторы входят в тело цикла,  \n",
        "мы должны помещать эти инструкции на **одном отступе вправо**  \n",
        "от уровня объявления цикла.\n",
        "\n"
      ]
    },
    {
      "cell_type": "markdown",
      "metadata": {
        "id": "8k6HsrYEPoc9"
      },
      "source": [
        "### Перебор значений коллекции"
      ]
    },
    {
      "cell_type": "markdown",
      "metadata": {
        "id": "KyHDUXhd0Dyr"
      },
      "source": [
        "Самый простой вариант использования  цикла `for`,  \n",
        "это распечатать все элементы какой-то коллекции.  \n",
        "Цикл `for` выполняется ровно столько раз,  \n",
        "сколько элементов содержится в коллекции."
      ]
    },
    {
      "cell_type": "code",
      "metadata": {
        "id": "9ZK4VAwDzQwm",
        "colab": {
          "base_uri": "https://localhost:8080/"
        },
        "outputId": "30da76b9-fab8-4a90-c02e-efbb4e23b9c1"
      },
      "source": [
        "list_students = [\"Маша\", \"Петя\", \"Саша\", \"Кирилл\", \"Оля\"]\n",
        "\n",
        "print(list_students)\n",
        "for student in list_students:\n",
        "    print(\"Текущий студент:\", student)  # На каждом шаге цикла в переменную student помещается новое значение из списка\n",
        "print(\"-----\")\n",
        "print(\"Цикл закончился\")"
      ],
      "execution_count": null,
      "outputs": [
        {
          "output_type": "stream",
          "name": "stdout",
          "text": [
            "['Маша', 'Петя', 'Саша', 'Кирилл', 'Оля']\n",
            "Текущий студент: Маша\n",
            "Текущий студент: Петя\n",
            "Текущий студент: Саша\n",
            "Текущий студент: Кирилл\n",
            "Текущий студент: Оля\n",
            "-----\n",
            "Цикл закончился\n"
          ]
        }
      ]
    },
    {
      "cell_type": "markdown",
      "source": [
        "##### ***Задача: Найти максимальный элемент в списке***\n",
        "\n",
        "Пусть дан список ростов людей.  \n",
        "Найти рост самого высокого человека."
      ],
      "metadata": {
        "id": "LJjZ-nVdgDX3"
      }
    },
    {
      "cell_type": "code",
      "source": [
        "heights_list = [132, 176, 154, 182, 168]\n",
        "\n",
        "max_height = heights_list[0]  # пусть рост первого человека будет самым высоким\n",
        "\n",
        "for current_height in heights_list:  # перебираем каждый рост\n",
        "    if current_height > max_height:  # если текущий рост больше того, который встречали ранее\n",
        "        max_height = current_height  # то перезаписываем максимальный рост\n",
        "\n",
        "print(\"Рост самого высокого челокека:\", max_height)"
      ],
      "metadata": {
        "colab": {
          "base_uri": "https://localhost:8080/"
        },
        "id": "Xo4g64IBgMfi",
        "outputId": "9796ddd3-1bc7-421d-e532-f808f37bd9a1"
      },
      "execution_count": null,
      "outputs": [
        {
          "output_type": "stream",
          "name": "stdout",
          "text": [
            "Рост самого высокого челокека: 182\n"
          ]
        }
      ]
    },
    {
      "cell_type": "markdown",
      "source": [
        "### Перебор индексов."
      ],
      "metadata": {
        "id": "1ykjf5ixeOLq"
      }
    },
    {
      "cell_type": "markdown",
      "source": [
        "В большинстве своем, удобнее работать сразу со значениями последовательностей.  \n",
        "Но бывают ситуации, когда к последовательности необходимо обращаться по индексу.  \n",
        "Для того, чтобы корректно получить индексы, есть встроенная команда `range`"
      ],
      "metadata": {
        "id": "gyLbLkaHevkQ"
      }
    },
    {
      "cell_type": "markdown",
      "metadata": {
        "id": "4qFC5TQuF_dq"
      },
      "source": [
        "#### Range"
      ]
    },
    {
      "cell_type": "markdown",
      "metadata": {
        "id": "vmF_WPwWGLm-"
      },
      "source": [
        "Встроенный тип данных **`range`** генерирует последовательность целых чисел.  \n",
        "\n",
        "`range` может использоваться в трех вариациях:\n",
        "- **`range(stop)`**\n",
        "- **`range(start, stop)`**\n",
        "- **`range(start, stop, step)`**\n",
        "\n",
        "![](https://dev-gang.ru/static/storage/189185365124674029617430593178367807330.png)"
      ]
    },
    {
      "cell_type": "markdown",
      "metadata": {
        "id": "5nWuIR8WHAv4"
      },
      "source": [
        "---\n",
        "\n",
        "**`range(stop)`** генерирует последовательность целых чисел  \n",
        "от `0` до `stop - 1` c шагом `1`"
      ]
    },
    {
      "cell_type": "code",
      "metadata": {
        "id": "mrW3F-kRG9br",
        "colab": {
          "base_uri": "https://localhost:8080/"
        },
        "outputId": "d230c04b-07ae-4811-c30c-16364c1eceb3"
      },
      "source": [
        "stop = 10  # конец\n",
        "range_ = range(stop)\n",
        "\n",
        "print(range_, type(range_))  # числа сгенерированы не были"
      ],
      "execution_count": null,
      "outputs": [
        {
          "output_type": "stream",
          "name": "stdout",
          "text": [
            "range(0, 10) <class 'range'>\n"
          ]
        }
      ]
    },
    {
      "cell_type": "code",
      "metadata": {
        "id": "2uEmgaHiHx1G",
        "colab": {
          "base_uri": "https://localhost:8080/"
        },
        "outputId": "5c6544a0-8921-4a04-9e0d-ba1d197b6d47"
      },
      "source": [
        "print(list(range_))  # если хотите увидеть числа, то нужно привести, например к списку"
      ],
      "execution_count": null,
      "outputs": [
        {
          "output_type": "stream",
          "name": "stdout",
          "text": [
            "[0, 1, 2, 3, 4, 5, 6, 7, 8, 9]\n"
          ]
        }
      ]
    },
    {
      "cell_type": "code",
      "metadata": {
        "id": "AmCCflNrIIxO",
        "colab": {
          "base_uri": "https://localhost:8080/"
        },
        "outputId": "3b9c1a72-0112-449c-de27-50a0b2478cfd"
      },
      "source": [
        "stop = 10  # конец\n",
        "range_ = range(stop)\n",
        "\n",
        "print(\"левая граница\", min(range_))  # левая граница по умолчанию 0\n",
        "print(\"правая граница\", max(range_))  # правая граница у range невключительно\n",
        "print(\"количество элементов\", len(range_))  # количество элементов 10"
      ],
      "execution_count": null,
      "outputs": [
        {
          "output_type": "stream",
          "name": "stdout",
          "text": [
            "левая граница 0\n",
            "правая граница 9\n",
            "количество элементов 10\n"
          ]
        }
      ]
    },
    {
      "cell_type": "markdown",
      "metadata": {
        "id": "Lh3h3mfwIBYN"
      },
      "source": [
        "---\n",
        "\n",
        "**`range(start, stop)`** генерирует последовательность целых чисел  \n",
        "от `start` до `stop - 1` c шагом `1`"
      ]
    },
    {
      "cell_type": "code",
      "metadata": {
        "id": "eHrx_oZbH-BN",
        "colab": {
          "base_uri": "https://localhost:8080/"
        },
        "outputId": "10727ba7-4e07-491c-909c-443654535ca7"
      },
      "source": [
        "start = 5  # начало\n",
        "stop = 20  # конец\n",
        "\n",
        "print(list(range(start, stop)))"
      ],
      "execution_count": null,
      "outputs": [
        {
          "output_type": "stream",
          "name": "stdout",
          "text": [
            "[5, 6, 7, 8, 9, 10, 11, 12, 13, 14, 15, 16, 17, 18, 19]\n"
          ]
        }
      ]
    },
    {
      "cell_type": "markdown",
      "source": [
        "Чтобы правая граница была включительно,  \n",
        "надо увеличить её на 1"
      ],
      "metadata": {
        "id": "tXp1BdKbSbxi"
      }
    },
    {
      "cell_type": "code",
      "source": [
        "start = 5  # начало\n",
        "stop = 20  # конец\n",
        "\n",
        "print(list(range(start, stop + 1)))  # stop + 1 чтобы правая граница была включительно"
      ],
      "metadata": {
        "colab": {
          "base_uri": "https://localhost:8080/"
        },
        "id": "WJVtktLCSjvF",
        "outputId": "e4bd94c5-bf75-409b-f8b9-d73ef75a2558"
      },
      "execution_count": null,
      "outputs": [
        {
          "output_type": "stream",
          "name": "stdout",
          "text": [
            "[5, 6, 7, 8, 9, 10, 11, 12, 13, 14, 15, 16, 17, 18, 19, 20]\n"
          ]
        }
      ]
    },
    {
      "cell_type": "markdown",
      "source": [
        "---\n",
        "\n",
        "Третья вариация **`range(start, stop, step)`** генерирует  \n",
        "последовательность целых чисел от `start` до `stop - 1` c шагом `step`"
      ],
      "metadata": {
        "id": "te4CU0Z9Gzvc"
      }
    },
    {
      "cell_type": "code",
      "metadata": {
        "id": "CD3o287LI6P5",
        "colab": {
          "base_uri": "https://localhost:8080/"
        },
        "outputId": "3f8867aa-b37d-4b27-d89f-2494d15a50c5"
      },
      "source": [
        "start = 5  # начало\n",
        "stop = 20  # конец\n",
        "step = 2  # шаг\n",
        "\n",
        "print(sum(range(start, stop + 1, step)))  # сумма всех нечетных чисел от 5 до 20 включительно"
      ],
      "execution_count": null,
      "outputs": [
        {
          "output_type": "stream",
          "name": "stdout",
          "text": [
            "96\n"
          ]
        }
      ]
    },
    {
      "cell_type": "markdown",
      "source": [
        "##### ***Задача. Распечатать строку 5 раз.***"
      ],
      "metadata": {
        "id": "9Gm6JYlH-YHZ"
      }
    },
    {
      "cell_type": "code",
      "source": [
        "for _ in range(5):  # когда переменная в цикле не нужна, её можно заменить на _\n",
        "    print(\"Hello World!!! :)\")"
      ],
      "metadata": {
        "colab": {
          "base_uri": "https://localhost:8080/"
        },
        "id": "4_qUeg_E-hrJ",
        "outputId": "89bc6cd0-a8df-45d9-ff74-b417b4b9fe36"
      },
      "execution_count": null,
      "outputs": [
        {
          "output_type": "stream",
          "name": "stdout",
          "text": [
            "Hello World!!! :)\n",
            "Hello World!!! :)\n",
            "Hello World!!! :)\n",
            "Hello World!!! :)\n",
            "Hello World!!! :)\n"
          ]
        }
      ]
    },
    {
      "cell_type": "markdown",
      "metadata": {
        "id": "WRVTfjv-MI8Z"
      },
      "source": [
        "##### ***Задача. Распечатать лесенку***\n",
        "\n",
        "Распечатать лесенку из 4 ступеней.\n",
        "\n",
        "```\n",
        "*\n",
        "**\n",
        "***\n",
        "****\n",
        "```\n",
        "\n"
      ]
    },
    {
      "cell_type": "code",
      "metadata": {
        "id": "2OAsUOvNBUqV",
        "colab": {
          "base_uri": "https://localhost:8080/"
        },
        "outputId": "de942bdc-48c8-4760-da51-eca6e0cb471d"
      },
      "source": [
        "# Что здесь общего, а что меняется?\n",
        "print(\"*\" * 1)\n",
        "print(\"*\" * 2)\n",
        "print(\"*\" * 3)\n",
        "print(\"*\" * 4)"
      ],
      "execution_count": null,
      "outputs": [
        {
          "output_type": "stream",
          "name": "stdout",
          "text": [
            "*\n",
            "**\n",
            "***\n",
            "****\n"
          ]
        }
      ]
    },
    {
      "cell_type": "markdown",
      "metadata": {
        "id": "2AUPFOItMq3f"
      },
      "source": [
        "Оформим это в виде цикла `for`"
      ]
    },
    {
      "cell_type": "code",
      "metadata": {
        "id": "qeiOWpe5BliV",
        "colab": {
          "base_uri": "https://localhost:8080/"
        },
        "outputId": "a122a91a-7a77-4a0f-e87c-bbd1c4a10e69"
      },
      "source": [
        "count_stairs = 4  # количество ступеней\n",
        "\n",
        "for i in range(count_stairs):  # 0, 1, 2, 3\n",
        "    print(\"*\" * (i + 1))"
      ],
      "execution_count": null,
      "outputs": [
        {
          "output_type": "stream",
          "name": "stdout",
          "text": [
            "*\n",
            "**\n",
            "***\n",
            "****\n"
          ]
        }
      ]
    },
    {
      "cell_type": "code",
      "source": [
        "count_stairs = 4  # количество ступеней\n",
        "\n",
        "for i in range(1, count_stairs + 1):  # 1, 2, 3, 4\n",
        "    print(\"*\" * i)"
      ],
      "metadata": {
        "colab": {
          "base_uri": "https://localhost:8080/"
        },
        "id": "k4S4tUQafmd9",
        "outputId": "46afe0f3-4cae-41bc-95be-3341494eaecd"
      },
      "execution_count": null,
      "outputs": [
        {
          "output_type": "stream",
          "name": "stdout",
          "text": [
            "*\n",
            "**\n",
            "***\n",
            "****\n"
          ]
        }
      ]
    },
    {
      "cell_type": "markdown",
      "source": [
        "##### ***Задача. Найти имя самого высокого человека***"
      ],
      "metadata": {
        "id": "ydQtXNy1h_pw"
      }
    },
    {
      "cell_type": "code",
      "source": [
        "list_students = [\"Маша\", \"Петя\", \"Саша\", \"Кирилл\", \"Оля\"]\n",
        "heights_list = [132, 176, 154, 182, 168]\n",
        "\n",
        "max_index = 0\n",
        "for i in range(len(heights_list)):  # перебераем все индексы\n",
        "    max_height = heights_list[max_index]\n",
        "    current_height = heights_list[i]\n",
        "    if current_height > max_height:  # если текущий рост больше того, который встречали ранее\n",
        "        max_index = i  # то перезаписываем индекс максимального роста\n",
        "\n",
        "print(\"Самый высокий человек -\", list_students[max_index])\n",
        "print(\"Его рост =\", heights_list[max_index])"
      ],
      "metadata": {
        "colab": {
          "base_uri": "https://localhost:8080/"
        },
        "id": "2sWKVrwWiFW5",
        "outputId": "33b8cfb6-9c90-4d70-e103-c08159275f46"
      },
      "execution_count": null,
      "outputs": [
        {
          "output_type": "stream",
          "name": "stdout",
          "text": [
            "Самый высокий человек - Кирилл\n",
            "Его рост = 182\n"
          ]
        }
      ]
    },
    {
      "cell_type": "markdown",
      "metadata": {
        "id": "Bo0SLJYV4I8p"
      },
      "source": [
        "#### Enumerate"
      ]
    },
    {
      "cell_type": "markdown",
      "source": [
        "Предположим необходимо на каждом шаге цикла получить пару индекс - значение"
      ],
      "metadata": {
        "id": "WN_vbvOkyaqS"
      }
    },
    {
      "cell_type": "code",
      "metadata": {
        "id": "mvMcQembM7ou",
        "colab": {
          "base_uri": "https://localhost:8080/"
        },
        "outputId": "a42627b6-2c24-47a8-c6fb-943ae3b71736"
      },
      "source": [
        "list_ = [\"а\", \"б\", \"в\"]\n",
        "for i in range(len(list_)):\n",
        "    print((i, list_[i]))"
      ],
      "execution_count": null,
      "outputs": [
        {
          "output_type": "stream",
          "name": "stdout",
          "text": [
            "(0, 'а')\n",
            "(1, 'б')\n",
            "(2, 'в')\n"
          ]
        }
      ]
    },
    {
      "cell_type": "markdown",
      "metadata": {
        "id": "oKKySG234StP"
      },
      "source": [
        "Встроенная фукция `enumrerate`, генерирует кортежи,  \n",
        "состоящие из двух элементов - индекса элемента и самого элемента."
      ]
    },
    {
      "cell_type": "code",
      "metadata": {
        "id": "IomorYWW4Mdn",
        "colab": {
          "base_uri": "https://localhost:8080/"
        },
        "outputId": "19d2c510-4463-4179-8cdb-c83980e5fad3"
      },
      "source": [
        "for tuple_ in enumerate([\"а\", \"б\", \"в\"]):\n",
        "    print(tuple_, type(tuple_))"
      ],
      "execution_count": null,
      "outputs": [
        {
          "output_type": "stream",
          "name": "stdout",
          "text": [
            "(0, 'а') <class 'tuple'>\n",
            "(1, 'б') <class 'tuple'>\n",
            "(2, 'в') <class 'tuple'>\n"
          ]
        }
      ]
    },
    {
      "cell_type": "markdown",
      "metadata": {
        "id": "lPkQN9jq4cqn"
      },
      "source": [
        "Вспоминаем про множественное присваивание...\n",
        "\n",
        "```python\n",
        "var_1, var_2 = tuple_\n",
        "```"
      ]
    },
    {
      "cell_type": "code",
      "metadata": {
        "id": "OmBOBy264ZbY",
        "colab": {
          "base_uri": "https://localhost:8080/"
        },
        "outputId": "375817b2-4339-4701-8223-aad373b71613"
      },
      "source": [
        "for index, value in enumerate([\"а\", \"б\", \"в\"]):\n",
        "    print(\"Индекс:\", index, \"->\", \"Значение:\", value)"
      ],
      "execution_count": null,
      "outputs": [
        {
          "output_type": "stream",
          "name": "stdout",
          "text": [
            "Индекс: 0 -> Значение: а\n",
            "Индекс: 1 -> Значение: б\n",
            "Индекс: 2 -> Значение: в\n"
          ]
        }
      ]
    },
    {
      "cell_type": "code",
      "source": [
        "for pos, value in enumerate([\"а\", \"б\", \"в\"], start=1):  # start по умолчанию равен 0\n",
        "    print(\"Позиция:\", pos, \"->\", \"Значение:\", value)"
      ],
      "metadata": {
        "colab": {
          "base_uri": "https://localhost:8080/"
        },
        "id": "wKh6sXHN2JNU",
        "outputId": "8e5dd5e9-8be8-480e-9f6b-7180a7e0c18b"
      },
      "execution_count": null,
      "outputs": [
        {
          "output_type": "stream",
          "name": "stdout",
          "text": [
            "Позиция: 1 -> Значение: а\n",
            "Позиция: 2 -> Значение: б\n",
            "Позиция: 3 -> Значение: в\n"
          ]
        }
      ]
    },
    {
      "cell_type": "markdown",
      "source": [
        "##### ***Задача. Найти имя самого высокого человека***"
      ],
      "metadata": {
        "id": "lEgcwPSTkETR"
      }
    },
    {
      "cell_type": "markdown",
      "source": [
        "```python\n",
        "for i in range(len(heights_list)):  # перебераем все индексы\n",
        "    current_height = heights_list[i]\n",
        "    ...\n",
        "```\n",
        "\n",
        "```python\n",
        "for i, current_height in enumerate(heights_list):  # перебераем пары индекс - значение\n",
        "    ...\n",
        "```"
      ],
      "metadata": {
        "id": "hL7cnLSIkkZK"
      }
    },
    {
      "cell_type": "code",
      "source": [
        "list_students = [\"Маша\", \"Петя\", \"Саша\", \"Кирилл\", \"Оля\"]\n",
        "heights_list = [132, 176, 154, 182, 168]\n",
        "\n",
        "max_index = 0\n",
        "max_height = heights_list[max_index]\n",
        "\n",
        "for i, current_height in enumerate(heights_list):  # перебераем пары индекс - значение\n",
        "    max_height = heights_list[max_index]\n",
        "    if current_height > max_height:  # если текущий рост больше того, который встречали ранее\n",
        "        max_index = i  # то перезаписываем индекс максимального роста\n",
        "        max_height = heights_list[max_index]  # и перезаписываем рост\n",
        "\n",
        "print(\"Самый высокий человек -\", list_students[max_index])\n",
        "print(\"Его рост =\", max_height)"
      ],
      "metadata": {
        "colab": {
          "base_uri": "https://localhost:8080/"
        },
        "outputId": "cdfdf644-14e3-455d-9ffa-cfefd051272b",
        "id": "ModU8qGjkETR"
      },
      "execution_count": null,
      "outputs": [
        {
          "output_type": "stream",
          "name": "stdout",
          "text": [
            "Самый высокий человек - Кирилл\n",
            "Его рост = 182\n"
          ]
        }
      ]
    },
    {
      "cell_type": "markdown",
      "metadata": {
        "id": "IS1EXkyL5xqf"
      },
      "source": [
        "## Цикл while"
      ]
    },
    {
      "cell_type": "markdown",
      "metadata": {
        "id": "WSCBkRw2l9th"
      },
      "source": [
        "Цикл `for` является циклом с заданным количеством шагов,  \n",
        "но к сожалению мы не всегда можем заранее знать количество шагов цикла.  \n",
        "Поэтому существует цикл `while`, который выполняется только  \n",
        "при каком-то условии.  \n",
        "Тело цикла будет повторяться, пока условие **будет истинным**.\n",
        "\n",
        "\n",
        "```python\n",
        "while some_expr:  # some_expr - логическое выражение, которое определяет когда нужно остановить цикл\n",
        "    # Начало блока кода с телом цикла. Один отступ вправо от уровня объявления цикла\n",
        "    ...\n",
        "    ...\n",
        "    ...\n",
        "    # Конец блока кода с телом цикла\n",
        "# Код который будет выполняться после цикла. Один отступ влево, чтобы закончить объявление цикла\n",
        "```\n",
        "\n",
        "Цикл `while` можно читать как \"делай что-то, пока выполняется  \n",
        "какое-то условие.\" или \"до тех пор, пока условие истино, делай ...\".\n",
        "- В строке, где вы объявляете цикл `while` в конце обязательно  \n",
        "должно стоять **двоеточие** - так вы показываете интерпретатору,  \n",
        "что дальше будет идти тело цикла.  \n",
        "- Тело цикла должно состоять как **минимум из одного оператора**.  \n",
        "- Чтобы интерпретатор мог понять, какие операторы входят в тело цикла,  \n",
        "мы должны помещать эти операторы на **одном отступе вправо**  \n",
        "от уровня объявления цикла.\n",
        "\n"
      ]
    },
    {
      "cell_type": "markdown",
      "metadata": {
        "id": "-dyH2GduOGpY"
      },
      "source": [
        "### Операторы `break` и `continue`. Бесконечный цикл."
      ]
    },
    {
      "cell_type": "markdown",
      "metadata": {
        "id": "Ps7x2boBOVDR"
      },
      "source": [
        "В Python существуют ещё два ключевых слова `break` и `continue`,  \n",
        "которые нельзя использовать в качестве названия переменных.\n",
        "- `break` - прерывает цикл на каком бы шаге он сейчас не находился  \n",
        "и досрочно выходит из него.\n",
        "- `continue` - позволяет пропустить часть операторов внутри тела цикла  \n",
        "и перейти к следующему шагу цикла\n",
        "\n",
        "<img src=\"https://drive.google.com/uc?id=1-2OA7sV9SSTr0r3-THCjlCsMO6u4FfYY\"/>"
      ]
    },
    {
      "cell_type": "markdown",
      "metadata": {
        "id": "N8Cp9sWMSF2m"
      },
      "source": [
        "Если вы правильно указали условие остановки цикла `while`  \n",
        "или забыли указать оператор `break`, то вы получите бесконечный цикл.  \n",
        "\n",
        "В этом нет ничего страшного, но ваша программа не сможет выполнять  \n",
        "ничего другого кроме вашего цикла.  \n",
        "Чтобы это остановить необходимо нажать сочетание клавиш **`ctrl + C`**\n",
        "\n",
        "```python\n",
        "# бесконечный цикл\n",
        "while True:\n",
        "    ...\n",
        "```\n",
        "\n",
        "```python\n",
        "# бесконечный цикл остановится, если выполнится условие\n",
        "while True:\n",
        "    ...\n",
        "    if ...:\n",
        "        break\n",
        "```"
      ]
    },
    {
      "cell_type": "markdown",
      "metadata": {
        "id": "Qi1EFnpgG_Cl"
      },
      "source": [
        "### Циклы с предусловием и постусловием"
      ]
    },
    {
      "cell_type": "markdown",
      "metadata": {
        "id": "BvSBCTyZLgn4"
      },
      "source": [
        "Различают так называемые циклы с предусловием и постусловием.  \n",
        "Давайте посмотрим в чем у них разница."
      ]
    },
    {
      "cell_type": "markdown",
      "metadata": {
        "id": "7pgyAdnqMOGj"
      },
      "source": [
        "Цикл с предусловием не гарантирует вам выполненение своего тела.  \n",
        "Потому что сразу при входе может возникнуть ложное условие.  \n",
        "А вот цикл с постусловием может выполниться как минимум один раз.\n",
        "\n",
        "```python\n",
        "cond = False\n",
        "while cond:  # цикл с предусловием. Не выполнит операторы в теле цикла\n",
        "    ...\n",
        "```\n",
        "\n",
        "```python\n",
        "cond = False\n",
        "while True:  # цикл с постусловием. Хотя бы раз выполнит операторы в теле цикла\n",
        "    ...\n",
        "    if not cond:  # обязательное условие остановки цикла\n",
        "        break  # оператор, который прервет цикл\n",
        "```\n",
        "\n"
      ]
    },
    {
      "cell_type": "markdown",
      "metadata": {
        "id": "dcVgKanpoKWX"
      },
      "source": [
        "##### ***Задача. Поиск суммы чисел вводимых с клавиатуры.***"
      ]
    },
    {
      "cell_type": "markdown",
      "metadata": {
        "id": "a7S4cmDqIDI7"
      },
      "source": [
        "Написать программу поиска суммы последовательности положительных чисел,  \n",
        "вводимых с клавиатуры, предшествующих первому введенному нулю.  \n",
        "\n",
        "**Контрольный пример:** 1, 2, 3, 4, 5, 0.  \n",
        "**Ответ:** 15"
      ]
    },
    {
      "cell_type": "code",
      "metadata": {
        "id": "9uvsU3BNIPTE",
        "colab": {
          "base_uri": "https://localhost:8080/"
        },
        "outputId": "6f4c940e-450d-4598-c7f2-19b294104417"
      },
      "source": [
        "sum_ = 0\n",
        "input_number = int(input(\"Введите число: \"))\n",
        "\n",
        "while input_number != 0:\n",
        "    sum_ += input_number\n",
        "    input_number = int(input(\"Введите число: \"))\n",
        "\n",
        "print(\"Ответ:\", sum_)"
      ],
      "execution_count": null,
      "outputs": [
        {
          "output_type": "stream",
          "name": "stdout",
          "text": [
            "Введите число: 1\n",
            "Введите число: 2\n",
            "Введите число: 3\n",
            "Введите число: 4\n",
            "Введите число: 5\n",
            "Введите число: 0\n",
            "Ответ: 15\n"
          ]
        }
      ]
    },
    {
      "cell_type": "code",
      "metadata": {
        "id": "c8CgSD_FJqwq",
        "colab": {
          "base_uri": "https://localhost:8080/"
        },
        "outputId": "b070dd72-fb3f-4a6d-a51c-9e354a2a9bd1"
      },
      "source": [
        "sum_ = 0\n",
        "\n",
        "while True:\n",
        "    input_number = int(input(\"Введите число: \"))\n",
        "    if input_number == 0:\n",
        "        break\n",
        "\n",
        "    sum_ += input_number\n",
        "\n",
        "print(\"Ответ:\", sum_)"
      ],
      "execution_count": null,
      "outputs": [
        {
          "output_type": "stream",
          "name": "stdout",
          "text": [
            "Введите число: 1\n",
            "Введите число: 2\n",
            "Введите число: 3\n",
            "Введите число: 4\n",
            "Введите число: 5\n",
            "Введите число: 0\n",
            "Ответ: 15\n"
          ]
        }
      ]
    }
  ]
}