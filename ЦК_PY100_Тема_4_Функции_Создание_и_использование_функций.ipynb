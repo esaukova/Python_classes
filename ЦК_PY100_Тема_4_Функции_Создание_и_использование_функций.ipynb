{
  "nbformat": 4,
  "nbformat_minor": 0,
  "metadata": {
    "colab": {
      "provenance": [],
      "collapsed_sections": [
        "cMurcF4wdm0C",
        "-l6mdVcftAMZ",
        "76MZV2NxqPcd",
        "RvlsfXAgqni8",
        "VZJI477kWNbP",
        "ONLCdXF-HVsN",
        "pGE5jUzaH3mr",
        "Y_zcZUhNrPeV",
        "JuKPIH1PwvVQ",
        "H63BjOzcXKI0"
      ],
      "include_colab_link": true
    },
    "kernelspec": {
      "name": "python3",
      "display_name": "Python 3"
    },
    "language_info": {
      "name": "python"
    }
  },
  "cells": [
    {
      "cell_type": "markdown",
      "metadata": {
        "id": "view-in-github",
        "colab_type": "text"
      },
      "source": [
        "<a href=\"https://colab.research.google.com/github/esaukova/Python_classes/blob/main/%D0%A6%D0%9A_PY100_%D0%A2%D0%B5%D0%BC%D0%B0_4_%D0%A4%D1%83%D0%BD%D0%BA%D1%86%D0%B8%D0%B8_%D0%A1%D0%BE%D0%B7%D0%B4%D0%B0%D0%BD%D0%B8%D0%B5_%D0%B8_%D0%B8%D1%81%D0%BF%D0%BE%D0%BB%D1%8C%D0%B7%D0%BE%D0%B2%D0%B0%D0%BD%D0%B8%D0%B5_%D1%84%D1%83%D0%BD%D0%BA%D1%86%D0%B8%D0%B8%CC%86.ipynb\" target=\"_parent\"><img src=\"https://colab.research.google.com/assets/colab-badge.svg\" alt=\"Open In Colab\"/></a>"
      ]
    },
    {
      "cell_type": "markdown",
      "metadata": {
        "id": "vT0uc9AQ0Xy9"
      },
      "source": [
        "## Функции"
      ]
    },
    {
      "cell_type": "markdown",
      "source": [
        "### Понятие функции"
      ],
      "metadata": {
        "id": "cMurcF4wdm0C"
      }
    },
    {
      "cell_type": "markdown",
      "source": [
        "**Функция** в программировании представляет собой обособленный участок кода,  \n",
        "который можно вызывать несколько раз, обратившись к нему по имени,  \n",
        "которым он был назван.\n",
        "\n",
        "При вызове происходит выполнение команд тела функции  \n",
        "(команд, находящихся внутри функции)."
      ],
      "metadata": {
        "id": "AYGxl9Jdm-tM"
      }
    },
    {
      "cell_type": "markdown",
      "metadata": {
        "id": "J4fOJu8O0oDN"
      },
      "source": [
        "Функция – это блок кода, который начинается с ключевого слова **`def`**,  \n",
        "названия функции и двоеточия, например:\n",
        "\n",
        "```python\n",
        "def name_func(arg):\n",
        "    # начало тела функции\n",
        "    ...\n",
        "    # конец тела функции\n",
        "```\n",
        "\n"
      ]
    },
    {
      "cell_type": "markdown",
      "source": [
        "Разберемся, для чего используются функции:\n",
        "1. Структурирование кода.\n",
        "1. Выполнение одной задачи несколько раз. (принцип DRY - don’t repeat yourself)\n",
        "1. Выполнение одной задачи, с различными входными данными.\n"
      ],
      "metadata": {
        "id": "wAYWR1pAojXI"
      }
    },
    {
      "cell_type": "markdown",
      "source": [
        "#### Функция как “черный ящик”"
      ],
      "metadata": {
        "id": "-l6mdVcftAMZ"
      }
    },
    {
      "cell_type": "markdown",
      "source": [
        "\n",
        "![https://app.diagrams.net/#G10BKM93djWvsUS-k8RsldL6PCYJptuJZ_](https://drive.google.com/uc?id=10BKM93djWvsUS-k8RsldL6PCYJptuJZ_)\n",
        "\n",
        "\n",
        "**Свойства функции:**\n",
        "1. Функция не полагается на данные вне её.\n",
        "1. Может возвращать какой-то результат, а может и не возвращать.  \n",
        "В python функции всегда возвращают либо результат либо None.\n",
        "\n",
        "![](https://static.tildacdn.com/tild6666-6339-4139-a665-316465656264/351.png)\n"
      ],
      "metadata": {
        "id": "VZZ0NtjdtZOp"
      }
    },
    {
      "cell_type": "markdown",
      "source": [
        "#### Структурирование кода\n"
      ],
      "metadata": {
        "id": "76MZV2NxqPcd"
      }
    },
    {
      "cell_type": "code",
      "source": [
        "# Сколько времени понадобится, чтобы понять, какой общий смысл здесь заложен?\n",
        "list_ = [1, 2, 3, 4, 5]\n",
        "a = list_[len(list_) // 3]\n",
        "\n",
        "for b in range(len(list_)):\n",
        "    if list_[b] < a:\n",
        "        a = list_[b]\n",
        "\n",
        "print(a)"
      ],
      "metadata": {
        "colab": {
          "base_uri": "https://localhost:8080/"
        },
        "id": "ZXC2wah3sCRS",
        "outputId": "1addd241-e755-47ea-8bf7-f97c6c868146"
      },
      "execution_count": null,
      "outputs": [
        {
          "output_type": "stream",
          "name": "stdout",
          "text": [
            "1\n"
          ]
        }
      ]
    },
    {
      "cell_type": "code",
      "source": [
        "def min_(list_):\n",
        "    a = list_[len(list_) // 3]\n",
        "\n",
        "    for b in range(len(list_)):\n",
        "        if list_[b] < a:\n",
        "            a = list_[b]\n",
        "\n",
        "    return a\n",
        "\n",
        "list_ = [1, 2, 3, 4, 5]\n",
        "min_(list_)  # ищем минимум, как будем искать будем разбираться на мере необходимости"
      ],
      "metadata": {
        "colab": {
          "base_uri": "https://localhost:8080/"
        },
        "id": "qFZw_ha7sEnG",
        "outputId": "df2a9c0d-1470-44e9-9a40-be7cc84ad2f2"
      },
      "execution_count": null,
      "outputs": [
        {
          "output_type": "execute_result",
          "data": {
            "text/plain": [
              "1"
            ]
          },
          "metadata": {},
          "execution_count": 2
        }
      ]
    },
    {
      "cell_type": "markdown",
      "source": [
        "#### Принцип DRY"
      ],
      "metadata": {
        "id": "RvlsfXAgqni8"
      }
    },
    {
      "cell_type": "markdown",
      "source": [
        "Найти сумму минимальных элементов из двух списков.\n",
        "\n",
        "Вместо:\n"
      ],
      "metadata": {
        "id": "E70jFE1FQNZ5"
      }
    },
    {
      "cell_type": "code",
      "source": [
        "list_1 = [1, 2, 3]\n",
        "list_2 = [6, 5, 4]\n",
        "\n",
        "min_1 = list_1[0]\n",
        "for value in list_1:\n",
        "    if value < min_1:\n",
        "        min_1 = value\n",
        "\n",
        "min_2 = list_2[0]\n",
        "for value in list_2:\n",
        "    if value < min_2:\n",
        "        min_2 = value\n",
        "\n",
        "result = min_1 + min_2\n",
        "result"
      ],
      "metadata": {
        "id": "WESbRDFbQceh",
        "colab": {
          "base_uri": "https://localhost:8080/"
        },
        "outputId": "daed51ed-c2e7-4028-92f3-d494862e0aaa"
      },
      "execution_count": null,
      "outputs": [
        {
          "output_type": "execute_result",
          "data": {
            "text/plain": [
              "5"
            ]
          },
          "metadata": {},
          "execution_count": 3
        }
      ]
    },
    {
      "cell_type": "markdown",
      "source": [
        "Используем вот это, что не повторять код"
      ],
      "metadata": {
        "id": "PASRc4KoRN8c"
      }
    },
    {
      "cell_type": "code",
      "source": [
        "def min_(list_):\n",
        "    min_value = list_[0]\n",
        "    for value in list_:\n",
        "        if value < min_value:\n",
        "            min_value = value\n",
        "\n",
        "    return min_value\n",
        "\n",
        "list_1 = [1, 2, 3]\n",
        "list_2 = [6, 5, 4]\n",
        "result = min_(list_1) + min_(list_2)\n",
        "result"
      ],
      "metadata": {
        "colab": {
          "base_uri": "https://localhost:8080/"
        },
        "id": "PEomO1z8orNy",
        "outputId": "93225e7d-be33-42a5-bbe8-f6439221d65b"
      },
      "execution_count": null,
      "outputs": [
        {
          "output_type": "execute_result",
          "data": {
            "text/plain": [
              "5"
            ]
          },
          "metadata": {},
          "execution_count": 4
        }
      ]
    },
    {
      "cell_type": "markdown",
      "source": [
        "### Результат выполнения функции."
      ],
      "metadata": {
        "id": "FacVWWmxdR-d"
      }
    },
    {
      "cell_type": "markdown",
      "metadata": {
        "id": "RjDuzFbuJQ0X"
      },
      "source": [
        "#### Функция без аргументов и без возвращаемых значений"
      ]
    },
    {
      "cell_type": "code",
      "source": [
        "# пример простейшей функции\n",
        "def empty_func():\n",
        "    pass  # pass можно заменить на ...\n",
        "\n",
        "result = empty_func()  # но даже такая функция всё равно возвращает результат None\n",
        "print(result)  # None"
      ],
      "metadata": {
        "colab": {
          "base_uri": "https://localhost:8080/"
        },
        "id": "0MuSxV7u6mur",
        "outputId": "7fc3b507-476d-4911-888b-a76480874545"
      },
      "execution_count": null,
      "outputs": [
        {
          "output_type": "stream",
          "name": "stdout",
          "text": [
            "None\n"
          ]
        }
      ]
    },
    {
      "cell_type": "code",
      "metadata": {
        "id": "WLWjMAAPJXXg",
        "colab": {
          "base_uri": "https://localhost:8080/"
        },
        "outputId": "9ff19813-61a2-4741-e6d6-56580e342454"
      },
      "source": [
        "# функция которая просто печатает строку, почему бы и нет\n",
        "def hello_world():  # объявление функции\n",
        "   print(\"Hello World\")\n",
        "\n",
        "hello_world()  # вызов функции\n",
        "hello_world()  # вызов функции"
      ],
      "execution_count": null,
      "outputs": [
        {
          "output_type": "stream",
          "name": "stdout",
          "text": [
            "Hello World\n",
            "Hello World\n"
          ]
        }
      ]
    },
    {
      "cell_type": "markdown",
      "metadata": {
        "id": "Y7_DeK2TG3Yj"
      },
      "source": [
        "#### Функции, возвращающие значения"
      ]
    },
    {
      "cell_type": "markdown",
      "metadata": {
        "id": "t3VSI7wZHUUv"
      },
      "source": [
        "Функции умеют возвращать значения.  \n",
        "Делается это с помощью ключевого слова **`return`**."
      ]
    },
    {
      "cell_type": "code",
      "metadata": {
        "id": "bGM5UbmvHf7r",
        "colab": {
          "base_uri": "https://localhost:8080/"
        },
        "outputId": "e6502b7d-49ec-4f6d-c0b8-c3724765a7a6"
      },
      "source": [
        "def return_hello_world():\n",
        "   return \"Hello World\" + \"!!!\"\n",
        "\n",
        "return_value = return_hello_world()\n",
        "print(return_value)"
      ],
      "execution_count": null,
      "outputs": [
        {
          "output_type": "stream",
          "name": "stdout",
          "text": [
            "Hello World!!!\n"
          ]
        }
      ]
    },
    {
      "cell_type": "markdown",
      "source": [
        "Функция всегда возвращает **одно значение**!  \n",
        "Если нужно вернуть несколько значений,  \n",
        "то следует вернуть контейнер со значениями."
      ],
      "metadata": {
        "id": "lMwwFIiK8jxr"
      }
    },
    {
      "cell_type": "code",
      "source": [
        "def return_tuple_with_values():\n",
        "    return 1, 2, 3  # по умолчанию python возвращает кортеж\n",
        "\n",
        "result = return_tuple_with_values()\n",
        "print(type(result), result)  # <class 'tuple'> (1, 2, 3)"
      ],
      "metadata": {
        "colab": {
          "base_uri": "https://localhost:8080/"
        },
        "id": "knqNL3EwaeFi",
        "outputId": "3a05eb3d-e450-4006-82a1-ee177e878e13"
      },
      "execution_count": null,
      "outputs": [
        {
          "output_type": "stream",
          "name": "stdout",
          "text": [
            "<class 'tuple'> (1, 2, 3)\n"
          ]
        }
      ]
    },
    {
      "cell_type": "code",
      "source": [
        "a, b, c = return_tuple_with_values()  # множественная распаковка значений\n",
        "print(a, b, c)"
      ],
      "metadata": {
        "id": "hl1ENZGWbdPF",
        "colab": {
          "base_uri": "https://localhost:8080/"
        },
        "outputId": "4f33b061-05ab-48f6-a20d-994b743c44ba"
      },
      "execution_count": null,
      "outputs": [
        {
          "output_type": "stream",
          "name": "stdout",
          "text": [
            "1 2 3\n"
          ]
        }
      ]
    },
    {
      "cell_type": "code",
      "source": [
        "result = return_tuple_with_values()\n",
        "a, c = result[0], result[-1]  # взять из результата первое и последнее значение\n",
        "print(a, c)"
      ],
      "metadata": {
        "colab": {
          "base_uri": "https://localhost:8080/"
        },
        "id": "mLmxQZnX95Qz",
        "outputId": "4d95191d-0db5-40a2-9509-290492d8f36b"
      },
      "execution_count": null,
      "outputs": [
        {
          "output_type": "stream",
          "name": "stdout",
          "text": [
            "1 3\n"
          ]
        }
      ]
    },
    {
      "cell_type": "markdown",
      "source": [
        "Если какое-то значение не нужно, то в качестве переменной можно использовать `_`"
      ],
      "metadata": {
        "id": "-dnMphfp9ox1"
      }
    },
    {
      "cell_type": "code",
      "source": [
        "a, _, c = return_tuple_with_values()\n",
        "print(a, c)"
      ],
      "metadata": {
        "id": "FKYdqgfDbm1y",
        "colab": {
          "base_uri": "https://localhost:8080/"
        },
        "outputId": "32038988-c858-431d-8c56-8c068fed2782"
      },
      "execution_count": null,
      "outputs": [
        {
          "output_type": "stream",
          "name": "stdout",
          "text": [
            "1 3\n"
          ]
        }
      ]
    },
    {
      "cell_type": "markdown",
      "source": [
        "Функция всегда может выподнить только один **`return`**."
      ],
      "metadata": {
        "id": "Zc2B4O5a-p0x"
      }
    },
    {
      "cell_type": "code",
      "source": [
        "def return_first_value():\n",
        "    ...\n",
        "    return 1\n",
        "    return 2  # этот return никогда не выполнится\n",
        "\n",
        "print(return_first_value())"
      ],
      "metadata": {
        "colab": {
          "base_uri": "https://localhost:8080/"
        },
        "id": "y63xeMeU-850",
        "outputId": "25e2a282-ed78-4814-951a-02ee213e11e9"
      },
      "execution_count": null,
      "outputs": [
        {
          "output_type": "stream",
          "name": "stdout",
          "text": [
            "1\n"
          ]
        }
      ]
    },
    {
      "cell_type": "markdown",
      "source": [
        "Несколько return может быть, если они, например, записаны через if\n",
        "```python\n",
        "def multi_return():\n",
        "    number = ...  # какое-то целое число\n",
        "    if number % 2 == 0:\n",
        "        return \"число четное\"\n",
        "    else:\n",
        "        return \"число нечетное\"\n",
        "\n",
        "\n",
        "def multi_return():\n",
        "    first_number = ...\n",
        "    second_number = ...\n",
        "    if first_number > second_number:\n",
        "        return \"первое число больше\"\n",
        "    elif first_number < second_number:\n",
        "        return \"второе число больше\"\n",
        "    else:\n",
        "        return \"числа равны\"\n",
        "```"
      ],
      "metadata": {
        "id": "6Z4J4opGAA1E"
      }
    },
    {
      "cell_type": "markdown",
      "source": [
        "### Аргументы функций."
      ],
      "metadata": {
        "id": "1SSvv-A8dKZG"
      }
    },
    {
      "cell_type": "markdown",
      "metadata": {
        "id": "pTD1a_77IwQM"
      },
      "source": [
        "#### Передача аргументов в функцию"
      ]
    },
    {
      "cell_type": "code",
      "metadata": {
        "id": "7Ghy29TWI5EN",
        "colab": {
          "base_uri": "https://localhost:8080/"
        },
        "outputId": "fde45c99-eccf-4f73-ec84-078306beccfa"
      },
      "source": [
        "# Пусть функция принимает два числа, складывает их и возвращает результат\n",
        "def add_func(a, b):\n",
        "    # a и b аргументы, которые принимает функция\n",
        "    # эти аргументы будут не доступны вне тела функции\n",
        "    add = a + b\n",
        "\n",
        "    # чтобы вертуть результат нужно использовать ключевое слово return\n",
        "    return add\n",
        "\n",
        "print(add_func(1, 2))"
      ],
      "execution_count": null,
      "outputs": [
        {
          "output_type": "stream",
          "name": "stdout",
          "text": [
            "3\n"
          ]
        }
      ]
    },
    {
      "cell_type": "markdown",
      "metadata": {
        "id": "UjHSyh4JMi5S"
      },
      "source": [
        "Все переменные объявленные внутри тела функции `(a, b, add)`  \n",
        "не доступны вне её тела.  \n",
        "Чтобы получить доступ к результату выполнения функции вне её тела,  \n",
        "переменную нужно вернуть с помощью ключевого слова **`return`**"
      ]
    },
    {
      "cell_type": "markdown",
      "metadata": {
        "id": "OdCBefELVbOG"
      },
      "source": [
        "Аргументы делятся на:\n",
        "- позиционные\n",
        "- именованные"
      ]
    },
    {
      "cell_type": "markdown",
      "source": [
        "Передавать значения в функцию,  \n",
        "можно опираясь на позицию аргументов **`a`** и **`b`**"
      ],
      "metadata": {
        "id": "MbBbjmdTA2dH"
      }
    },
    {
      "cell_type": "code",
      "source": [
        "add_result = add_func(1, 2)  # add_func(a, b) -> a = 1, b = 2\n",
        "print(add_result)"
      ],
      "metadata": {
        "colab": {
          "base_uri": "https://localhost:8080/"
        },
        "id": "uerP05R2Pyvw",
        "outputId": "f8af2ed2-1867-4aa4-868e-48c0328ba00e"
      },
      "execution_count": null,
      "outputs": [
        {
          "output_type": "stream",
          "name": "stdout",
          "text": [
            "3\n"
          ]
        }
      ]
    },
    {
      "cell_type": "markdown",
      "source": [
        "Но используя именованные аргументы,  \n",
        "можно указать произвольный порядок"
      ],
      "metadata": {
        "id": "ukdXGZg8BKmh"
      }
    },
    {
      "cell_type": "code",
      "metadata": {
        "id": "PhABKx_quKcZ",
        "colab": {
          "base_uri": "https://localhost:8080/"
        },
        "outputId": "fc1266cb-796c-46c4-c515-867563188d28"
      },
      "source": [
        "# при указании наименования переменных их порядок не важен\n",
        "print(add_func(b=4, a=3))  # add_func(a, b) -> a = 3, b = 4"
      ],
      "execution_count": null,
      "outputs": [
        {
          "output_type": "stream",
          "name": "stdout",
          "text": [
            "7\n"
          ]
        }
      ]
    },
    {
      "cell_type": "markdown",
      "source": [
        "Можно выделить ещё смешанный формат передачи аргументов.  \n",
        "Главное правило:  \n",
        "**сначала идут все позиционные, а затем именованные аргументы**"
      ],
      "metadata": {
        "id": "KIMG_eCEBq82"
      }
    },
    {
      "cell_type": "code",
      "metadata": {
        "id": "4uSYM7PnWI_I",
        "colab": {
          "base_uri": "https://localhost:8080/"
        },
        "outputId": "80a27d4c-dedf-444b-e1ac-c054da0c190a"
      },
      "source": [
        "# часть аргументов можно оставить позиционными, а часть именованными\n",
        "print(add_func(6, b=10))  # add_func(a, b) -> a = 6, b = 10"
      ],
      "execution_count": null,
      "outputs": [
        {
          "output_type": "stream",
          "name": "stdout",
          "text": [
            "16\n"
          ]
        }
      ]
    },
    {
      "cell_type": "markdown",
      "source": [
        "Нельзя чтобы позиционные аргументы  \n",
        "следовали за именованными:\n",
        "```python\n",
        "# Синтаксическая ошибка: позиционные аргументы следуют за именоваными\n",
        "print(add_func(b=10, 6))  # SyntaxError: positional argument follows keyword argument\n",
        "```\n",
        "\n",
        "Также нельзя дважны указывать  \n",
        "значение одного и того же аргумента.  \n",
        "Через позиционный и именованный способ:\n",
        "```python\n",
        "# Дважды указано значение для аргумента а\n",
        "print(add_func(6, a=10))  # TypeError: add_func() got multiple values for argument 'a'\n",
        "```"
      ],
      "metadata": {
        "id": "__ad-OzRCUCR"
      }
    },
    {
      "cell_type": "markdown",
      "source": [
        "***Примечание:***  \n",
        "Как поступать, если у функции слишком длинные названия аргументов  \n",
        "и их слишком много, можно почитать в [PEP8](https://pythonworld.ru/osnovy/pep-8-rukovodstvo-po-napisaniyu-koda-na-python.html#section-3).\n"
      ],
      "metadata": {
        "id": "8ke_hnO-DknH"
      }
    },
    {
      "cell_type": "markdown",
      "metadata": {
        "id": "wFvnskgyWlMQ"
      },
      "source": [
        "#### Аргументы по умолчанию"
      ]
    },
    {
      "cell_type": "markdown",
      "source": [
        "Функция должна принимать столько значений,  \n",
        "сколько было указано аргументов при её определении."
      ],
      "metadata": {
        "id": "OclP03KDdS7j"
      }
    },
    {
      "cell_type": "markdown",
      "metadata": {
        "id": "0fyHWP1OWtln"
      },
      "source": [
        "Сделаем функцию, которая будет по умолчанию возводить число в степень два,  \n",
        "а если мы захотим, то переопределим степень, в которую будем возводить число.\n",
        "\n",
        "Аргументы по умолчанию, позволяют опустить часть аргументов  \n",
        "при вызове функции и не передавать их,  \n",
        "если в этот нет необходимости."
      ]
    },
    {
      "cell_type": "code",
      "metadata": {
        "id": "lJ4QGobRWwOT",
        "colab": {
          "base_uri": "https://localhost:8080/"
        },
        "outputId": "e64c1eb8-f018-4174-bbe0-c850b67b88c4"
      },
      "source": [
        "def pow_func(base, pow_=2):\n",
        "    return base ** pow_\n",
        "\n",
        "\n",
        "print(pow_func(4))  # по умолчанию возводим число в степень два\n",
        "print(pow_func(3, pow_=3))  # переопределяем аргумент по умолчанию\n",
        "print(pow_func(5))  # опять по умолчанию возводим число в степень два"
      ],
      "execution_count": null,
      "outputs": [
        {
          "output_type": "stream",
          "name": "stdout",
          "text": [
            "16\n",
            "27\n",
            "25\n"
          ]
        }
      ]
    },
    {
      "cell_type": "code",
      "source": [
        "print(pow_func(2, 5))  # используем позиционные аргументы\n",
        "print(pow_func(pow_=2, base=8))  # используем именованные аргументы"
      ],
      "metadata": {
        "colab": {
          "base_uri": "https://localhost:8080/"
        },
        "id": "51fxe1zXENd9",
        "outputId": "a038fe99-7719-4aa5-afef-f2f97408b615"
      },
      "execution_count": null,
      "outputs": [
        {
          "output_type": "stream",
          "name": "stdout",
          "text": [
            "32\n",
            "64\n"
          ]
        }
      ]
    },
    {
      "cell_type": "markdown",
      "source": [
        "Рассмотрим функцию **`print`** и её документацию"
      ],
      "metadata": {
        "id": "HYLE4fpLFGLs"
      }
    },
    {
      "cell_type": "code",
      "source": [
        "help(print)"
      ],
      "metadata": {
        "colab": {
          "base_uri": "https://localhost:8080/"
        },
        "id": "BIzT1CC3FQjh",
        "outputId": "38db8b1d-bf98-4106-c7c1-86d7e0fddf9d"
      },
      "execution_count": null,
      "outputs": [
        {
          "output_type": "stream",
          "name": "stdout",
          "text": [
            "Help on built-in function print in module builtins:\n",
            "\n",
            "print(...)\n",
            "    print(value, ..., sep=' ', end='\\n', file=sys.stdout, flush=False)\n",
            "    \n",
            "    Prints the values to a stream, or to sys.stdout by default.\n",
            "    Optional keyword arguments:\n",
            "    file:  a file-like object (stream); defaults to the current sys.stdout.\n",
            "    sep:   string inserted between values, default a space.\n",
            "    end:   string appended after the last value, default a newline.\n",
            "    flush: whether to forcibly flush the stream.\n",
            "\n"
          ]
        }
      ]
    },
    {
      "cell_type": "markdown",
      "source": [
        "Функция умеет принимать любое количество  \n",
        "позиционных аргументов и печать их в строку.\n",
        "\n",
        "Между аргументами ставится значение аргумента **`sep`**.  \n",
        "По умолчанию символ пробела.\n",
        "\n",
        "В конце добавляется значение аргумента **`end`**.  \n",
        "По умолчанию символ переноса строки."
      ],
      "metadata": {
        "id": "28IjoiXwFTpt"
      }
    },
    {
      "cell_type": "code",
      "source": [
        "print(1)\n",
        "print(1, 2)\n",
        "print(1, 2, 3)"
      ],
      "metadata": {
        "colab": {
          "base_uri": "https://localhost:8080/"
        },
        "id": "ErCIjjk2F_yQ",
        "outputId": "c6a02ea4-d064-4990-a1f6-a8a53b4070f0"
      },
      "execution_count": null,
      "outputs": [
        {
          "output_type": "stream",
          "name": "stdout",
          "text": [
            "1\n",
            "1 2\n",
            "1 2 3\n"
          ]
        }
      ]
    },
    {
      "cell_type": "code",
      "source": [
        "print(1, 2, 3, \"_\")  # \"_\" будет воспринято как символ для печати\n",
        "print(1, 2, 3, sep=\"_\")  # \"_\" будет воспринято как разделить между значениями"
      ],
      "metadata": {
        "colab": {
          "base_uri": "https://localhost:8080/"
        },
        "id": "Evi7W-gRGJMB",
        "outputId": "c70aa4cc-f186-4b1e-9c55-6f5a8e75cd1c"
      },
      "execution_count": null,
      "outputs": [
        {
          "output_type": "stream",
          "name": "stdout",
          "text": [
            "1 2 3 _\n",
            "1_2_3\n"
          ]
        }
      ]
    },
    {
      "cell_type": "code",
      "source": [
        "print(1, 2, 3, end=\" | \")  # указали своё значение, которое будет добавлено в конец\n",
        "print(3, 2, 1,)"
      ],
      "metadata": {
        "colab": {
          "base_uri": "https://localhost:8080/"
        },
        "id": "g5xJU79jGcvu",
        "outputId": "7b79e055-7da8-4803-dc37-ea5dce02ebcd"
      },
      "execution_count": null,
      "outputs": [
        {
          "output_type": "stream",
          "name": "stdout",
          "text": [
            "1 2 3 | 3 2 1\n"
          ]
        }
      ]
    },
    {
      "cell_type": "markdown",
      "metadata": {
        "id": "4d7WYJ9ByQ98"
      },
      "source": [
        "### Области видимости"
      ]
    },
    {
      "cell_type": "markdown",
      "source": [
        "Области видимости являются важным моментом  \n",
        "для верного понимания и написания программ."
      ],
      "metadata": {
        "id": "idzn9vCij8oW"
      }
    },
    {
      "cell_type": "markdown",
      "source": [
        "Области видимости определяют, в какой части программы мы можем  \n",
        "работать с той или иной переменной, а от какой они «скрыты».\n",
        "\n",
        "В Python существует несколько областей видимости:\n",
        "- **Локальная** - внутри тела функции.\n",
        "- **Nonlocal** (добавлена в Python 3)\n",
        "- **Глобальная** - на уровне файла с программой\n",
        "- **Встроенная (Built-in)** - область видимости со встроенными  \n",
        "переменными и функциями (`print`, `len`, `sum`, ...)\n",
        "\n",
        "![https://app.diagrams.net/#G1vCDnGZmpdjXhIGA_Z_n10xfEvTysQpGy](https://drive.google.com/uc?id=1vCDnGZmpdjXhIGA_Z_n10xfEvTysQpGy)\n",
        "\n",
        "Тут действует \"**принцип бункера**\".  \n",
        "Снаружи не видно, что происходит внутри бункера.  \n",
        "А вот из бункера можно увидеть, что происходит снаружи."
      ],
      "metadata": {
        "id": "D_gzWDZzultX"
      }
    },
    {
      "cell_type": "markdown",
      "source": [
        "#### Порядок вызова функций"
      ],
      "metadata": {
        "id": "VZJI477kWNbP"
      }
    },
    {
      "cell_type": "markdown",
      "source": [
        "Если внутри функции вызывать функцию,  \n",
        "которая объявлена дальше это ок.  \n",
        "\n",
        "По сути это вызов в локальной области видимости  \n",
        "функции из глобальной области видимости.\n",
        "```python\n",
        "def main():\n",
        "    # что-то выполняем\n",
        "    sub_func()  # вызов функции которая объявлена дальше\n",
        "    # что-то выполняем\n",
        "    \n",
        "\n",
        "def sub_func():\n",
        "    ...\n",
        "\n",
        "main()\n",
        "\n",
        "```\n",
        "\n",
        "А вот находясь в одной и той же области видимости,  \n",
        "вы не можете сначала вызвать функцию, которая объявлена дальше\n",
        "```python\n",
        "sub_func()  # ошибка при вызове функции которая объявлена дальше\n",
        "\n",
        "\n",
        "def sub_func():\n",
        "    ...\n",
        "```"
      ],
      "metadata": {
        "id": "N6_gb2lKWcRx"
      }
    },
    {
      "cell_type": "markdown",
      "source": [
        "#### Локальная и глобальная переменная с одинаковым названием\n",
        "Рассмотрим случай, когда есть  \n",
        "глобальная и локальная переменная  \n",
        "с одим и тем же названием."
      ],
      "metadata": {
        "id": "ONLCdXF-HVsN"
      }
    },
    {
      "cell_type": "code",
      "source": [
        "a = 5  # глобальная переменная\n",
        "\n",
        "def func():\n",
        "    a = 1  # локальная переменная\n",
        "\n",
        "func()\n",
        "print(a)"
      ],
      "metadata": {
        "colab": {
          "base_uri": "https://localhost:8080/"
        },
        "id": "Dv_zCvn9G7-Q",
        "outputId": "f5ce347c-cccc-4be2-d5a8-2769e267520a"
      },
      "execution_count": null,
      "outputs": [
        {
          "output_type": "stream",
          "name": "stdout",
          "text": [
            "5\n"
          ]
        }
      ]
    },
    {
      "cell_type": "markdown",
      "source": [
        "#### Чтение глобальной переменной из локальной области. И наоборот.\n",
        "Рассмотрим следующий случай, когда есть  \n",
        "глобальная переменная и работаем с ней  \n",
        "в локальной области видимости."
      ],
      "metadata": {
        "id": "pGE5jUzaH3mr"
      }
    },
    {
      "cell_type": "code",
      "source": [
        "GLOBAL_VAR = 5  # глобальная переменная\n",
        "\n",
        "def func():\n",
        "    print(GLOBAL_VAR)\n",
        "\n",
        "func()"
      ],
      "metadata": {
        "colab": {
          "base_uri": "https://localhost:8080/"
        },
        "id": "5H49m8m1IHSJ",
        "outputId": "8acffe20-a468-4b60-a494-695d80429b2e"
      },
      "execution_count": null,
      "outputs": [
        {
          "output_type": "stream",
          "name": "stdout",
          "text": [
            "5\n"
          ]
        }
      ]
    },
    {
      "cell_type": "markdown",
      "source": [
        "\"Читать\" глобальную переменную можно  \n",
        "и лучше **читать только контанты**.  \n",
        "\n",
        "А вот использовать локальные переменные  \n",
        "вне локальной области видимости нельзя.  \n",
        "\n",
        "```python\n",
        "def func():\n",
        "    local_var = 1\n",
        "\n",
        "func()\n",
        "print(local_var)  # NameError: name 'local_var' is not defined\n",
        "```"
      ],
      "metadata": {
        "id": "Xqi38O7TISn0"
      }
    },
    {
      "cell_type": "markdown",
      "source": [
        "#### Как определить область видимости переменной  \n",
        "Что будет распечатано?\n",
        "```python\n",
        "global_var = 88  # глобальная переменная\n",
        "\n",
        "def func():\n",
        "    print(global_var)\n",
        "    global_var = 99\n",
        "    print(\"Локальная переменная: \", global_var)\n",
        "\n",
        "func()\n",
        "```\n",
        "\n"
      ],
      "metadata": {
        "id": "Y_zcZUhNrPeV"
      }
    },
    {
      "cell_type": "markdown",
      "source": [
        "Область видимости переменной (область, где она может использоваться)  \n",
        "всегда определяется местом, где ей **было присвоено значение**!!!\n",
        "\n",
        "```python\n",
        "global_var = 88  # глобальная переменная\n",
        "\n",
        "def func():\n",
        "    print(global_var)  # UnboundLocalError: local variable 'global_var' referenced before assignment\n",
        "    global_var = 99  # global_var локальная переменная, хоть названия и совпадают\n",
        "    print(\"Локальная переменная: \", global_var)  \n",
        "\n",
        "func()\n",
        "print(global_var)\n",
        "```"
      ],
      "metadata": {
        "id": "ZiP_DM0Hr52f"
      }
    },
    {
      "cell_type": "code",
      "source": [
        "global_var = 88  # глобальная переменная\n",
        "\n",
        "def func():\n",
        "    global_var = 99  # global_var локальная переменная, хоть названия и совпадают\n",
        "    print(\"Локальная переменная: \", global_var)\n",
        "\n",
        "func()\n",
        "print(global_var)"
      ],
      "metadata": {
        "colab": {
          "base_uri": "https://localhost:8080/"
        },
        "id": "yP-vC1-XCTeV",
        "outputId": "78d18d17-c6c5-48e9-e3e8-b3e5a09a23bf"
      },
      "execution_count": null,
      "outputs": [
        {
          "output_type": "stream",
          "name": "stdout",
          "text": [
            "Локальная переменная:  99\n",
            "88\n"
          ]
        }
      ]
    },
    {
      "cell_type": "markdown",
      "source": [
        "### \"Чистые\" функции"
      ],
      "metadata": {
        "id": "JuKPIH1PwvVQ"
      }
    },
    {
      "cell_type": "markdown",
      "source": [
        "Под \"чистой\" функцией понимают такую функцию, которая:\n",
        "1. При одних и тех же входных данных возвращает одни и  \n",
        "те же выходные данные (детерминированность).\n",
        "2. Функция не модифицирует значения глобальных  \n",
        "переменных внутри себя.  "
      ],
      "metadata": {
        "id": "37xCJC6SY7Hl"
      }
    },
    {
      "cell_type": "code",
      "metadata": {
        "id": "saDA9plGXuLM",
        "colab": {
          "base_uri": "https://localhost:8080/"
        },
        "outputId": "5ea14917-ebcf-44bd-a909-94290c256175"
      },
      "source": [
        "CONST_VAR = 99  # глобальная переменная\n",
        "\n",
        "def func(local_var):\n",
        "    local_result = CONST_VAR + local_var\n",
        "    return local_result\n",
        "\n",
        "# первый вызов функции с аргументом 1\n",
        "CONST_VAR = func(1)\n",
        "print(CONST_VAR)\n",
        "\n",
        "# второй вызов функции с аргументом 1\n",
        "print(func(1))"
      ],
      "execution_count": null,
      "outputs": [
        {
          "output_type": "stream",
          "name": "stdout",
          "text": [
            "100\n",
            "101\n"
          ]
        }
      ]
    },
    {
      "cell_type": "code",
      "metadata": {
        "id": "6XymHHHKzmyh",
        "colab": {
          "base_uri": "https://localhost:8080/"
        },
        "outputId": "0e7cbd44-c19a-4709-bbf8-55920866bda4"
      },
      "source": [
        "global_var = 88  # глобальная переменная\n",
        "\n",
        "def func():\n",
        "    global global_var  # переменная global_var не локальная, а ссылается на глобальную\n",
        "    global_var = global_var + 1  # изменяю глобальную переменную\n",
        "\n",
        "func()\n",
        "print(global_var)"
      ],
      "execution_count": null,
      "outputs": [
        {
          "output_type": "stream",
          "name": "stdout",
          "text": [
            "89\n"
          ]
        }
      ]
    },
    {
      "cell_type": "markdown",
      "metadata": {
        "id": "yyBJogNyzmRe"
      },
      "source": [
        "Не нужно менять значение глобальных  \n",
        "переменных внутри функции!!!\n",
        "\n",
        "Сообщество разработчиков Python объявило  \n",
        "такую практику очень нежелательной,  \n",
        "так как из-за этого исправление кода  \n",
        "становится намного сложнее."
      ]
    },
    {
      "cell_type": "code",
      "source": [
        "global_var = 88  # глобальная переменная\n",
        "\n",
        "def func(local_var):\n",
        "    return local_var + 1  # изменяю локальную переменную\n",
        "\n",
        "global_var = func(global_var)\n",
        "print(global_var)  # 89"
      ],
      "metadata": {
        "colab": {
          "base_uri": "https://localhost:8080/"
        },
        "id": "cie460ToiQUz",
        "outputId": "dd73f7dd-435c-43d2-97fc-09bd09a46af4"
      },
      "execution_count": null,
      "outputs": [
        {
          "output_type": "stream",
          "name": "stdout",
          "text": [
            "89\n"
          ]
        }
      ]
    },
    {
      "cell_type": "markdown",
      "metadata": {
        "id": "8mME19xtTMzN"
      },
      "source": [
        "### Изменяемые и неизменяемые объекты при работе с функциями"
      ]
    },
    {
      "cell_type": "markdown",
      "source": [
        "#### Изменяемые и неизменяемые типы данных как аргументы функции"
      ],
      "metadata": {
        "id": "qvMHhgte-ZMZ"
      }
    },
    {
      "cell_type": "markdown",
      "metadata": {
        "id": "GcwHy8A1USsX"
      },
      "source": [
        "Типы данных в python делятся на:\n",
        "- Неизменяемые - **immutable**\n",
        "- Изменяемые - **mutable**\n",
        "\n",
        "![https://app.diagrams.net/#G1QVcWw9KspgIBQ5TOqupm-1Ou-s06aOp0](https://drive.google.com/uc?id=1QVcWw9KspgIBQ5TOqupm-1Ou-s06aOp0)\n",
        "\n",
        "![https://app.diagrams.net/#G1ixGfUnlDiqd8dHhgjr1mk5y2AwmKlEZS](https://drive.google.com/uc?id=1ixGfUnlDiqd8dHhgjr1mk5y2AwmKlEZS)\n"
      ]
    },
    {
      "cell_type": "code",
      "source": [
        "tuple_ = (1, 2, 3)\n",
        "\n",
        "def append_to_tuple(local_tuple):\n",
        "    local_tuple += (4,)  # конкатенация кортежей\n",
        "    return local_tuple\n",
        "\n",
        "modified_tuple = append_to_tuple(tuple_)\n",
        "print(tuple_, modified_tuple)\n",
        "print(tuple_ is modified_tuple)"
      ],
      "metadata": {
        "colab": {
          "base_uri": "https://localhost:8080/"
        },
        "id": "Q0oMpBF9-geq",
        "outputId": "718e75af-c714-4f20-ccaa-cf37c203f190"
      },
      "execution_count": null,
      "outputs": [
        {
          "output_type": "stream",
          "name": "stdout",
          "text": [
            "(1, 2, 3) (1, 2, 3, 4)\n",
            "False\n"
          ]
        }
      ]
    },
    {
      "cell_type": "code",
      "source": [
        "list_ = [1, 2, 3]\n",
        "\n",
        "def append_to_list(local_list):\n",
        "    local_list += [4] # конкатенация списков\n",
        "    return local_list\n",
        "\n",
        "modified_list = append_to_list(list_)\n",
        "print(list_, modified_list)\n",
        "print(list_ is modified_list)"
      ],
      "metadata": {
        "colab": {
          "base_uri": "https://localhost:8080/"
        },
        "id": "sEourqbU_Agv",
        "outputId": "cd19bc30-8190-4185-c6b4-710e16a5accb"
      },
      "execution_count": null,
      "outputs": [
        {
          "output_type": "stream",
          "name": "stdout",
          "text": [
            "[1, 2, 3, 4] [1, 2, 3, 4]\n",
            "True\n"
          ]
        }
      ]
    },
    {
      "cell_type": "code",
      "source": [
        "list_ = [1, 2, 3]\n",
        "\n",
        "def clear_append_to_list(local_list):\n",
        "    local_list = local_list[:]\n",
        "    local_list += [4] # конкатенация списков\n",
        "    return local_list\n",
        "\n",
        "modified_list = clear_append_to_list(list_)\n",
        "print(list_, modified_list)\n",
        "print(list_ is modified_list)"
      ],
      "metadata": {
        "colab": {
          "base_uri": "https://localhost:8080/"
        },
        "id": "dbkiVGcwBQk3",
        "outputId": "b8345196-4d4f-466d-86b8-85181cdc268f"
      },
      "execution_count": null,
      "outputs": [
        {
          "output_type": "stream",
          "name": "stdout",
          "text": [
            "[1, 2, 3] [1, 2, 3, 4]\n",
            "False\n"
          ]
        }
      ]
    },
    {
      "cell_type": "markdown",
      "metadata": {
        "id": "H63BjOzcXKI0"
      },
      "source": [
        "#### Использование изменяемых типов данных в качестве аргументов по умолчанию"
      ]
    },
    {
      "cell_type": "markdown",
      "metadata": {
        "id": "JMf4knryXYI0"
      },
      "source": [
        "Еще один момент, которого следует избегать при объявлении функций,  \n",
        "так это то, что в качестве значений для параметров по умолчанию  \n",
        "не следует использовать изменяемые типы данных (например, списки или словари)"
      ]
    },
    {
      "cell_type": "code",
      "metadata": {
        "id": "wwNHOGFyXTdK",
        "colab": {
          "base_uri": "https://localhost:8080/"
        },
        "outputId": "f9b5b0ec-cbdf-4967-9b65-686703b8ec42"
      },
      "source": [
        "def incorrect_func(name_arg=[]):\n",
        "    # name_arg является локальной переменной\n",
        "    print(\"Аргумент до изменения\", name_arg)\n",
        "    name_arg += [1]\n",
        "    print(\"Аргумент после изменения\", name_arg)\n",
        "\n",
        "incorrect_func()\n",
        "print('-----')\n",
        "incorrect_func()"
      ],
      "execution_count": null,
      "outputs": [
        {
          "output_type": "stream",
          "name": "stdout",
          "text": [
            "Аргумент до изменения []\n",
            "Аргумент после изменения [1]\n",
            "-----\n",
            "Аргумент до изменения [1]\n",
            "Аргумент после изменения [1, 1]\n"
          ]
        }
      ]
    },
    {
      "cell_type": "markdown",
      "metadata": {
        "id": "yH_pzKGaXnXx"
      },
      "source": [
        "Видим что при одних и тех же входных данных функция  \n",
        "выдает разные результаты, что в дальнейшей разработке  \n",
        "может вводить в заблуждение.  \n",
        "Если вдруг внутри функции нужно использовать списки,  \n",
        "то этот момент можно обойти следующим образом"
      ]
    },
    {
      "cell_type": "code",
      "metadata": {
        "id": "kvtmXIewXfEE",
        "colab": {
          "base_uri": "https://localhost:8080/"
        },
        "outputId": "7bcf5175-fd59-4338-83cb-5530d7adbc9a"
      },
      "source": [
        "# установим аргумент name_arg пустым а внутри функции будем проверять его\n",
        "def correct_func(name_arg=None):\n",
        "    if name_arg is None:\n",
        "        name_arg = []  # Если пользователь не указал свой список, сделаем новый пустой\n",
        "    print(\"Аргумент до изменения\", name_arg)\n",
        "    name_arg += [1]\n",
        "    print(\"Аргумент после изменения\", name_arg)\n",
        "\n",
        "# вызовем два раза одну и ту же функцию\n",
        "correct_func()\n",
        "print('-----')\n",
        "correct_func()\n",
        "print('-----')\n",
        "correct_func([123])\n",
        "print('-----')\n",
        "correct_func(name_arg=[])\n",
        "print('-----')\n",
        "correct_func()"
      ],
      "execution_count": null,
      "outputs": [
        {
          "output_type": "stream",
          "name": "stdout",
          "text": [
            "Аргумент до изменения []\n",
            "Аргумент после изменения [1]\n",
            "-----\n",
            "Аргумент до изменения []\n",
            "Аргумент после изменения [1]\n",
            "-----\n",
            "Аргумент до изменения [123]\n",
            "Аргумент после изменения [123, 1]\n",
            "-----\n",
            "Аргумент до изменения []\n",
            "Аргумент после изменения [1]\n",
            "-----\n",
            "Аргумент до изменения []\n",
            "Аргумент после изменения [1]\n"
          ]
        }
      ]
    },
    {
      "cell_type": "markdown",
      "source": [
        "## Методы"
      ],
      "metadata": {
        "id": "A8GYpyDAaqvT"
      }
    },
    {
      "cell_type": "markdown",
      "metadata": {
        "id": "2WGeZcxevIjN"
      },
      "source": [
        "Под **методом** будем понимать такую функцию,  \n",
        "которая работает в связке с определенным типом данных.\n",
        "\n",
        "Чтобы вызвать метод (выполнить команду) необходимо взять переменную  \n",
        "или сам объект некоторого типа данных и после поставить знак `.` (точка)  \n",
        "и указать необходимый метод.\n",
        "\n",
        "```python\n",
        "list_ = [1, 2, 3]\n",
        "list_.append(4)  # метод списка append\n",
        "```\n",
        "\n",
        "```python\n",
        "\"Hello World\".lower()  # метод строки lower\n",
        "\n",
        "str_ = \"test\"\n",
        "str_.upper()  # метод строки upper\n",
        "```"
      ]
    },
    {
      "cell_type": "code",
      "source": [
        "\"test\".upper().lower()"
      ],
      "metadata": {
        "id": "SuKrnRPkMd7F"
      },
      "execution_count": null,
      "outputs": []
    },
    {
      "cell_type": "code",
      "source": [
        "new_str = \"test\".upper()\n",
        "new_str = new_str.lower()"
      ],
      "metadata": {
        "id": "vWT_qAMKMqiq"
      },
      "execution_count": null,
      "outputs": []
    },
    {
      "cell_type": "markdown",
      "metadata": {
        "id": "EWA7qA0Hz8e7"
      },
      "source": [
        "### Методы строк"
      ]
    },
    {
      "cell_type": "markdown",
      "metadata": {
        "id": "7i1FQR-dyo8b"
      },
      "source": [
        "Строки являются неизменяемыми типами данных,  \n",
        "поэтому если какие-то методы изменяют строку,  \n",
        "то всегда возвращается новый результат!\n",
        "\n",
        "- `str.split()` - Разбиение строки по разделителю.\n",
        "\n",
        "- `str.isdigit()` - Состоит ли строка из цифр.\n",
        "\n",
        "- `str.lower()` - Преобразование строки к нижнему регистру.\n",
        "\n",
        "- `separate_str.join(последовательность символов)` - Сборка строки из списка с разделителем `separate_str`.\n",
        "\n",
        "***Примечание:***\n",
        "\n",
        "Подробный перечень методов строк можно получить в [официальной документации](https://docs.python.org/3/library/stdtypes.html#string-methods).\n",
        "\n"
      ]
    },
    {
      "cell_type": "markdown",
      "source": [
        "#### Экранирование символов. `repr`."
      ],
      "metadata": {
        "id": "ocPm1KS-NvD7"
      }
    },
    {
      "cell_type": "markdown",
      "source": [
        "Есть некоторые [символы](https://pythonim.ru/string/funktsiya-string-isprintable-v-python#:~:text=%D0%9D%D0%B5%D0%BF%D0%B5%D1%87%D0%B0%D1%82%D0%B0%D0%B5%D0%BC%D1%8B%D0%B5%20%D1%81%D0%B8%D0%BC%D0%B2%D0%BE%D0%BB%D1%8B%20%E2%80%93%20%D1%8D%D1%82%D0%BE%20%D1%82%D0%B5%20%D1%81%D0%B8%D0%BC%D0%B2%D0%BE%D0%BB%D1%8B,%D0%B2%D1%8B%D0%B7%D0%BE%D0%B2%D0%B5%20repr()%20%D0%B4%D0%BB%D1%8F%20%D1%81%D1%82%D1%80%D0%BE%D0%BA%D0%B8.), которые не печатаются,  \n",
        "но несут некоторую смысловую нагрузку.  \n",
        "\n",
        "Например, это символ `\\n` - символ новой строки.  \n",
        "Чтобы интепретатор понял, что это символ переноса строки,  \n",
        "а не буква n, перед ней ставится обратный слеш `\\` - и означает  \n",
        "он экранирование символа."
      ],
      "metadata": {
        "id": "MHFDZMSkPT14"
      }
    },
    {
      "cell_type": "code",
      "source": [
        "one_line_str = \"word1, word2, word3,\\nword4, word5, word6\"\n",
        "print(one_line_str)"
      ],
      "metadata": {
        "colab": {
          "base_uri": "https://localhost:8080/"
        },
        "id": "oiL9iwfCLnLl",
        "outputId": "4b67fcc9-a00c-41ce-caf7-a55a91929d16"
      },
      "execution_count": null,
      "outputs": [
        {
          "output_type": "stream",
          "name": "stdout",
          "text": [
            "word1, word2, word3,\n",
            "word4, word5, word6\n"
          ]
        }
      ]
    },
    {
      "cell_type": "code",
      "source": [
        "multiline_str = \"\"\"word1, word2, word3,\n",
        "word4, word5, word6\"\"\"\n",
        "print(multiline_str)\n",
        "print(repr(multiline_str))  # repr позволяет увидеть непечатаемые символы"
      ],
      "metadata": {
        "colab": {
          "base_uri": "https://localhost:8080/"
        },
        "id": "YskHDTbWLui4",
        "outputId": "af7ac004-7106-4acd-a1ef-921d06af9003"
      },
      "execution_count": null,
      "outputs": [
        {
          "output_type": "stream",
          "name": "stdout",
          "text": [
            "word1, word2, word3,\n",
            "word4, word5, word6\n",
            "'word1, word2, word3,\\nword4, word5, word6'\n"
          ]
        }
      ]
    },
    {
      "cell_type": "markdown",
      "source": [
        "#### Методы `split` и `join`"
      ],
      "metadata": {
        "id": "gTijK4VsRClz"
      }
    },
    {
      "cell_type": "code",
      "metadata": {
        "id": "5cL_xfuATTJs",
        "colab": {
          "base_uri": "https://localhost:8080/"
        },
        "outputId": "9dd3fa1d-7690-4221-8734-1d0d92fdcaba"
      },
      "source": [
        "str_ = \"word1, word2, word3,\\nword4, word5, word6\"\n",
        "list_words = str_.split()  # в качестве разделителя используются все непечатываемые символы\n",
        "\n",
        "print(str_)\n",
        "print(list_words, type(list_words))"
      ],
      "execution_count": null,
      "outputs": [
        {
          "output_type": "stream",
          "name": "stdout",
          "text": [
            "word1, word2, word3,\n",
            "word4, word5, word6\n",
            "['word1,', 'word2,', 'word3,', 'word4,', 'word5,', 'word6'] <class 'list'>\n"
          ]
        }
      ]
    },
    {
      "cell_type": "code",
      "metadata": {
        "id": "6ml62XbWTkFX",
        "colab": {
          "base_uri": "https://localhost:8080/"
        },
        "outputId": "933f82ee-1a65-46f6-b618-492ee7b885ee"
      },
      "source": [
        "str_ = \"word1, word2, word3,\\nword4, word5, word6\"\n",
        "list_words = str_.split(\",\")  # в качестве разделителя используется запятая\n",
        "print(list_words)"
      ],
      "execution_count": null,
      "outputs": [
        {
          "output_type": "stream",
          "name": "stdout",
          "text": [
            "['word1', ' word2', ' word3', '\\nword4', ' word5', ' word6']\n"
          ]
        }
      ]
    },
    {
      "cell_type": "code",
      "metadata": {
        "id": "NTT6And5VcvI",
        "colab": {
          "base_uri": "https://localhost:8080/"
        },
        "outputId": "154b2c78-4004-44b1-e0ec-d98850bac565"
      },
      "source": [
        "str_ = \"word1 word2 word3 word4 word5 word6\"\n",
        "\n",
        "list_words = str_.split()\n",
        "str_with_separate = \", \".join(list_words)  # склеивает строки указанному соединителю\n",
        "print(str_with_separate)"
      ],
      "execution_count": null,
      "outputs": [
        {
          "output_type": "stream",
          "name": "stdout",
          "text": [
            "word1, word2, word3, word4, word5, word6\n"
          ]
        }
      ]
    },
    {
      "cell_type": "code",
      "metadata": {
        "id": "XF1V-PHeWAW2",
        "colab": {
          "base_uri": "https://localhost:8080/"
        },
        "outputId": "62885b84-c7b9-40f3-b3ea-4c6ece4feb4a"
      },
      "source": [
        "str_ = \"Hello, World\"\n",
        "new_lower_str = str_.lower()\n",
        "\n",
        "print(\"Исходная строка:\", repr(str_))\n",
        "print(\"Измененная строка:\", repr(new_lower_str))"
      ],
      "execution_count": null,
      "outputs": [
        {
          "output_type": "stream",
          "name": "stdout",
          "text": [
            "Исходная строка: 'Hello, World'\n",
            "Измененная строка: 'hello, world'\n"
          ]
        }
      ]
    },
    {
      "cell_type": "markdown",
      "metadata": {
        "id": "qg0T5z80J92Y"
      },
      "source": [
        "##### ***Задача:***\n",
        "\n",
        "Определить, является ли строка палиндромом."
      ]
    },
    {
      "cell_type": "code",
      "metadata": {
        "id": "nGZQuax16x73",
        "colab": {
          "base_uri": "https://localhost:8080/"
        },
        "outputId": "9703b216-4147-4d9b-967e-661f1f5e7962"
      },
      "source": [
        "s = \"Кит на море не романтик\"\n",
        "\n",
        "print(s == s[::-1])  # разворачиваем строку с помощью слайсирования"
      ],
      "execution_count": null,
      "outputs": [
        {
          "output_type": "stream",
          "name": "stdout",
          "text": [
            "False\n"
          ]
        }
      ]
    },
    {
      "cell_type": "code",
      "metadata": {
        "id": "UfzHoM8lHkvp",
        "colab": {
          "base_uri": "https://localhost:8080/"
        },
        "outputId": "8e5e7d28-4b2f-4a9c-f58b-eb85be913393"
      },
      "source": [
        "def is_polyndrom(src_str):\n",
        "    src_str = \"\".join(src_str.split())  # избавляемся от пробелов\n",
        "    src_str = src_str.lower()  # приводим строку к нижнему регистру\n",
        "\n",
        "    return src_str == src_str[::-1]\n",
        "\n",
        "s = \"Кит на море не романтик\"\n",
        "print(\"Строка\", repr(s), \"полиндром?\", is_polyndrom(s))"
      ],
      "execution_count": null,
      "outputs": [
        {
          "output_type": "stream",
          "name": "stdout",
          "text": [
            "Строка 'Кит на море не романтик' полиндром? True\n"
          ]
        }
      ]
    },
    {
      "cell_type": "markdown",
      "metadata": {
        "id": "BXOqEoDCvIjN"
      },
      "source": [
        "### Методы списков"
      ]
    },
    {
      "cell_type": "markdown",
      "metadata": {
        "id": "ZMuTkBsCw_mE"
      },
      "source": [
        "Какие-то методы не возвращают результат:\n",
        "- `list.append()` - вставляет в конец исходного списка значение аргумента.\n",
        "- `list.sort()` - сортирует список.\n",
        "\n",
        "А какие-то методы возвращают результат:\n",
        "\n",
        "- `list.copy()` - возвращает копию списка\n",
        "\n",
        "***Примечание:***\n",
        "\n",
        "Подробный перечень методов списков можно получить в [официальной документации](https://docs.python.org/3/tutorial/datastructures.html?highlight=list%20method#more-on-lists).\n"
      ]
    },
    {
      "cell_type": "code",
      "metadata": {
        "id": "00jKYgJTvSWr",
        "colab": {
          "base_uri": "https://localhost:8080/"
        },
        "outputId": "98c80063-f13c-424b-ee20-784fef0ae349"
      },
      "source": [
        "# добавление объекта в конец списка\n",
        "list_ = [1, 2, 3]\n",
        "\n",
        "print(list_.append([\"vds\"]))  # ничего не возвращает, изменяет сам объект\n",
        "print(list_)"
      ],
      "execution_count": null,
      "outputs": [
        {
          "output_type": "stream",
          "name": "stdout",
          "text": [
            "None\n",
            "[1, 2, 3, ['vds']]\n"
          ]
        }
      ]
    },
    {
      "cell_type": "code",
      "source": [
        "list_ = [\"я\", \"ю\", \"э\"]\n",
        "\n",
        "list_.sort()  # по умолчанию сортирует по возрастанию\n",
        "print(list_)"
      ],
      "metadata": {
        "id": "Fas-AxkZmT2M",
        "colab": {
          "base_uri": "https://localhost:8080/"
        },
        "outputId": "5e872998-d0ab-4d86-ae17-991b2dad974c"
      },
      "execution_count": null,
      "outputs": [
        {
          "output_type": "stream",
          "name": "stdout",
          "text": [
            "['э', 'ю', 'я']\n"
          ]
        }
      ]
    },
    {
      "cell_type": "code",
      "source": [
        "list_ = [1, 2, 3]\n",
        "\n",
        "list_.sort(reverse=True)  # reverse=True сортирует по убыванию\n",
        "print(list_)"
      ],
      "metadata": {
        "colab": {
          "base_uri": "https://localhost:8080/"
        },
        "id": "KnEx0cHQm6hC",
        "outputId": "e68c2812-7058-4ec5-8a76-643b2a314916"
      },
      "execution_count": null,
      "outputs": [
        {
          "output_type": "stream",
          "name": "stdout",
          "text": [
            "[3, 2, 1]\n"
          ]
        }
      ]
    },
    {
      "cell_type": "code",
      "metadata": {
        "id": "6lP0eZyBxxV_",
        "colab": {
          "base_uri": "https://localhost:8080/"
        },
        "outputId": "53bb9a98-2ff9-44be-b7fc-c9b38a5d3499"
      },
      "source": [
        "list_ = [1, 2, 3]\n",
        "\n",
        "copy_list = list_.copy()\n",
        "print(copy_list)\n",
        "print(list_ is copy_list)"
      ],
      "execution_count": null,
      "outputs": [
        {
          "output_type": "stream",
          "name": "stdout",
          "text": [
            "[1, 2, 3]\n",
            "False\n"
          ]
        }
      ]
    },
    {
      "cell_type": "code",
      "metadata": {
        "id": "D7ehfXkMyFqu",
        "colab": {
          "base_uri": "https://localhost:8080/"
        },
        "outputId": "d0f88a5f-8f5d-411f-da79-3a93bb9074f9"
      },
      "source": [
        "# копирование списка можно сделать также через слайсирование\n",
        "list_ = [1, 2, 3]\n",
        "\n",
        "copy_list = list_[:]\n",
        "print(copy_list)\n",
        "print(list_ is copy_list)"
      ],
      "execution_count": null,
      "outputs": [
        {
          "output_type": "stream",
          "name": "stdout",
          "text": [
            "[1, 2, 3]\n",
            "False\n"
          ]
        }
      ]
    },
    {
      "cell_type": "markdown",
      "source": [
        "##### ***Задача***\n",
        "\n",
        "Дан словарь учеников.  \n",
        "Составить список имен, только учеников старше 18.  \n",
        "Получившийся результат отсортировать в алфавитном порядке.  "
      ],
      "metadata": {
        "id": "j-VICIMhRutw"
      }
    },
    {
      "cell_type": "code",
      "source": [
        "students_dict = {\n",
        "    'Саша': 27,\n",
        "    'Кирилл': 52,\n",
        "    'Маша': 14,\n",
        "    'Петя': 36,\n",
        "    'Оля': 43,\n",
        "}\n",
        "min_age = 18  # минимальный возраст\n",
        "\n",
        "students_list = []\n",
        "for student in students_dict:\n",
        "    if students_dict[student] > min_age:\n",
        "        students_list.append(student)\n",
        "\n",
        "print(\"Исходный список:\", students_list)\n",
        "\n",
        "students_list.sort()\n",
        "print(\"Отсортированный список:\", students_list)"
      ],
      "metadata": {
        "colab": {
          "base_uri": "https://localhost:8080/"
        },
        "id": "Qmz6FyNzSI_F",
        "outputId": "70a7aec0-7779-4003-e3dc-6bd7baf9d2e7"
      },
      "execution_count": null,
      "outputs": [
        {
          "output_type": "stream",
          "name": "stdout",
          "text": [
            "Исходный список: ['Саша', 'Кирилл', 'Петя', 'Оля']\n",
            "Отсортированный список: ['Кирилл', 'Оля', 'Петя', 'Саша']\n"
          ]
        }
      ]
    },
    {
      "cell_type": "markdown",
      "source": [
        "### Методы словарей"
      ],
      "metadata": {
        "id": "vq18BFVjlSIR"
      }
    },
    {
      "cell_type": "markdown",
      "source": [
        "- `dict.get(key, default=None)` - Получить значение по ключу key. Если ключа нет, то вместо исключения возвращает значение аргумента default.\n",
        "\n",
        "- `dict.setdefault(key, default=None)` - Возвращает значение по ключу key, инициализируя элемент словаря, если необходимо, указанным значением default.\n",
        "\n",
        "- `dict.values()` - возвращает только значения из словаря.\n",
        "- `dict.items()` - возвращает пары ключ - значения из словаря.\n",
        "\n",
        "***Примечание:***\n",
        "\n",
        "Подробный перечень методов словарей можно получить в [официальной документации](https://docs.python.org/3/library/stdtypes.html#dict).\n"
      ],
      "metadata": {
        "id": "yzb7lBDSEJsG"
      }
    },
    {
      "cell_type": "markdown",
      "source": [
        "##### ***Задача***\n",
        "\n",
        "Дана корзина с фруктами в виде словаря.  \n",
        "Где по ключу находится название фрукта, а по значению его количество.  \n",
        "\n",
        "Распечать в столбик название фрукта и его количество.  \n",
        "А также распечатать общее количество всех фруктов."
      ],
      "metadata": {
        "id": "3dVuHcmLG0U7"
      }
    },
    {
      "cell_type": "markdown",
      "source": [
        "```python\n",
        "cart = {\n",
        "    \"Яблоко\": 23,\n",
        "    \"Апельсин\": 47,\n",
        "    \"Банан\": 10\n",
        "}\n",
        "\n",
        "for fruit in cart:  # перебираем ключи\n",
        "    print(fruit, \". Количество:\", cart[fruit])\n",
        "```"
      ],
      "metadata": {
        "id": "qTflK8BIHuba"
      }
    },
    {
      "cell_type": "code",
      "source": [
        "cart = {\n",
        "    \"Яблоко\": 23,\n",
        "    \"Апельсин\": 47,\n",
        "    \"Банан\": 10\n",
        "}\n",
        "\n",
        "for fruit, count in cart.items():  # перебираем пары ключ-значение\n",
        "    print(fruit)\n",
        "    print(\"Количество:\", count)\n",
        "    print()\n",
        "\n",
        "total_count = sum(cart.values())  # суммируем только значения\n",
        "print(\"Общее количество фруктов:\", total_count)"
      ],
      "metadata": {
        "colab": {
          "base_uri": "https://localhost:8080/"
        },
        "id": "RBt7clTNHSkk",
        "outputId": "6f372ca8-a912-408b-8640-bf0ae6c8e79b"
      },
      "execution_count": null,
      "outputs": [
        {
          "output_type": "stream",
          "name": "stdout",
          "text": [
            "Яблоко\n",
            "Количество: 23\n",
            "\n",
            "Апельсин\n",
            "Количество: 47\n",
            "\n",
            "Банан\n",
            "Количество: 10\n",
            "\n",
            "Общее количество фруктов: 80\n"
          ]
        }
      ]
    },
    {
      "cell_type": "markdown",
      "source": [
        "##### ***Задача***\n",
        "Дан список оценок.  \n",
        "Составить словарь, сколько человек получили каждую из оценок."
      ],
      "metadata": {
        "id": "5SzVI6ojdQmI"
      }
    },
    {
      "cell_type": "code",
      "source": [
        "grades_list = [5, 5, 4, 3, 4, 5, 5]\n",
        "\n",
        "graders_dict = {}\n",
        "\n",
        "for grade in grades_list:\n",
        "    if grade in graders_dict:\n",
        "        graders_dict[grade] += 1  # оценку уже встречали, поэтому увеличиваем количество\n",
        "    else:\n",
        "        graders_dict[grade] = 1  # оценку встретили 1 раз\n",
        "\n",
        "graders_dict"
      ],
      "metadata": {
        "colab": {
          "base_uri": "https://localhost:8080/"
        },
        "id": "8-e7bPlwdo0s",
        "outputId": "4d879707-f407-4fc8-a454-25f55bdbb723"
      },
      "execution_count": null,
      "outputs": [
        {
          "output_type": "execute_result",
          "data": {
            "text/plain": [
              "{3: 1, 4: 2, 5: 4}"
            ]
          },
          "metadata": {},
          "execution_count": 1
        }
      ]
    },
    {
      "cell_type": "code",
      "source": [
        "grades_list = [5, 5, 4, 3, 4, 5, 5]\n",
        "\n",
        "graders_dict = {}\n",
        "DEFAULT_COUNT = 0\n",
        "\n",
        "for grade in grades_list:\n",
        "    graders_dict[grade] = graders_dict.get(grade, DEFAULT_COUNT) + 1\n",
        "\n",
        "graders_dict"
      ],
      "metadata": {
        "colab": {
          "base_uri": "https://localhost:8080/"
        },
        "id": "5lLu8kpoCo0G",
        "outputId": "4cb0c12a-afba-4bbe-beea-06258d7b98d9"
      },
      "execution_count": null,
      "outputs": [
        {
          "output_type": "execute_result",
          "data": {
            "text/plain": [
              "{3: 1, 4: 2, 5: 4}"
            ]
          },
          "metadata": {},
          "execution_count": 2
        }
      ]
    },
    {
      "cell_type": "code",
      "source": [
        "DEFAULT_COUNT = 0\n",
        "graders_dict = {\n",
        "    3: 1,\n",
        "    4: 2,\n",
        "    5: 4\n",
        "}\n",
        "\n",
        "print(graders_dict.get(2))  # значение по умолчанию None вместо исключения, если ключа нет\n",
        "print(graders_dict.get(2, DEFAULT_COUNT))  # свое значение по умолчанию"
      ],
      "metadata": {
        "colab": {
          "base_uri": "https://localhost:8080/"
        },
        "id": "oMf4pmcvDAsE",
        "outputId": "cf3d00fd-ac19-4f33-fe94-c45a26758a44"
      },
      "execution_count": null,
      "outputs": [
        {
          "output_type": "stream",
          "name": "stdout",
          "text": [
            "None\n",
            "0\n"
          ]
        }
      ]
    },
    {
      "cell_type": "markdown",
      "source": [
        "### Методы множеств\n",
        "\n",
        "\n"
      ],
      "metadata": {
        "id": "ndjRKJl9lV4h"
      }
    },
    {
      "cell_type": "markdown",
      "source": [
        "Методы множеств, полезны при работе с таким понятием как [круги Эйлера](https://ru.wikipedia.org/wiki/%D0%94%D0%B8%D0%B0%D0%B3%D1%80%D0%B0%D0%BC%D0%BC%D0%B0_%D0%AD%D0%B9%D0%BB%D0%B5%D1%80%D0%B0).  \n",
        "![](https://metanit.com/swift/tutorial/pics/2.1.png)\n",
        "\n",
        "- `set.intersection()` - пересечение двух множеств. Нахождение общих элементов.\n",
        "- `set.difference()` - разность двух множеств. Нахождение отсутствующих элементов.\n",
        "\n",
        "***Примечание:***\n",
        "\n",
        "Подробный перечень методов словарей можно получить в [официальной документации](https://docs.python.org/3/library/stdtypes.html#set).\n"
      ],
      "metadata": {
        "id": "qfEKX8rdFHRK"
      }
    },
    {
      "cell_type": "code",
      "source": [
        "fisrt_cart = {\"Яблоко\", \"Апельсин\", \"Банан\"}\n",
        "second_cart = {\"Яблоко\", \"Персик\", \"Банан\"}\n",
        "\n",
        "print(\"Одинаковые фрукты в двух корзинах:\", fisrt_cart.intersection(second_cart))\n",
        "print(\"Фрукты второй корзины, которых нет в первой:\", second_cart.difference(fisrt_cart))"
      ],
      "metadata": {
        "colab": {
          "base_uri": "https://localhost:8080/"
        },
        "id": "I5hdGRDMFUAd",
        "outputId": "c29b011f-136a-472b-a348-10aebe3ad131"
      },
      "execution_count": null,
      "outputs": [
        {
          "output_type": "stream",
          "name": "stdout",
          "text": [
            "Одинаковые фрукты в двух корзинах: {'Яблоко', 'Банан'}\n",
            "Фрукты второй корзины, которых нет в первой: {'Персик'}\n"
          ]
        }
      ]
    }
  ]
}