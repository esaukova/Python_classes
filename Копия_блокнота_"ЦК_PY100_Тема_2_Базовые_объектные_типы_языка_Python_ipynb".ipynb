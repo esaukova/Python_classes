{
  "nbformat": 4,
  "nbformat_minor": 0,
  "metadata": {
    "colab": {
      "provenance": [],
      "collapsed_sections": [
        "jhFAG7N9HphL",
        "X-BR5bo8fCxw"
      ],
      "include_colab_link": true
    },
    "kernelspec": {
      "name": "python3",
      "display_name": "Python 3"
    }
  },
  "cells": [
    {
      "cell_type": "markdown",
      "metadata": {
        "id": "view-in-github",
        "colab_type": "text"
      },
      "source": [
        "<a href=\"https://colab.research.google.com/github/esaukova/Python_classes/blob/main/%D0%9A%D0%BE%D0%BF%D0%B8%D1%8F_%D0%B1%D0%BB%D0%BE%D0%BA%D0%BD%D0%BE%D1%82%D0%B0_%22%D0%A6%D0%9A_PY100_%D0%A2%D0%B5%D0%BC%D0%B0_2_%D0%91%D0%B0%D0%B7%D0%BE%D0%B2%D1%8B%D0%B5_%D0%BE%D0%B1%D1%8A%D0%B5%D0%BA%D1%82%D0%BD%D1%8B%D0%B5_%D1%82%D0%B8%D0%BF%D1%8B_%D1%8F%D0%B7%D1%8B%D0%BA%D0%B0_Python_ipynb%22.ipynb\" target=\"_parent\"><img src=\"https://colab.research.google.com/assets/colab-badge.svg\" alt=\"Open In Colab\"/></a>"
      ]
    },
    {
      "cell_type": "markdown",
      "metadata": {
        "id": "5KphGi_qCw8e"
      },
      "source": [
        "# Тема 2. Базовые объектные типы языка Python."
      ]
    },
    {
      "cell_type": "markdown",
      "source": [
        "## Обзор и особенности работы с простыми типами данных в Python\n",
        "\n",
        "\n"
      ],
      "metadata": {
        "id": "5YCt08nOoIij"
      }
    },
    {
      "cell_type": "markdown",
      "metadata": {
        "id": "TE16AI_znkx9"
      },
      "source": [
        "### Иерархическая структура типов данных языка Python."
      ]
    },
    {
      "cell_type": "markdown",
      "metadata": {
        "id": "RrINTJ45mzfy"
      },
      "source": [
        "К основным [типам данных](https://docs.python.org/3/library/stdtypes.html) можно отнести:\n",
        "- пустое значение\n",
        "- целые числа\n",
        "- числа с плавающей запятой\n",
        "- логические (булевы) значения\n",
        "- строки\n",
        "- списки\n",
        "- словари\n",
        "\n",
        "Важно представлять каким функционалом обладают эти типы данных.  \n",
        "Если вы забыли или захотите со временем узнать что-то новое,  \n",
        "то всегда можете обратиться к документации."
      ]
    },
    {
      "cell_type": "markdown",
      "metadata": {
        "id": "31pdTQIzVykf"
      },
      "source": [
        "Типы данных делятся на\n",
        "- встроенные (**built-in**);\n",
        "- пользовательские.\n",
        "\n",
        "Основные типы, которыми пользуется практически любой программист,  \n",
        "являются встроенными. Давайте посмотрим на них в таблице\n",
        "\n",
        "![https://drive.google.com/file/d/17SbSx3zrpQvJb3rYPNGGm3veCrDBxma9/view?usp=sharing](https://drive.google.com/uc?id=17SbSx3zrpQvJb3rYPNGGm3veCrDBxma9)"
      ]
    },
    {
      "cell_type": "markdown",
      "metadata": {
        "id": "zvtXQycBgCjv"
      },
      "source": [
        "Типы данных также можно сгруппировать по следующим признакам:\n",
        "- **Первый признак**\n",
        "    - Простые типы данных\n",
        "    - Составные типы данных\n",
        "\n",
        "- **Второй признак**\n",
        "    - Изменяемые\n",
        "    - Неизменяемые\n",
        "\n",
        "![](https://upload.wikimedia.org/wikipedia/commons/1/10/Python_3._The_standard_type_hierarchy.png)"
      ]
    },
    {
      "cell_type": "markdown",
      "metadata": {
        "id": "H-it1Irkjmqj"
      },
      "source": [
        "#### Callable - вызываемый тип данных"
      ]
    },
    {
      "cell_type": "markdown",
      "metadata": {
        "id": "EKY1Kp5XjwzM"
      },
      "source": [
        "Итак, первое с чего мы начнем изучение это [встроенные команды](https://docs.python.org/3/library/functions.html).  \n",
        "Их не нужно знать наизусть.  \n",
        "\n",
        "С частью возможно вы не столкнетесь,  \n",
        "а какие-то будет использоваться очень часто, например:\n",
        "- **`help()`**;\n",
        "- **`print()`**;\n",
        "- **`input()`**;\n",
        "- **`len()`**;\n",
        "- **`min()`**/**`max()`**;\n",
        "- **`type()`**.\n",
        "\n",
        "Обратите внимание, что сначала идет название команды, а после круглые скобки.  \n",
        "Так вот наличие круглых скобок является **призывом к действию** для интерпретатора."
      ]
    },
    {
      "cell_type": "markdown",
      "metadata": {
        "id": "UefQYgVNlDuh"
      },
      "source": [
        "Чтобы узнать тип какой-то переменной в Python есть встроенная команда **`type`**.  \n",
        "\n",
        "Синтаксис команды **`type`**:\n",
        "```python\n",
        "type(variable)\n",
        "```\n",
        "где **`variable`** - некоторая переменная или значение"
      ]
    },
    {
      "cell_type": "code",
      "metadata": {
        "id": "yaBAgu45kFNl",
        "colab": {
          "base_uri": "https://localhost:8080/"
        },
        "outputId": "3da9bd11-c965-4964-a551-711c24b7cada"
      },
      "source": [
        "type(print)  # встроенная функция или метод"
      ],
      "execution_count": null,
      "outputs": [
        {
          "output_type": "execute_result",
          "data": {
            "text/plain": [
              "builtin_function_or_method"
            ]
          },
          "metadata": {},
          "execution_count": 103
        }
      ]
    },
    {
      "cell_type": "code",
      "metadata": {
        "id": "P6J39Eztx13L",
        "colab": {
          "base_uri": "https://localhost:8080/"
        },
        "outputId": "a220d406-aadb-4acb-e6fb-00d68728f34b"
      },
      "source": [
        "help(print)  # получить документацию на любой объект, если она есть"
      ],
      "execution_count": null,
      "outputs": [
        {
          "output_type": "stream",
          "name": "stdout",
          "text": [
            "Help on built-in function print in module builtins:\n",
            "\n",
            "print(...)\n",
            "    print(value, ..., sep=' ', end='\\n', file=sys.stdout, flush=False)\n",
            "    \n",
            "    Prints the values to a stream, or to sys.stdout by default.\n",
            "    Optional keyword arguments:\n",
            "    file:  a file-like object (stream); defaults to the current sys.stdout.\n",
            "    sep:   string inserted between values, default a space.\n",
            "    end:   string appended after the last value, default a newline.\n",
            "    flush: whether to forcibly flush the stream.\n",
            "\n"
          ]
        }
      ]
    },
    {
      "cell_type": "code",
      "metadata": {
        "id": "S5-CEHYKmzEt",
        "colab": {
          "base_uri": "https://localhost:8080/"
        },
        "outputId": "e43803c6-29ec-412b-997e-40cb68ed04a9"
      },
      "source": [
        "print(type(len))"
      ],
      "execution_count": null,
      "outputs": [
        {
          "output_type": "stream",
          "name": "stdout",
          "text": [
            "<class 'builtin_function_or_method'>\n"
          ]
        }
      ]
    },
    {
      "cell_type": "markdown",
      "metadata": {
        "id": "ZqnjRnHAnED_"
      },
      "source": [
        "В рамках нашего курса **class** будет равнозначно **типу данных**."
      ]
    },
    {
      "cell_type": "markdown",
      "metadata": {
        "id": "jhFAG7N9HphL"
      },
      "source": [
        "### Динамическая типизация: особенности, преимущества и недостатки."
      ]
    },
    {
      "cell_type": "markdown",
      "metadata": {
        "id": "VoJvYv5brEoM"
      },
      "source": [
        "**Python - язык с неявной сильной динамической типизацией**.\n",
        "\n",
        "Разберем это определение по отдельным кусочкам."
      ]
    },
    {
      "cell_type": "markdown",
      "metadata": {
        "id": "cTZm3TInro4B"
      },
      "source": [
        "**Динамическая типизация** означает, что тип переменной определяется  \n",
        "во время выполнения программы (интерпретации).  \n",
        "Во время работы вашей программы сначала одна переменная может содержать  \n",
        "в себе целочисленное значение, а потом строку.\n"
      ]
    },
    {
      "cell_type": "code",
      "metadata": {
        "id": "jAPpJFGBsI2G",
        "colab": {
          "base_uri": "https://localhost:8080/"
        },
        "outputId": "e7bd3216-7223-44f9-b8c7-bcb89a87affa"
      },
      "source": [
        "a = 1\n",
        "print(a)\n",
        "\n",
        "a = 'новое значение переменной а'\n",
        "print(a)"
      ],
      "execution_count": null,
      "outputs": [
        {
          "output_type": "stream",
          "name": "stdout",
          "text": [
            "1\n",
            "новое значение переменной а\n"
          ]
        }
      ]
    },
    {
      "cell_type": "markdown",
      "metadata": {
        "id": "OauRlBlksUEs"
      },
      "source": [
        "С точки зрения интерпретатора в этом нет никакой ошибки.  \n",
        "\n",
        "А вот с другой точки зрения такое не явное изменение типа данных может  \n",
        "запутать, тех кто будет читать ваш код и вникать в его логику."
      ]
    },
    {
      "cell_type": "markdown",
      "metadata": {
        "id": "ZVqtj7zDtAAw"
      },
      "source": [
        "**Сильная типизация** говорит о том, что операции, совершаемые  \n",
        "над объектами разного типа выполняются без **автоматического неявное преобразование к одному типу** .  \n",
        "Например, Python вызовет ошибку, если мы попытаемся сложить число и строку.\n",
        "\n",
        "```python\n",
        "5 + 'str'  # TypeError: unsupported operand type(s) for +: 'int' and 'str'\n",
        "```"
      ]
    },
    {
      "cell_type": "markdown",
      "metadata": {
        "id": "VZfTTSLutQpj"
      },
      "source": [
        "И наконец **неявная типизация** нам говорит о том,  \n",
        "что тип переменной при ее объявлении не нужно указывать.\n",
        "\n",
        "```python\n",
        "some_var = 1\n",
        "other_var = 'Hello World'\n",
        "```"
      ]
    },
    {
      "cell_type": "markdown",
      "metadata": {
        "id": "FkAP8RYqjIIz"
      },
      "source": [
        "### Пустое значение - `None`"
      ]
    },
    {
      "cell_type": "code",
      "metadata": {
        "id": "UTHa8fJYjOks",
        "colab": {
          "base_uri": "https://localhost:8080/"
        },
        "outputId": "65cc8ccb-6f60-4aac-f356-8b22aabe986d"
      },
      "source": [
        "foo = None  # присваиваем значение переменной\n",
        "\n",
        "print(foo)  # распечатываем значение переменной\n",
        "print(type(foo))  # распечатываем тип переменной"
      ],
      "execution_count": null,
      "outputs": [
        {
          "output_type": "stream",
          "name": "stdout",
          "text": [
            "None\n",
            "<class 'NoneType'>\n"
          ]
        }
      ]
    },
    {
      "cell_type": "markdown",
      "metadata": {
        "id": "kdBNOVybyPfo"
      },
      "source": [
        "### Логические переменные - `bool`"
      ]
    },
    {
      "cell_type": "markdown",
      "metadata": {
        "id": "rEXn3AMA2X-e"
      },
      "source": [
        "Логических переменные имеют всего два значения:\n",
        "- `True`\n",
        "- `False`"
      ]
    },
    {
      "cell_type": "code",
      "metadata": {
        "colab": {
          "base_uri": "https://localhost:8080/"
        },
        "id": "Q04Z3QZ5yUGT",
        "outputId": "4576d9a7-3b0d-49c6-9749-f7a93b02323b"
      },
      "source": [
        "True_ = True  # 1\n",
        "false = False  # 0\n",
        "\n",
        "print(True_, false)\n",
        "print(type(True_), type(false))"
      ],
      "execution_count": null,
      "outputs": [
        {
          "output_type": "stream",
          "name": "stdout",
          "text": [
            "True False\n",
            "<class 'bool'> <class 'bool'>\n"
          ]
        }
      ]
    },
    {
      "cell_type": "markdown",
      "metadata": {
        "id": "1vSJDBQL5hla"
      },
      "source": [
        "### Целые числа"
      ]
    },
    {
      "cell_type": "markdown",
      "metadata": {
        "id": "5K_uvAcT5k1_"
      },
      "source": [
        "Объекты типа **`int`** предназначены для хранения целочисленных данных.\n",
        "\n",
        "Создание такой переменной не требует особой записи - необходимо  \n",
        "только присвоить целое число этой переменной."
      ]
    },
    {
      "cell_type": "code",
      "metadata": {
        "id": "ZNHQkgmj2yqX",
        "colab": {
          "base_uri": "https://localhost:8080/"
        },
        "outputId": "c03e9bdd-8063-4fb7-ba57-50f5274249ff"
      },
      "source": [
        "a = 1\n",
        "b = 0\n",
        "c = -1\n",
        "\n",
        "# функция print умеет принимать несколько значений через запятую и печатать их в одну строку\n",
        "print(a, type(a))\n",
        "print(b, type(b))\n",
        "print(c, type(c))"
      ],
      "execution_count": null,
      "outputs": [
        {
          "output_type": "stream",
          "name": "stdout",
          "text": [
            "1 <class 'int'>\n",
            "0 <class 'int'>\n",
            "-1 <class 'int'>\n"
          ]
        }
      ]
    },
    {
      "cell_type": "markdown",
      "metadata": {
        "id": "eW8lxl1n5fxY"
      },
      "source": [
        "### Арифметические операторы"
      ]
    },
    {
      "cell_type": "markdown",
      "metadata": {
        "id": "k3H5L4HN6NA5"
      },
      "source": [
        "![](https://drive.google.com/uc?id=1ivd7rIbhu9D6HNcVeIGvO8pBCNdoq6Q7)"
      ]
    },
    {
      "cell_type": "markdown",
      "metadata": {
        "id": "glk-L6SlvYaZ"
      },
      "source": [
        "#### **Сложение**, **Вычитание**, **Умножение**, **Возведение в степень**"
      ]
    },
    {
      "cell_type": "code",
      "metadata": {
        "id": "EGBlTIjN56X5",
        "colab": {
          "base_uri": "https://localhost:8080/"
        },
        "outputId": "7dc52a86-c626-49b0-d79f-84f6a286fa0f"
      },
      "source": [
        "add = 5 + 5\n",
        "print(add)  # 10\n",
        "print(type(add))  # <class 'int'>"
      ],
      "execution_count": null,
      "outputs": [
        {
          "output_type": "stream",
          "name": "stdout",
          "text": [
            "10\n",
            "<class 'int'>\n"
          ]
        }
      ]
    },
    {
      "cell_type": "code",
      "metadata": {
        "id": "rT1gZxCfvUpF",
        "colab": {
          "base_uri": "https://localhost:8080/"
        },
        "outputId": "b6f778ac-611d-4822-b3c5-2d521e5dca81"
      },
      "source": [
        "sub = 10 - 5\n",
        "print(sub)  # 5\n",
        "print(type(sub))  # <class 'int'>"
      ],
      "execution_count": null,
      "outputs": [
        {
          "output_type": "stream",
          "name": "stdout",
          "text": [
            "5\n",
            "<class 'int'>\n"
          ]
        }
      ]
    },
    {
      "cell_type": "code",
      "metadata": {
        "id": "SI9NCEDBvqnJ",
        "colab": {
          "base_uri": "https://localhost:8080/"
        },
        "outputId": "17e43e8e-4598-4bd6-afa5-f90d8844a319"
      },
      "source": [
        "mul = 5 * 5\n",
        "print(mul)  # 25\n",
        "print(type(mul))  # <class 'int'>"
      ],
      "execution_count": null,
      "outputs": [
        {
          "output_type": "stream",
          "name": "stdout",
          "text": [
            "25\n",
            "<class 'int'>\n"
          ]
        }
      ]
    },
    {
      "cell_type": "code",
      "metadata": {
        "id": "LnbX5I_1xkoJ",
        "colab": {
          "base_uri": "https://localhost:8080/"
        },
        "outputId": "b6101653-c54a-4890-a530-cd83b0573fbf"
      },
      "source": [
        "pow_ = 5 ** 2\n",
        "print(pow_)\n",
        "print(type(pow_))"
      ],
      "execution_count": null,
      "outputs": [
        {
          "output_type": "stream",
          "name": "stdout",
          "text": [
            "25\n",
            "<class 'int'>\n"
          ]
        }
      ]
    },
    {
      "cell_type": "markdown",
      "metadata": {
        "id": "aiuwnyLsv115"
      },
      "source": [
        "Арифметические операторы, как и оператор присваивания  \n",
        "рекомендуют отделять пробелами."
      ]
    },
    {
      "cell_type": "markdown",
      "metadata": {
        "id": "IEzFG97gz6z6"
      },
      "source": [
        "##### ***Задача***\n",
        "\n",
        "Найти периметр прямоугольной комнаты со сторонами 6 и 3 метра."
      ]
    },
    {
      "cell_type": "code",
      "metadata": {
        "id": "8zyaHzUL0IQM",
        "colab": {
          "base_uri": "https://localhost:8080/"
        },
        "outputId": "25cf9a57-1194-4a78-94ea-fc2b06199cd5"
      },
      "source": [
        "# первый вариант решения\n",
        "length = 6\n",
        "width = 3\n",
        "\n",
        "perimeter = (length + width) * 2\n",
        "print(perimeter)"
      ],
      "execution_count": null,
      "outputs": [
        {
          "output_type": "stream",
          "name": "stdout",
          "text": [
            "18\n"
          ]
        }
      ]
    },
    {
      "cell_type": "code",
      "source": [
        "# второй вариант решения\n",
        "perimeter = (6 + 3) * 2\n",
        "print(perimeter)"
      ],
      "metadata": {
        "id": "KVKlY4Vr1XjC",
        "colab": {
          "base_uri": "https://localhost:8080/"
        },
        "outputId": "e71fc362-acd0-4a3f-d61d-1a3ef995a655"
      },
      "execution_count": null,
      "outputs": [
        {
          "output_type": "stream",
          "name": "stdout",
          "text": [
            "18\n"
          ]
        }
      ]
    },
    {
      "cell_type": "markdown",
      "source": [
        "Первый вариант предпочтительнее, потому что нет,  \n",
        "так называемых \"магических чисел\".  \n",
        "\"Магическими числами\" называют плохую практику программирования,  \n",
        "когда в исходном тексте встречается числовое значение и неочевиден его смысл."
      ],
      "metadata": {
        "id": "Bw1YvC6P1bh4"
      }
    },
    {
      "cell_type": "markdown",
      "metadata": {
        "id": "cRz_xrxczjR2"
      },
      "source": [
        "#### **Целочисленное деление и остаток от деления**"
      ]
    },
    {
      "cell_type": "markdown",
      "metadata": {
        "id": "jM4C1QCI19lZ"
      },
      "source": [
        "![](https://habrastorage.org/getpro/habr/post_images/533/366/a02/533366a02b7640b5aeb2b09679915fd8.png)"
      ]
    },
    {
      "cell_type": "markdown",
      "metadata": {
        "id": "Y08ydeBO0-0R"
      },
      "source": [
        "##### ***Задача***\n",
        "\n",
        "Сколько полных дней и часов в 5000 часах?"
      ]
    },
    {
      "cell_type": "code",
      "metadata": {
        "id": "L75LwpMGzEdP",
        "colab": {
          "base_uri": "https://localhost:8080/"
        },
        "outputId": "d1f459ec-eb43-4d38-9682-b42f660ca806"
      },
      "source": [
        "HOURS_IN_DAY = 24  # количество часов в дне постоянно\n",
        "total_hours = 5000  # дано по задаче\n",
        "\n",
        "days = total_hours // HOURS_IN_DAY\n",
        "hours = total_hours % HOURS_IN_DAY\n",
        "\n",
        "print(\"Количество дней =\", days)\n",
        "print(\"Оставшееся количество часов =\", hours)"
      ],
      "execution_count": null,
      "outputs": [
        {
          "output_type": "stream",
          "name": "stdout",
          "text": [
            "Количество дней = 208\n",
            "Оставшееся количество часов = 8\n"
          ]
        }
      ]
    },
    {
      "cell_type": "markdown",
      "metadata": {
        "id": "gmDb6UB8HwAb"
      },
      "source": [
        "#### Комбинированные операторы присваивания"
      ]
    },
    {
      "cell_type": "markdown",
      "metadata": {
        "id": "JXVyl3kWH02x"
      },
      "source": [
        "![](https://drive.google.com/uc?id=10J9HqAE4PTSWHRux_ImzuemyQt25lYXY)"
      ]
    },
    {
      "cell_type": "markdown",
      "metadata": {
        "id": "fB8lC0R6ITKu"
      },
      "source": [
        "##### ***Задача***\n",
        "\n",
        "Изначально на счету было 10000 у.е.  \n",
        "После выплаты процентов сумма увеличалась на 5000 у.е.  \n",
        "Чему станет равно количество средств после выплаты процентов?\n"
      ]
    },
    {
      "cell_type": "code",
      "metadata": {
        "id": "xEAiZY6BG911",
        "colab": {
          "base_uri": "https://localhost:8080/"
        },
        "outputId": "cd08d582-1a65-4812-958d-1dccb69bf112"
      },
      "source": [
        "money = 10000\n",
        "add = 5000\n",
        "\n",
        "money += add  # money = money + add\n",
        "\n",
        "print(money)"
      ],
      "execution_count": null,
      "outputs": [
        {
          "output_type": "stream",
          "name": "stdout",
          "text": [
            "15000\n"
          ]
        }
      ]
    },
    {
      "cell_type": "markdown",
      "metadata": {
        "id": "5MLAyRNcBN64"
      },
      "source": [
        "### Числа с плавающей запятой"
      ]
    },
    {
      "cell_type": "markdown",
      "metadata": {
        "id": "RveLDSu8BgnI"
      },
      "source": [
        "Под числами с плавающей запятой в Python подразумеваются дробные числа.  \n",
        "Ещё их могут называть вещественные числа.\n",
        "\n",
        "А сам термин \"плавающая запятая\" (или ещё говорят \"плавающая точка\")  \n",
        "происходит от особенностей хранения таких чисел в памяти компьютера.\n",
        "\n",
        "Создание переменных с дробными числами практически ничем  \n",
        "не отличается от создания целых чисел.  \n",
        "Только в качестве десятичного разделителя выступает **точка**, а не запятая.\n"
      ]
    },
    {
      "cell_type": "code",
      "metadata": {
        "id": "1aRQSMiZA5m5",
        "colab": {
          "base_uri": "https://localhost:8080/"
        },
        "outputId": "4ddb2f62-8458-4fc9-84e1-652d77085be3"
      },
      "source": [
        "a = 0.1\n",
        "b = 0.0\n",
        "c = -10.312312\n",
        "\n",
        "print(a, type(a))\n",
        "print(b, type(b))\n",
        "print(c, type(c))"
      ],
      "execution_count": null,
      "outputs": [
        {
          "output_type": "stream",
          "name": "stdout",
          "text": [
            "0.1 <class 'float'>\n",
            "0.0 <class 'float'>\n",
            "-10.312312 <class 'float'>\n"
          ]
        }
      ]
    },
    {
      "cell_type": "markdown",
      "metadata": {
        "id": "STa_X5erAb_n"
      },
      "source": [
        "#### **\"Честное\" деление**"
      ]
    },
    {
      "cell_type": "code",
      "metadata": {
        "id": "haqGUUsTAi_Z",
        "colab": {
          "base_uri": "https://localhost:8080/"
        },
        "outputId": "b66183af-6975-4422-f627-94d71a2f0f03"
      },
      "source": [
        "div = 5 / 10\n",
        "print(div)\n",
        "print(type(div))"
      ],
      "execution_count": null,
      "outputs": [
        {
          "output_type": "stream",
          "name": "stdout",
          "text": [
            "0.5\n",
            "<class 'float'>\n"
          ]
        }
      ]
    },
    {
      "cell_type": "code",
      "metadata": {
        "id": "kAd6DZEhAu8F",
        "colab": {
          "base_uri": "https://localhost:8080/"
        },
        "outputId": "ef1bad21-8646-43f7-8e72-0278432ae28c"
      },
      "source": [
        "integer_div = 10 / 5\n",
        "print(integer_div)\n",
        "print(type(integer_div))"
      ],
      "execution_count": null,
      "outputs": [
        {
          "output_type": "stream",
          "name": "stdout",
          "text": [
            "2.0\n",
            "<class 'float'>\n"
          ]
        }
      ]
    },
    {
      "cell_type": "code",
      "source": [
        "print(1 / 6)  # бесконечная десятичная дробь"
      ],
      "metadata": {
        "colab": {
          "base_uri": "https://localhost:8080/"
        },
        "id": "d3s9Imhs_OK8",
        "outputId": "5340a72e-a396-4150-fdc5-f354f56269ce"
      },
      "execution_count": null,
      "outputs": [
        {
          "output_type": "stream",
          "name": "stdout",
          "text": [
            "0.16666666666666666\n"
          ]
        }
      ]
    },
    {
      "cell_type": "markdown",
      "metadata": {
        "id": "KCLa2IvKA6iQ"
      },
      "source": [
        "***Примечание:***\n",
        "\n",
        "При делении вы в любом случае получаете число с плавающей запятой,  \n",
        "даже если оно делится нацело без остатка."
      ]
    },
    {
      "cell_type": "markdown",
      "metadata": {
        "id": "_mdO2x9bCc69"
      },
      "source": [
        "#### Особенности работы с вещественными числами"
      ]
    },
    {
      "cell_type": "markdown",
      "metadata": {
        "id": "pb2uHQ6ZCigq"
      },
      "source": [
        "Вещественные числа поддерживают те же операции, что и целые."
      ]
    },
    {
      "cell_type": "code",
      "metadata": {
        "colab": {
          "base_uri": "https://localhost:8080/"
        },
        "id": "iKSqCPt27Dr6",
        "outputId": "4992e5c5-8fe3-46fc-de03-5797acfa1555"
      },
      "source": [
        "# чему будет равен результат?\n",
        "print(0.1 + 0.1 * 5)"
      ],
      "execution_count": null,
      "outputs": [
        {
          "output_type": "stream",
          "name": "stdout",
          "text": [
            "0.6\n"
          ]
        }
      ]
    },
    {
      "cell_type": "markdown",
      "metadata": {
        "id": "ugOs5RpmC3I6"
      },
      "source": [
        "Давайте сложим 10 раз число 0.1 ..."
      ]
    },
    {
      "cell_type": "code",
      "metadata": {
        "id": "k29pQb90CBIO",
        "colab": {
          "base_uri": "https://localhost:8080/"
        },
        "outputId": "0ab34176-3155-455b-c4a9-f1f0da0a63a3"
      },
      "source": [
        "float_ = 0.1 + 0.1 + 0.1 + 0.1 + 0.1 + 0.1 + 0.1 + 0.1 + 0.1 + 0.1\n",
        "print(float_)"
      ],
      "execution_count": null,
      "outputs": [
        {
          "output_type": "stream",
          "name": "stdout",
          "text": [
            "0.9999999999999999\n"
          ]
        }
      ]
    },
    {
      "cell_type": "code",
      "metadata": {
        "id": "2jXGSzEvDBB8",
        "colab": {
          "base_uri": "https://localhost:8080/"
        },
        "outputId": "d44508f8-7638-4a15-9883-8de27c72d109"
      },
      "source": [
        "print(0.1 * 10)"
      ],
      "execution_count": null,
      "outputs": [
        {
          "output_type": "stream",
          "name": "stdout",
          "text": [
            "1.0\n"
          ]
        }
      ]
    },
    {
      "cell_type": "markdown",
      "metadata": {
        "id": "2OuootmpED6S"
      },
      "source": [
        "***Примечание:***\n",
        "\n",
        "Для высокой точности используют другие типы данных **`Decimal`** или **`Fraction`**.  \n",
        "Устройство и работа с этими типами данных выходит за рамки нашего курса.  \n",
        "Почитать про устройства чисел с плавающей запятой можно [здесь](https://habr.com/ru/post/337260/ )."
      ]
    },
    {
      "cell_type": "markdown",
      "metadata": {
        "id": "a5zJ6j8HEfFc"
      },
      "source": [
        "#### Команда **`round`**"
      ]
    },
    {
      "cell_type": "markdown",
      "metadata": {
        "id": "LHFqEsxxCrEK"
      },
      "source": [
        "```python\n",
        "round(number[, ndigits=0])\n",
        "```\n",
        "\n",
        "Команда **`round`** принимает два значения:\n",
        "- **number** - число, которое необходимо округлить;\n",
        "- **ndigits** - количество знаков после запятой (необязательное значение).\n",
        "\n",
        "***Примечание:***\n",
        "\n",
        "Здесь и далее если какие-то значения указаны в квадратных скобках,  \n",
        "то их можно не указывать, потому что для них установлено значение по умолчанию."
      ]
    },
    {
      "cell_type": "markdown",
      "source": [
        "Округление до целого"
      ],
      "metadata": {
        "id": "zTl8Z6cUO7MJ"
      }
    },
    {
      "cell_type": "code",
      "metadata": {
        "id": "8Lg7l_wmDlek",
        "colab": {
          "base_uri": "https://localhost:8080/"
        },
        "outputId": "5a91c9ce-2a50-49d1-ba5c-dd44a1ce7dca"
      },
      "source": [
        "a = 1.6\n",
        "a = round(a)\n",
        "\n",
        "print(a)\n",
        "print(type(a))"
      ],
      "execution_count": null,
      "outputs": [
        {
          "output_type": "stream",
          "name": "stdout",
          "text": [
            "2\n",
            "<class 'int'>\n"
          ]
        }
      ]
    },
    {
      "cell_type": "markdown",
      "source": [
        "Округление до одного знака"
      ],
      "metadata": {
        "id": "XC6EKT0EPAPe"
      }
    },
    {
      "cell_type": "code",
      "metadata": {
        "id": "d_JOL21lG07z",
        "colab": {
          "base_uri": "https://localhost:8080/"
        },
        "outputId": "f976c08d-bb5f-4431-df8d-99c247357389"
      },
      "source": [
        "a = 2.47\n",
        "a = round(a, 1)\n",
        "\n",
        "print(a)\n",
        "print(type(a))"
      ],
      "execution_count": null,
      "outputs": [
        {
          "output_type": "stream",
          "name": "stdout",
          "text": [
            "2.5\n",
            "<class 'float'>\n"
          ]
        }
      ]
    },
    {
      "cell_type": "markdown",
      "metadata": {
        "id": "_nB3_cMc8vLX"
      },
      "source": [
        "## Обзор и особенности работы с составными типами данных в Python"
      ]
    },
    {
      "cell_type": "markdown",
      "metadata": {
        "id": "SXyeR5-i80G5"
      },
      "source": [
        "Составные типы данных (контейнеры) - это такой тип переменных,  \n",
        "которые могут хранить в себе сразу несколько значений."
      ]
    },
    {
      "cell_type": "markdown",
      "source": [
        "### Индексируемые последовательности (sequence)"
      ],
      "metadata": {
        "id": "rbR51e8nySkw"
      }
    },
    {
      "cell_type": "markdown",
      "metadata": {
        "id": "ZmhIViCLMXt0"
      },
      "source": [
        "К последовательностям в Python относят:\n",
        "- Строки (**`str`**)\n",
        "- Списки (**`list`**)\n",
        "- Кортежи (**`tuple`**)\n",
        "\n",
        "***Примечание:***\n",
        "Ещё существуют **`bytes`** и **`byte arrays`**,  \n",
        "но они встречаются не так часто и выходят за рамки нашего рассмотрения."
      ]
    },
    {
      "cell_type": "markdown",
      "metadata": {
        "id": "UQqdLauiiN5v"
      },
      "source": [
        "Последовательности поддерживают индексацию, то есть получение  \n",
        "какого-либо значения последовательности по индексу.\n",
        "\n",
        "Единственный момент индексация начитается с 0.  \n",
        "Это особенность языков программирования.\n",
        "![](https://cs11.pikabu.ru/post_img/2018/12/07/3/1544153992124355275.jpg)"
      ]
    },
    {
      "cell_type": "markdown",
      "metadata": {
        "id": "LO7OME_zkFdn"
      },
      "source": [
        "![https://app.diagrams.net/#G1BQ6Cd0yMZLkdACHp4W-o4aQQdIX3yy-F](https://drive.google.com/uc?id=1BQ6Cd0yMZLkdACHp4W-o4aQQdIX3yy-F)\n",
        "\n",
        "Для того чтобы указать интерпретатору Python, что вы хотите  \n",
        "воспользоваться индексацией, необходимо после последовательности  \n",
        "указать квадратные скобки, в которых указать индекс элемента.  \n",
        "Индекс должен быть **целым числом**.\n",
        "\n",
        "\n",
        "```python\n",
        "some_seq[index]  # обращение к элементу по индексу\n",
        "some_seq[index] = \"new_value\"  # замена по индексу\n",
        "```\n",
        "\n"
      ]
    },
    {
      "cell_type": "code",
      "source": [
        "list_ = [\"а\", \"б\", \"в\", \"г\", \"д\"]  # список строк\n",
        "\n",
        "print(list_[0])  # \"а\"\n",
        "print(list_[4])  # \"д\""
      ],
      "metadata": {
        "colab": {
          "base_uri": "https://localhost:8080/"
        },
        "id": "vqwKMEzIQ1GI",
        "outputId": "469bb17d-2c5d-4806-d1e8-7a76fbd75836"
      },
      "execution_count": null,
      "outputs": [
        {
          "output_type": "stream",
          "name": "stdout",
          "text": [
            "а\n",
            "д\n"
          ]
        }
      ]
    },
    {
      "cell_type": "code",
      "source": [
        "list_[0] = \"А\"\n",
        "print(list_)  # ['А', 'б', 'в', 'г', 'д']"
      ],
      "metadata": {
        "colab": {
          "base_uri": "https://localhost:8080/"
        },
        "id": "Ps1ZR0cd2rV0",
        "outputId": "f8e5ec12-1a80-4bfb-949f-56734909f6a5"
      },
      "execution_count": null,
      "outputs": [
        {
          "output_type": "stream",
          "name": "stdout",
          "text": [
            "['А', 'б', 'в', 'г', 'д']\n"
          ]
        }
      ]
    },
    {
      "cell_type": "markdown",
      "metadata": {
        "id": "JsoAKqZkQNk5"
      },
      "source": [
        "#### Отрицательная индексация"
      ]
    },
    {
      "cell_type": "markdown",
      "metadata": {
        "id": "ZaFy4OUQYSCB"
      },
      "source": [
        "Python поддерживает **отрицательную индексацию**.  \n",
        "Возможности все те же самые что и при обычной индексации,  \n",
        "только обращение к элементам происходит с конца последовательности.\n",
        "\n",
        "![https://app.diagrams.net/#G1iu1gLR05aivKBr47bN5NCrV1CCVxEu7t](https://drive.google.com/uc?id=1iu1gLR05aivKBr47bN5NCrV1CCVxEu7t)"
      ]
    },
    {
      "cell_type": "markdown",
      "metadata": {
        "id": "rKYhts15Y644"
      },
      "source": [
        "##### ***Задача***\n",
        "\n",
        "Получить последний символ строки."
      ]
    },
    {
      "cell_type": "code",
      "metadata": {
        "id": "u0ZOGvdgY379",
        "colab": {
          "base_uri": "https://localhost:8080/"
        },
        "outputId": "859a95d8-4779-43c9-dde1-b07c9f088591"
      },
      "source": [
        "str_ = \"Hello, World\"\n",
        "\n",
        "print(str_[-1])  # отрицательная индексация для получения элементов с конца последовательности"
      ],
      "execution_count": null,
      "outputs": [
        {
          "output_type": "stream",
          "name": "stdout",
          "text": [
            "d\n"
          ]
        }
      ]
    },
    {
      "cell_type": "markdown",
      "metadata": {
        "id": "H1ZsCiCHbDj5"
      },
      "source": [
        "### Срезы"
      ]
    },
    {
      "cell_type": "markdown",
      "metadata": {
        "id": "2MEZFwA9bLhF"
      },
      "source": [
        "**Срезы** они же слайсирование (англ. slice) -  это альтернатива индексации,  \n",
        "отличие в том, что передается два значения левая и правая граница,  \n",
        "которые разделены между собой двоеточием.\n",
        "\n",
        "Результатом слайсирования является тот же тип данных,  \n",
        "к которому вы применяли слайсирование.\n",
        "\n",
        "![https://app.diagrams.net/#G1v77d_925rUsxVNgb3NJ_h1Xf6v36Fvaf](https://drive.google.com/uc?id=1v77d_925rUsxVNgb3NJ_h1Xf6v36Fvaf)"
      ]
    },
    {
      "cell_type": "markdown",
      "metadata": {
        "id": "X-BR5bo8fCxw"
      },
      "source": [
        "##### ***Задача. Раздеделить список учеников на две половины.***"
      ]
    },
    {
      "cell_type": "code",
      "metadata": {
        "id": "56AedsFsf-5c",
        "colab": {
          "base_uri": "https://localhost:8080/"
        },
        "outputId": "8f6ab9c3-6f7d-449b-f9e4-6f4a68f765d0"
      },
      "source": [
        "list_players = [\"Маша\", \"Петя\", \"Саша\", \"Оля\", \"Кирилл\"]\n",
        "\n",
        "# индекс середины\n",
        "middle_index = len(list_players) // 2  # 2\n",
        "\n",
        "left_team = list_players[:middle_index]  # list_players[:2]\n",
        "right_team = list_players[middle_index:]  # list_players[2:]\n",
        "\n",
        "print(left_team)\n",
        "print(right_team)"
      ],
      "execution_count": null,
      "outputs": [
        {
          "output_type": "stream",
          "name": "stdout",
          "text": [
            "['Маша', 'Петя']\n",
            "['Саша', 'Оля', 'Кирилл']\n"
          ]
        }
      ]
    },
    {
      "cell_type": "markdown",
      "metadata": {
        "id": "8mME19xtTMzN"
      },
      "source": [
        "### Изменяемые и неизменяемые объекты"
      ]
    },
    {
      "cell_type": "markdown",
      "source": [
        "**Переменная** - это именованая область памяти компьютера,  \n",
        "адрес которой позволяет получить доступ к данным.\n",
        "\n",
        "![](https://pythonchik.ru/pic/lb1/intext_1be28589-3503-4ee4-9594-306836be5b11_original.svg)\n",
        "\n",
        "Типы данных в python делятся на:\n",
        "- Неизменяемые - **immutable**.  \n",
        "    Неизменяемые типы данных передаются **по значению**\n",
        "- Изменяемые - **mutable**.  \n",
        "    Изменяемые типы данных передаются **по ссылке**\n"
      ],
      "metadata": {
        "id": "VbwvY-Ctv4fx"
      }
    },
    {
      "cell_type": "code",
      "source": [
        "a = 123456\n",
        "b = a\n",
        "\n",
        "print(\"Переменные a и b это одно и то же?\")\n",
        "print(a is b)  # True\n",
        "print(a, b)\n",
        "\n",
        "a = a + 1  # изменим перемменную a\n",
        "print(\"А теперь переменные a и b это одно и то же?\")\n",
        "print(a is b)  # False\n",
        "print(a, b)  # 123457 123456"
      ],
      "metadata": {
        "colab": {
          "base_uri": "https://localhost:8080/"
        },
        "id": "Y63a3Uduv9ar",
        "outputId": "74a47ad1-be81-4892-9c85-af7dd6b27080"
      },
      "execution_count": null,
      "outputs": [
        {
          "output_type": "stream",
          "name": "stdout",
          "text": [
            "Переменные a и b это одно и то же?\n",
            "True\n",
            "123456 123456\n",
            "А теперь переменные a и b это одно и то же?\n",
            "False\n",
            "123457 123456\n"
          ]
        }
      ]
    },
    {
      "cell_type": "code",
      "source": [
        "list_1 = [\"а\", \"б\", \"в\"]\n",
        "list_2 = list_1\n",
        "\n",
        "print(\"Переменные list_1 и list_2 это одно и то же?\")\n",
        "print(list_1 is list_2)  # True\n",
        "print(list_1, list_2)\n",
        "\n",
        "list_1[0] = \"новое значение\"\n",
        "print(\"Переменные list_1 и list_2 это одно и то же?\")\n",
        "print(list_1 is list_2)  # True\n",
        "print(list_1, list_2)"
      ],
      "metadata": {
        "colab": {
          "base_uri": "https://localhost:8080/"
        },
        "id": "a1aoJRbTw24S",
        "outputId": "f9d486f9-38cc-4423-f5b5-2645c55b0d63"
      },
      "execution_count": null,
      "outputs": [
        {
          "output_type": "stream",
          "name": "stdout",
          "text": [
            "Переменные list_1 и list_2 это одно и то же?\n",
            "True\n",
            "['а', 'б', 'в'] ['а', 'б', 'в']\n",
            "Переменные list_1 и list_2 это одно и то же?\n",
            "True\n",
            "['новое значение', 'б', 'в'] ['новое значение', 'б', 'в']\n"
          ]
        }
      ]
    },
    {
      "cell_type": "markdown",
      "source": [
        "Если попытаться изменить строку, которая является незменяемым типом данных,  \n",
        "то появится ошибка\n",
        "```python\n",
        "str_ = \"hello world\"\n",
        "str_[0] = \"H\"  # TypeError: 'str' object does not support item assignment\n",
        "```"
      ],
      "metadata": {
        "id": "eNzjqxS5SmLP"
      }
    },
    {
      "cell_type": "markdown",
      "metadata": {
        "id": "GcwHy8A1USsX"
      },
      "source": [
        "\n",
        "\n",
        "![https://app.diagrams.net/#G1QVcWw9KspgIBQ5TOqupm-1Ou-s06aOp0](https://drive.google.com/uc?id=1QVcWw9KspgIBQ5TOqupm-1Ou-s06aOp0)\n",
        "\n",
        "![https://app.diagrams.net/#G1ixGfUnlDiqd8dHhgjr1mk5y2AwmKlEZS](https://drive.google.com/uc?id=1ixGfUnlDiqd8dHhgjr1mk5y2AwmKlEZS)\n"
      ]
    },
    {
      "cell_type": "markdown",
      "metadata": {
        "id": "TZCqL9lt_FF7"
      },
      "source": [
        "### Строки - `str`"
      ]
    },
    {
      "cell_type": "markdown",
      "metadata": {
        "id": "ZqlgWfQB_OwM"
      },
      "source": [
        "Строки (**`str`**) – неизменяемая последовательность любых символов  \n",
        "начинающаяся и заканчивающаяся или одинарной кавычкой (апострофом)(`'`)  \n",
        "или двойной кавычкой(`\"`).\n",
        "\n",
        "```python\n",
        "str_ = \"Это строка\"\n",
        "```\n",
        "\n",
        "```python\n",
        "empty_str = \"\"  # пустая строка\n",
        "```"
      ]
    },
    {
      "cell_type": "markdown",
      "metadata": {
        "id": "OXSEWlQkcnf1"
      },
      "source": [
        "Строки в Python можно записать с помощью 4 различных способов"
      ]
    },
    {
      "cell_type": "code",
      "metadata": {
        "id": "mzLpvnGycnf1"
      },
      "source": [
        "str_1 = 'test'\n",
        "str_2 = \"test\"\n",
        "str_3 = '''test'''\n",
        "str_4 = \"\"\"test\"\"\""
      ],
      "execution_count": null,
      "outputs": []
    },
    {
      "cell_type": "markdown",
      "source": [
        "Тройные кавычки обычно используются для многострочных комментариев."
      ],
      "metadata": {
        "id": "eWT4FYBkcx1p"
      }
    },
    {
      "cell_type": "code",
      "source": [
        "print(\"\"\"Это многострочные комментарии.\n",
        "Они могут быть записаны в несколько строк :)\n",
        "(масло масляное)\n",
        "\"\"\")"
      ],
      "metadata": {
        "colab": {
          "base_uri": "https://localhost:8080/"
        },
        "id": "gn2FiWCCcnf2",
        "outputId": "93dfc36d-e707-4a6a-dbd9-723967110b91"
      },
      "execution_count": null,
      "outputs": [
        {
          "output_type": "stream",
          "name": "stdout",
          "text": [
            "Это многострочные комментарии. \n",
            "Они могут быть записаны в несколько строк :) \n",
            "(масло масляное)\n",
            "\n"
          ]
        }
      ]
    },
    {
      "cell_type": "code",
      "metadata": {
        "id": "I-0dSV0b_lJU",
        "colab": {
          "base_uri": "https://localhost:8080/"
        },
        "outputId": "3d990fdd-f004-4efd-a1e7-63dab17a15de"
      },
      "source": [
        "str_1 = \"Hello, World\"\n",
        "print(len(str_1))  # длина строки"
      ],
      "execution_count": null,
      "outputs": [
        {
          "output_type": "stream",
          "name": "stdout",
          "text": [
            "12\n"
          ]
        }
      ]
    },
    {
      "cell_type": "code",
      "source": [
        "str_1 = \"Hello, World\"\n",
        "print(str_1[0])  # H\n",
        "print(str_1[-1])  # d"
      ],
      "metadata": {
        "colab": {
          "base_uri": "https://localhost:8080/"
        },
        "id": "3YLBcEvBAXrB",
        "outputId": "efcb62f7-4ffe-477b-a1e5-093acdf6abfc"
      },
      "execution_count": null,
      "outputs": [
        {
          "output_type": "stream",
          "name": "stdout",
          "text": [
            "H\n",
            "d\n"
          ]
        }
      ]
    },
    {
      "cell_type": "code",
      "metadata": {
        "colab": {
          "base_uri": "https://localhost:8080/"
        },
        "id": "Kk95Mtp-_t8i",
        "outputId": "efe53f3e-8a86-4c72-a544-d94e000a933f"
      },
      "source": [
        "# строкам не важно записаны они одинарными или двойными кавычками\n",
        "str_ = \"Hello\" + 'World'  # конкатенация строк\n",
        "\n",
        "print(str_)"
      ],
      "execution_count": null,
      "outputs": [
        {
          "output_type": "stream",
          "name": "stdout",
          "text": [
            "HelloWorld\n"
          ]
        }
      ]
    },
    {
      "cell_type": "code",
      "metadata": {
        "colab": {
          "base_uri": "https://localhost:8080/"
        },
        "id": "uS7Eocq5AEsd",
        "outputId": "27976a53-58b0-4948-86b5-e626b6b58f96"
      },
      "source": [
        "print(\"z\" * 25)  # клонирование строки"
      ],
      "execution_count": null,
      "outputs": [
        {
          "output_type": "stream",
          "name": "stdout",
          "text": [
            "zzzzzzzzzzzzzzzzzzzzzzzzz\n"
          ]
        }
      ]
    },
    {
      "cell_type": "markdown",
      "source": [
        "##### ***Задача***\n",
        "\n",
        "Дан текст. Найти длину этого текста."
      ],
      "metadata": {
        "id": "2FGw5lsWYOTJ"
      }
    },
    {
      "cell_type": "code",
      "source": [
        "text = \"\"\"Это очень-очень длинный текст :)\"\"\"\n",
        "\n",
        "print(\"Размер текста =\", len(text))"
      ],
      "metadata": {
        "colab": {
          "base_uri": "https://localhost:8080/"
        },
        "id": "E7w_BrJFYNzX",
        "outputId": "f9513538-b2ef-4f97-ecbf-3d799f4298e0"
      },
      "execution_count": null,
      "outputs": [
        {
          "output_type": "stream",
          "name": "stdout",
          "text": [
            "Размер текста = 32\n"
          ]
        }
      ]
    },
    {
      "cell_type": "markdown",
      "metadata": {
        "id": "-p4NvicuDBkT"
      },
      "source": [
        "### Списки - `list`"
      ]
    },
    {
      "cell_type": "markdown",
      "metadata": {
        "id": "XXisfl9jDXv3"
      },
      "source": [
        "Список - изменяемая последовательность разнородных данных.\n",
        "\n",
        "Объявление списка начитается с указания [ ... ]  \n",
        "(квадратных скобок после оператора присваивания).\n",
        "\n",
        "\n",
        "```python\n",
        "list_ = [1, 2, 'Hello World', [3, 2, 1], ...]\n",
        "```\n",
        "\n",
        "Если необходимо сделать пустой список:\n",
        "```python\n",
        "empty_list = []\n",
        "```\n"
      ]
    },
    {
      "cell_type": "markdown",
      "metadata": {
        "id": "YYvaW3cXZCtR"
      },
      "source": [
        "Списки способны одновременно хранить в себе различные типы данных.  \n",
        "Но обычно предпочитают, чтобы списки хранили в себе данные одного типа."
      ]
    },
    {
      "cell_type": "code",
      "metadata": {
        "id": "_3Isf7gsUeWg",
        "colab": {
          "base_uri": "https://localhost:8080/"
        },
        "outputId": "bc79dc59-9f2c-497f-850f-704a38369a79"
      },
      "source": [
        "list_ = [1, 2, 3]  # Хорошо, все данные одного типа\n",
        "print(list_, type(list_))\n",
        "\n",
        "list_ = [1, 2, \"3\"]  # Ошибки не будет\n",
        "print(list_, type(list_))"
      ],
      "execution_count": null,
      "outputs": [
        {
          "output_type": "stream",
          "name": "stdout",
          "text": [
            "[1, 2, 3] <class 'list'>\n",
            "[1, 2, '3'] <class 'list'>\n"
          ]
        }
      ]
    },
    {
      "cell_type": "code",
      "source": [
        "list_ = [1, 2, \"3\"]\n",
        "print(list_)\n",
        "\n",
        "list_[-1] = 3\n",
        "print(list_)"
      ],
      "metadata": {
        "colab": {
          "base_uri": "https://localhost:8080/"
        },
        "id": "CwrPDYCIAvK4",
        "outputId": "0b7cc04f-30c0-4a3d-c1b0-8106ed0a4015"
      },
      "execution_count": null,
      "outputs": [
        {
          "output_type": "stream",
          "name": "stdout",
          "text": [
            "[1, 2, '3']\n",
            "[1, 2, 3]\n"
          ]
        }
      ]
    },
    {
      "cell_type": "markdown",
      "metadata": {
        "id": "B_yDgMRtmYnY"
      },
      "source": [
        "Списки можно складывать"
      ]
    },
    {
      "cell_type": "code",
      "metadata": {
        "id": "yzzwfk2Xmbrw",
        "colab": {
          "base_uri": "https://localhost:8080/"
        },
        "outputId": "9e313636-6b2d-46b1-bd8c-6b35211af997"
      },
      "source": [
        "print([1, 2, 3] + [3, 2, 1])"
      ],
      "execution_count": null,
      "outputs": [
        {
          "output_type": "stream",
          "name": "stdout",
          "text": [
            "[1, 2, 3, 3, 2, 1]\n"
          ]
        }
      ]
    },
    {
      "cell_type": "markdown",
      "metadata": {
        "id": "AW8Qg2_MmgXG"
      },
      "source": [
        "Или умножать на какое-то число"
      ]
    },
    {
      "cell_type": "code",
      "metadata": {
        "id": "s3fr5OCvmjYJ",
        "colab": {
          "base_uri": "https://localhost:8080/"
        },
        "outputId": "467ee944-331e-436b-9162-917b01c2f980"
      },
      "source": [
        "print([0] * 5)"
      ],
      "execution_count": null,
      "outputs": [
        {
          "output_type": "stream",
          "name": "stdout",
          "text": [
            "[0, 0, 0, 0, 0]\n"
          ]
        }
      ]
    },
    {
      "cell_type": "markdown",
      "metadata": {
        "id": "uOb8YYkfZyvH"
      },
      "source": [
        "##### ***Задача***\n",
        "\n",
        "Студенты выполнили первое домашнее задание.  \n",
        "Найти среднюю оценку за это домашнее задание.  \n",
        "\n",
        "Результат округлить до двух знаков после запятой."
      ]
    },
    {
      "cell_type": "code",
      "metadata": {
        "id": "Dq7JBDZJZ3BO",
        "colab": {
          "base_uri": "https://localhost:8080/"
        },
        "outputId": "0812d8f5-358e-4885-cad7-e5bb9b70190c"
      },
      "source": [
        "grades = [4, 5, 4, 5, 5, 5, 3]  # список оценок\n",
        "\n",
        "mean_grade = sum(grades) / len(grades)  # средняя оценка\n",
        "print(\"Средняя оценка за первое домашнее задание,\", round(mean_grade, 2))"
      ],
      "execution_count": null,
      "outputs": [
        {
          "output_type": "stream",
          "name": "stdout",
          "text": [
            "Средняя оценка за первое домашнее задание, 4.43\n"
          ]
        }
      ]
    },
    {
      "cell_type": "markdown",
      "metadata": {
        "id": "5qwg_WFnEAaE"
      },
      "source": [
        "### Кортеж - `tuple`"
      ]
    },
    {
      "cell_type": "markdown",
      "metadata": {
        "id": "xdcohzKZy-X3"
      },
      "source": [
        "Кортеж, в отличии от списка является неизменяемым типом данных.\n",
        "\n",
        "Чтобы создать кортеж, нужно записать данные в круглые скобки через запятую\n",
        "```python\n",
        "tuple_ = (1, 2, 3)\n",
        "```\n",
        "\n",
        "Если необходимо сделать пустой кортеж:\n",
        "```python\n",
        "empty_tuple = ()  # пустой кортеж\n",
        "```\n"
      ]
    },
    {
      "cell_type": "markdown",
      "metadata": {
        "id": "ltYTiPcpzvbI"
      },
      "source": [
        "Если необходимо создать кортеж из одного элемента"
      ]
    },
    {
      "cell_type": "code",
      "metadata": {
        "id": "ohItLDvbz4ra",
        "colab": {
          "base_uri": "https://localhost:8080/"
        },
        "outputId": "60be17bb-898f-46c2-ed91-b59aa68135b6"
      },
      "source": [
        "list_ = [1]\n",
        "tuple_ = (1, )\n",
        "\n",
        "print(list_, type(list_))\n",
        "print(tuple_, type(tuple_))"
      ],
      "execution_count": null,
      "outputs": [
        {
          "output_type": "stream",
          "name": "stdout",
          "text": [
            "[1] <class 'list'>\n",
            "(1,) <class 'tuple'>\n"
          ]
        }
      ]
    },
    {
      "cell_type": "markdown",
      "metadata": {
        "id": "Ku0SENhsTie5"
      },
      "source": [
        "Кортежи в Python удобно использовать  \n",
        "для массовой инициализации переменных.\n",
        "\n",
        "В python существует множественное присвоение.  \n",
        "Главное правило, чтобы количество значений справа  \n",
        "было равно количеству переменных слева.  \n",
        "```python\n",
        "# Ошибка. Справа не хватает значений для множественного присвоения\n",
        "a, b = 1  # TypeError: cannot unpack non-iterable int object\n",
        "```"
      ]
    },
    {
      "cell_type": "code",
      "metadata": {
        "id": "M6iCTASqFV6A",
        "colab": {
          "base_uri": "https://localhost:8080/"
        },
        "outputId": "0c09c77e-f161-4985-b19d-02e1d2e6c360"
      },
      "source": [
        "a, b = 1, 2  # правильно\n",
        "print(a, b)"
      ],
      "execution_count": null,
      "outputs": [
        {
          "output_type": "stream",
          "name": "stdout",
          "text": [
            "1 2\n"
          ]
        }
      ]
    },
    {
      "cell_type": "code",
      "metadata": {
        "id": "P6s_X7JZFr-Z",
        "colab": {
          "base_uri": "https://localhost:8080/"
        },
        "outputId": "14fe2b08-d3bc-487b-acf7-0ec333759008"
      },
      "source": [
        "tuple_vars = 1, 2  # тоже правильно, есть одно \"но\", значения будут помещены в кортеж\n",
        "print(tuple_vars, type(tuple_vars))"
      ],
      "execution_count": null,
      "outputs": [
        {
          "output_type": "stream",
          "name": "stdout",
          "text": [
            "(1, 2) <class 'tuple'>\n"
          ]
        }
      ]
    },
    {
      "cell_type": "markdown",
      "source": [
        "##### ***Задача***\n",
        "Поменять местами значение двух переменных."
      ],
      "metadata": {
        "id": "Z7g_kOk4Yzxi"
      }
    },
    {
      "cell_type": "markdown",
      "source": [
        "В Python множественное присвоение можно использовать,  \n",
        "если вы хотите поменять значения двух переменных местами."
      ],
      "metadata": {
        "id": "qM8dwaEU5ERo"
      }
    },
    {
      "cell_type": "code",
      "source": [
        "first_value, second_value = \"first_value\", \"second_value\"\n",
        "print(first_value, second_value)\n",
        "\n",
        "print(\"Меняем местами переменные...\")\n",
        "first_value, second_value = second_value, first_value\n",
        "\n",
        "print(first_value, second_value)"
      ],
      "metadata": {
        "colab": {
          "base_uri": "https://localhost:8080/"
        },
        "id": "JemJAzDl4r1R",
        "outputId": "706e8093-df25-4f22-9c69-a65c49dfc0e2"
      },
      "execution_count": null,
      "outputs": [
        {
          "output_type": "stream",
          "name": "stdout",
          "text": [
            "first_value second_value\n",
            "Меняем местами переменные...\n",
            "second_value first_value\n"
          ]
        }
      ]
    },
    {
      "cell_type": "markdown",
      "metadata": {
        "id": "PqzLROPjQCCr"
      },
      "source": [
        "### Множества - `set`"
      ]
    },
    {
      "cell_type": "markdown",
      "metadata": {
        "id": "bIFBV5aFQIT-"
      },
      "source": [
        "Множество в python - \"контейнер\", содержащий  \n",
        "**не повторяющиеся хешируемые** элементы в **случайном порядке**.\n",
        "\n",
        "Объявление множества начитается с указания `{ ... }`  \n",
        "(фигурных скобок после оператора присваивания обязательно с содержимым) или  \n",
        "встроенной команды **`set`**.\n",
        "\n",
        "\n",
        "```python\n",
        "set_ = {1, 2, 'Hello World', ...}\n",
        "```\n",
        "\n",
        "Если необходимо сделать пустое множество:\n",
        "```python\n",
        "empty_set = set()\n",
        "```"
      ]
    },
    {
      "cell_type": "code",
      "metadata": {
        "id": "jvLE9LKkQHhU",
        "colab": {
          "base_uri": "https://localhost:8080/"
        },
        "outputId": "f272e04d-af6c-4db8-e670-004c8711a093"
      },
      "source": [
        "set_ = {3, 2, 3, 3, 2, 1}\n",
        "print(set_, type(set_))  # {1, 2, 3} <class 'set'>"
      ],
      "execution_count": null,
      "outputs": [
        {
          "output_type": "stream",
          "name": "stdout",
          "text": [
            "{1, 2, 3} <class 'set'>\n"
          ]
        }
      ]
    },
    {
      "cell_type": "code",
      "source": [
        "print({2, 'Hello World', 1})"
      ],
      "metadata": {
        "colab": {
          "base_uri": "https://localhost:8080/"
        },
        "id": "uAEW9wArS9JJ",
        "outputId": "3871e000-95dd-43dc-baef-4bb9d6d915db"
      },
      "execution_count": null,
      "outputs": [
        {
          "output_type": "stream",
          "name": "stdout",
          "text": [
            "{1, 2, 'Hello World'}\n"
          ]
        }
      ]
    },
    {
      "cell_type": "markdown",
      "source": [
        "#### Хешируемые значения"
      ],
      "metadata": {
        "id": "TaFzbbZlES_r"
      }
    },
    {
      "cell_type": "markdown",
      "source": [
        "Объект является хешируемым, если от него работает встроенная функция `hash`.  \n",
        "\n",
        "Большинство неизменяемых типов в Python (`int`, `float`, `str`, `bool`, и т.д.) – хешируемые.  \n",
        "Неизменяемые коллекции, например `tuple`, являются хешируемыми,  \n",
        "если хешируемы все их элементы.\n",
        "\n",
        "```python\n",
        "{2, 'Hello World', 1}  # OK\n",
        "```\n",
        "```python\n",
        "# списк - не хешируемый\n",
        "{[1, 2, 3]}  # TypeError: unhashable type: 'list'\n",
        "```\n",
        "```python\n",
        "# кортеж со списком внутри - не хешируемый\n",
        "{(1, [2], 3)}  # TypeError: unhashable type: 'list'\n",
        "```"
      ],
      "metadata": {
        "id": "aZwQRT-FFWhU"
      }
    },
    {
      "cell_type": "code",
      "source": [
        "print(hash(\"sdkfjsdkjfnksjdnfkjsdnfkjsndfkjsndfkjsndfkjsnd\"))\n",
        "print(hash(\"sdkfjsdkjfnksjdnfkjsdnfk\"))"
      ],
      "metadata": {
        "colab": {
          "base_uri": "https://localhost:8080/"
        },
        "id": "nz_xw0JeFuQ4",
        "outputId": "2a6d8561-acae-463a-b0db-539161dec13a"
      },
      "execution_count": null,
      "outputs": [
        {
          "output_type": "stream",
          "name": "stdout",
          "text": [
            "1131613609502951194\n",
            "2835324861408118341\n"
          ]
        }
      ]
    },
    {
      "cell_type": "markdown",
      "source": [
        "##### ***Задача***\n",
        "Даны оценки за домашнее задание.  \n",
        "Найти все уникальные оценки."
      ],
      "metadata": {
        "id": "iYA2_046dsXo"
      }
    },
    {
      "cell_type": "code",
      "source": [
        "unique_grades = {4, 5, 4, 5, 5, 5, 3}  # множество оценок\n",
        "print(unique_grades)"
      ],
      "metadata": {
        "colab": {
          "base_uri": "https://localhost:8080/"
        },
        "id": "988lfoGPd85-",
        "outputId": "ea32ccbc-87e8-4018-e323-30dc68336e5b"
      },
      "execution_count": null,
      "outputs": [
        {
          "output_type": "stream",
          "name": "stdout",
          "text": [
            "{3, 4, 5}\n"
          ]
        }
      ]
    },
    {
      "cell_type": "markdown",
      "metadata": {
        "id": "RgdRf1XiRmJx"
      },
      "source": [
        "### Словари - `dict`"
      ]
    },
    {
      "cell_type": "markdown",
      "metadata": {
        "id": "hxiLKOepRsIX"
      },
      "source": [
        "**Словарь** – изменяемый тип данных,  \n",
        "предназначенный для хранения элементов вида **ключ: значение**.\n",
        "\n",
        "Все ключи в словаре должны быть **уникальными**.  \n",
        "Также в словаре значение может быть любого типа,  \n",
        "а вот ключ — только **хешируемого**.\n",
        "\n",
        "![list_vs_dict](https://d1zx6djv3kb1v7.cloudfront.net/wp-content/media/2020/05/Append-a-Dictionary-to-a-list-in-Python-5-i2tutorials-1024x427.jpg)\n",
        "\n",
        "**Примечание:**  \n",
        "Начиная с версии Python 3.7 словари (в отличии от множеств)  \n",
        "стали сохранять порядок добавления элементов в словарь."
      ]
    },
    {
      "cell_type": "code",
      "metadata": {
        "id": "ReXKuDVjRriC",
        "colab": {
          "base_uri": "https://localhost:8080/"
        },
        "outputId": "71df355f-6f34-428c-cde0-972d83b64534"
      },
      "source": [
        "months = {\n",
        "    1: \"Январь\",\n",
        "    2: \"Февраль\",\n",
        "    3: \"Март\"\n",
        "}\n",
        "print(months, type(months))"
      ],
      "execution_count": null,
      "outputs": [
        {
          "output_type": "stream",
          "name": "stdout",
          "text": [
            "{1: 'Январь', 2: 'Февраль', 3: 'Март'} <class 'dict'>\n"
          ]
        }
      ]
    },
    {
      "cell_type": "code",
      "source": [
        "# получить название первого месяца\n",
        "print(months[1])"
      ],
      "metadata": {
        "colab": {
          "base_uri": "https://localhost:8080/"
        },
        "id": "P3Vq3l5jj4_W",
        "outputId": "945e3775-3bcb-4bd3-cd23-c8337214927c"
      },
      "execution_count": null,
      "outputs": [
        {
          "output_type": "stream",
          "name": "stdout",
          "text": [
            "Январь\n"
          ]
        }
      ]
    },
    {
      "cell_type": "code",
      "metadata": {
        "id": "7kIR6rRBR5qN",
        "colab": {
          "base_uri": "https://localhost:8080/"
        },
        "outputId": "bc168122-32a5-4f7b-e5d6-48eaa04d5bce"
      },
      "source": [
        "user = {\n",
        "    \"Имя\": \"Вася\",\n",
        "    \"Фамилия\": \"Пупкин\",\n",
        "    \"email\": \"test@yandex.ru\",\n",
        "    \"Возраст\": 18,\n",
        "}\n",
        "\n",
        "print(user)"
      ],
      "execution_count": null,
      "outputs": [
        {
          "output_type": "stream",
          "name": "stdout",
          "text": [
            "{'Имя': 'Вася', 'Фамилия': 'Пупкин', 'email': 'test@yandex.ru', 'Возраст': 18}\n"
          ]
        }
      ]
    },
    {
      "cell_type": "code",
      "source": [
        "# Вася позврослел\n",
        "user[\"Возраст\"] += 1  # user[\"Возраст\"] = user[\"Возраст\"] + 1\n",
        "print(user)"
      ],
      "metadata": {
        "colab": {
          "base_uri": "https://localhost:8080/"
        },
        "id": "kz5rn-tQkFOA",
        "outputId": "032231a3-718a-4ff6-b85e-d6653769369b"
      },
      "execution_count": null,
      "outputs": [
        {
          "output_type": "stream",
          "name": "stdout",
          "text": [
            "{'Имя': 'Вася', 'Фамилия': 'Пупкин', 'email': 'test@yandex.ru', 'Возраст': 19}\n"
          ]
        }
      ]
    },
    {
      "cell_type": "markdown",
      "source": [
        "##### ***Задача***\n",
        "Дан список оценок.  \n",
        "Составить словарь, сколько человек получили каждую из оценок."
      ],
      "metadata": {
        "id": "5SzVI6ojdQmI"
      }
    },
    {
      "cell_type": "code",
      "source": [
        "grades = [\n",
        "    3,\n",
        "    4, 4,\n",
        "    5, 5, 5, 5\n",
        "]\n",
        "\n",
        "# словарь с оценками, где по ключу находится оценка, а по значению количество\n",
        "dict_graders = {\n",
        "    3: 1,\n",
        "    4: 2,\n",
        "    5: 4\n",
        "}\n",
        "\n",
        "print(dict_graders)"
      ],
      "metadata": {
        "colab": {
          "base_uri": "https://localhost:8080/"
        },
        "id": "8-e7bPlwdo0s",
        "outputId": "606e276e-7a9e-4905-e429-74e797cb5b45"
      },
      "execution_count": null,
      "outputs": [
        {
          "output_type": "stream",
          "name": "stdout",
          "text": [
            "{3: 1, 4: 2, 5: 4}\n"
          ]
        }
      ]
    }
  ]
}