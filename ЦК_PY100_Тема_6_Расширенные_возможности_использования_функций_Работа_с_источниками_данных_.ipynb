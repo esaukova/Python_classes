{
  "nbformat": 4,
  "nbformat_minor": 0,
  "metadata": {
    "kernelspec": {
      "name": "python3",
      "display_name": "Python 3"
    },
    "colab": {
      "provenance": [],
      "collapsed_sections": [
        "_bOv0zUcVqv3",
        "_IOmJrXHMfkN",
        "bkX1oAhbV2pb",
        "g_x2n60yMfkU",
        "7ljzlbiMcqYP",
        "uicIsJcBjNYk"
      ],
      "include_colab_link": true
    },
    "language_info": {
      "name": "python"
    }
  },
  "cells": [
    {
      "cell_type": "markdown",
      "metadata": {
        "id": "view-in-github",
        "colab_type": "text"
      },
      "source": [
        "<a href=\"https://colab.research.google.com/github/esaukova/Python_classes/blob/main/%D0%A6%D0%9A_PY100_%D0%A2%D0%B5%D0%BC%D0%B0_6_%D0%A0%D0%B0%D1%81%D1%88%D0%B8%D1%80%D0%B5%D0%BD%D0%BD%D1%8B%D0%B5_%D0%B2%D0%BE%D0%B7%D0%BC%D0%BE%D0%B6%D0%BD%D0%BE%D1%81%D1%82%D0%B8_%D0%B8%D1%81%D0%BF%D0%BE%D0%BB%D1%8C%D0%B7%D0%BE%D0%B2%D0%B0%D0%BD%D0%B8%D1%8F_%D1%84%D1%83%D0%BD%D0%BA%D1%86%D0%B8%D0%B8%CC%86_%D0%A0%D0%B0%D0%B1%D0%BE%D1%82%D0%B0_%D1%81_%D0%B8%D1%81%D1%82%D0%BE%D1%87%D0%BD%D0%B8%D0%BA%D0%B0%D0%BC%D0%B8_%D0%B4%D0%B0%D0%BD%D0%BD%D1%8B%D1%85_.ipynb\" target=\"_parent\"><img src=\"https://colab.research.google.com/assets/colab-badge.svg\" alt=\"Open In Colab\"/></a>"
      ]
    },
    {
      "cell_type": "markdown",
      "metadata": {
        "id": "OaslvSfOL80N"
      },
      "source": [
        "# Расширенные возможности использования функций. Работа с источниками данных."
      ]
    },
    {
      "cell_type": "markdown",
      "metadata": {
        "id": "Ggb87yOCMfj1"
      },
      "source": [
        "## Файлы\n"
      ]
    },
    {
      "cell_type": "markdown",
      "metadata": {
        "id": "-d2NFCoJMfj2"
      },
      "source": [
        "Python по умолчанию достаточно просто работает с файлами операционной системы.  \n",
        "Перед работой с файлом надо его открыть с помощью команды `open`.\n",
        "```python\n",
        "f = open('path/to/file', 'filemode', encoding='utf-8')\n",
        "```\n",
        "\n",
        "Результатом этой операции будет указатель на файл,  \n",
        "в котором указатель текущей позиции поставлен на начало или конец файла.\n",
        "\n",
        "Давайте по порядку разберем все аргументы:\n",
        "- `path/to/file` путь к файлу может быть относительным или абсолютным.\n",
        "- `filemode` режим, в котором файл нужно открывать.  \n",
        "Записывается в виде строки, состоит из двух букв.  \n",
        "Первая буква:\n",
        "    - **r** – открыть на чтение (по умолчанию)\n",
        "    - **w** – перезаписать и открыть на запись (если файла нет, то он создастся)\n",
        "    - **x** – создать и открыть на запись (если уже есть – исключение)\n",
        "    - **a** – открыть на дозапись (указатель будет поставлен в конец)\n",
        "\n",
        "    Вторая буква:\n",
        "    - **t** – открыть в текстовом виде (по умолчанию)\n",
        "    - **b** – открыть в бинарном виде\n",
        "- `encoding` – указание, в какой кодировке файл записан (utf-8, cp1251 и т.д.)\n",
        "\n",
        "При открытии файла в режимах на запись ставится блокировка на уровне операционной системы"
      ]
    },
    {
      "cell_type": "markdown",
      "metadata": {
        "id": "CT7vZMpSMfj3"
      },
      "source": [
        "### Чтение и запись файла\n",
        "При открытии файла внутри него ставится указатель текущей позиции,  \n",
        "аналогию можно провести с курсором.  \n",
        "При открытии в режиме чтения или записи указатель ставится на начало,  \n",
        "в режиме **a** – в конец."
      ]
    },
    {
      "cell_type": "code",
      "metadata": {
        "trusted": true,
        "id": "mv_fsWR-Mfj3",
        "colab": {
          "base_uri": "https://localhost:8080/"
        },
        "outputId": "e3c07a20-3f82-436e-ba75-48e5cb1bfbec"
      },
      "source": [
        "f = open('test.txt', 'w')  # \"wt\"\n",
        "\n",
        "# Запишем в файл строку\n",
        "f.write(\"This is a test string\\n\")"
      ],
      "execution_count": null,
      "outputs": [
        {
          "output_type": "execute_result",
          "data": {
            "text/plain": [
              "22"
            ]
          },
          "metadata": {},
          "execution_count": 1
        }
      ]
    },
    {
      "cell_type": "markdown",
      "source": [
        "Ввиду того, что вывод в файл буферизируется, данные,  \n",
        "записанные при помощи `file.write()` и `file.writelines()`  \n",
        "в файловую систему могут попасть не сразу.\n",
        "\n",
        "Для принудительной записи можно использовать метод `file.flush()`,  \n",
        "а можно дождаться отработки `file.close()`."
      ],
      "metadata": {
        "id": "QebScjjQ3YGv"
      }
    },
    {
      "cell_type": "code",
      "source": [
        "f.flush()  # очищаем данные, которые"
      ],
      "metadata": {
        "id": "rB1CrHghyDYH"
      },
      "execution_count": null,
      "outputs": []
    },
    {
      "cell_type": "code",
      "metadata": {
        "trusted": true,
        "id": "IJ3dlrDdMfj8"
      },
      "source": [
        "# обязательно нужно закрыть файл иначе он будет заблокирован ОС\n",
        "f.close()"
      ],
      "execution_count": null,
      "outputs": []
    },
    {
      "cell_type": "markdown",
      "metadata": {
        "id": "l7Tps5ZpMfj9"
      },
      "source": [
        "`f.read(n)` – операция, читающая с текущего места **`n`** символов,  \n",
        "если файл открыт в `t` режиме, или **`n`** байт, если файл открыт в `b` режиме,  \n",
        "и возвращающая прочитанную информацию."
      ]
    },
    {
      "cell_type": "code",
      "metadata": {
        "trusted": true,
        "id": "GjuFltpOMfj8",
        "colab": {
          "base_uri": "https://localhost:8080/"
        },
        "outputId": "27f5d252-9c5b-4839-fe05-3ebc212951fc"
      },
      "source": [
        "f = open('test.txt')  # 'rt'\n",
        "print(f.read())\n",
        "\n",
        "# обязательно закрываем файл\n",
        "f.close()"
      ],
      "execution_count": null,
      "outputs": [
        {
          "output_type": "stream",
          "name": "stdout",
          "text": [
            "This is a test string\n",
            "\n"
          ]
        }
      ]
    },
    {
      "cell_type": "code",
      "source": [
        "f = open('test.txt', 'w', encoding=\"utf-8\")\n",
        "f.write(\"Hello, Русский текст\\n\")\n",
        "f.close()\n",
        "\n",
        "f = open('test.txt')\n",
        "print(f.read())"
      ],
      "metadata": {
        "colab": {
          "base_uri": "https://localhost:8080/"
        },
        "id": "auYEmi859a3B",
        "outputId": "68483eeb-574b-466b-ca59-b146854a401a"
      },
      "execution_count": null,
      "outputs": [
        {
          "output_type": "stream",
          "name": "stdout",
          "text": [
            "Hello, Русский текст\n",
            "\n"
          ]
        }
      ]
    },
    {
      "cell_type": "markdown",
      "metadata": {
        "id": "fRVXWPUUMfkD"
      },
      "source": [
        "### Чтение и запись построчно\n",
        "Зачастую с файлами удобнее работать построчно,  \n",
        "поэтому для этого есть отдельные методы"
      ]
    },
    {
      "cell_type": "code",
      "metadata": {
        "trusted": true,
        "id": "hqEkPt7lMfkD"
      },
      "source": [
        "f = open('test.txt', 'a', encoding='utf8')  # открываем файл на дозапись\n",
        "\n",
        "sequence = [\"other string\\n\", \"123\\n\", \"test test\\n\"]\n",
        "f.writelines(sequence) # берет строки из sequence и записывает в файл (без переносов)\n",
        "\n",
        "f.close()"
      ],
      "execution_count": null,
      "outputs": []
    },
    {
      "cell_type": "markdown",
      "metadata": {
        "id": "OkwS5SKYMfkD"
      },
      "source": [
        "Метод `f.writelines(sequence)` не будет сам за вас дозаписывать  \n",
        "символ конца строки (`\"\\n\"`).  \n",
        "Поэтому при необходимости его нужно записывать вручную.  \n",
        "\n",
        "Попробуем теперь построчно считать файл."
      ]
    },
    {
      "cell_type": "code",
      "metadata": {
        "trusted": true,
        "id": "LtYC0wN1MfkE",
        "colab": {
          "base_uri": "https://localhost:8080/"
        },
        "outputId": "9ee32904-dabe-406d-b82f-aeb70cc564ff"
      },
      "source": [
        "f = open('test.txt', 'r', encoding='utf8')\n",
        "\n",
        "print(f.readlines())  # считывает все строки в список и возвращает список\n",
        "\n",
        "f.close()"
      ],
      "execution_count": null,
      "outputs": [
        {
          "output_type": "stream",
          "name": "stdout",
          "text": [
            "['Hello, Русский текст\\n', 'other string\\n', '123\\n', 'test test\\n']\n"
          ]
        }
      ]
    },
    {
      "cell_type": "markdown",
      "metadata": {
        "id": "sehVow0xMfkF"
      },
      "source": [
        "Объект файл является **итератором**, поэтому его можно использовать в цикле `for`.  \n",
        "На каждом шаге возвращается новая строка."
      ]
    },
    {
      "cell_type": "code",
      "metadata": {
        "trusted": true,
        "id": "9GPgjo6XMfkG",
        "colab": {
          "base_uri": "https://localhost:8080/"
        },
        "outputId": "b4a7c8ff-46d9-4d41-bf29-ff6a4469fcec"
      },
      "source": [
        "f = open('test.txt') # можно перечислять строки в файле\n",
        "for line in f:\n",
        "    print(line.rstrip())  # rstrip или использовать print(line, end='')\n",
        "\n",
        "f.close()"
      ],
      "execution_count": null,
      "outputs": [
        {
          "output_type": "stream",
          "name": "stdout",
          "text": [
            "Hello, Русский текст\n",
            "other string\n",
            "123\n",
            "test test\n"
          ]
        }
      ]
    },
    {
      "cell_type": "markdown",
      "metadata": {
        "id": "49NAvfiUMfkH"
      },
      "source": [
        "---\n",
        "### Менеджер контекста with\n",
        "После работы с файлом его нужно освободить с помощью метода `close()`.\n",
        "\n",
        "Обработчик данного файла освобождается для операционной системы  \n",
        "(если файл был открыт для записи) и другие приложения могут получать к нему доступ.\n",
        "\n",
        "Если не закрыть – будет висеть, пока не закроете Python или  \n",
        "сборщик мусора (garbage collector) не решит удалить его."
      ]
    },
    {
      "cell_type": "markdown",
      "source": [
        "Для явного указания места работы с файлом, а также чтобы не забывать  \n",
        "закрыть файл после обработки, существует менеджер контекста `with`.  \n",
        "\n",
        "В блоке менеджера контекста открытый файл «жив» и с ним можно работать,  \n",
        "при выходе из блока – файл закрывается.\n",
        "\n",
        "Блок `with` сокращает запись при работе с блоком try-except\n",
        "```python\n",
        "try:\n",
        "    f = open(...)  # открываем файл\n",
        "    ...  # работаем с файлом\n",
        "except Exception:  # вдруг возникнет какая-то ошибка\n",
        "    ...\n",
        "finally:\n",
        "    f.close()  # файл закроется в любом случае и не потеряем буферизированные данные\n",
        "```\n",
        "\n",
        "```python\n",
        "with open(...) as f:  # открываем файл\n",
        "    ...  # работаем с файлом\n",
        "```\n",
        "\n",
        "Менеджер контекста неявно вызывает закрытие файла после работы.  \n",
        "Что освобождает вас от забот о том, закрыли ли вы файл или нет.  \n",
        "\n",
        "Закрытие файла происходит при любом стечении обстоятельств,  \n",
        "даже если внутри `with` будет ошибка."
      ],
      "metadata": {
        "id": "QTvLqUAR6mQ-"
      }
    },
    {
      "cell_type": "code",
      "metadata": {
        "id": "_NIfITlMkiSj",
        "colab": {
          "base_uri": "https://localhost:8080/"
        },
        "outputId": "7c83cf58-728a-4675-c215-919a571b18a8"
      },
      "source": [
        "with open('test.txt') as f:\n",
        "    for line in f:\n",
        "        print(line.rstrip())"
      ],
      "execution_count": null,
      "outputs": [
        {
          "output_type": "stream",
          "name": "stdout",
          "text": [
            "Hello, Русский текст\n",
            "other string\n",
            "123\n",
            "test test\n"
          ]
        }
      ]
    },
    {
      "cell_type": "code",
      "metadata": {
        "id": "1xfpDigulh_0"
      },
      "source": [
        "# копирование содержимого файла\n",
        "with open(\"test.txt\", 'r') as f_src:\n",
        "    with open(\"test_new.txt\", \"w\") as f_dst:\n",
        "        for line in f_src:\n",
        "            f_dst.write(line)"
      ],
      "execution_count": null,
      "outputs": []
    },
    {
      "cell_type": "markdown",
      "metadata": {
        "id": "mvlbC67QMfjf"
      },
      "source": [
        "## Работа с файловой системой"
      ]
    },
    {
      "cell_type": "markdown",
      "metadata": {
        "id": "7gTbpfoVL80U"
      },
      "source": [
        "Модуль `os` предоставляет множество функций для работы с операционной системой,  \n",
        "причём их поведение, как правило, не зависит от ОС, поэтому  \n",
        "программы остаются переносимыми.\n",
        "\n",
        "Рассмотрим наиболее часто используемые из них."
      ]
    },
    {
      "cell_type": "markdown",
      "metadata": {
        "id": "GVVeYkoVL80V"
      },
      "source": [
        "Для начала нужно импортировать модуль `os`"
      ]
    },
    {
      "cell_type": "code",
      "metadata": {
        "trusted": true,
        "id": "3u7U7V8nL80W"
      },
      "source": [
        "import os"
      ],
      "execution_count": null,
      "outputs": []
    },
    {
      "cell_type": "code",
      "metadata": {
        "trusted": true,
        "id": "MbFwEXGUL80Y",
        "colab": {
          "base_uri": "https://localhost:8080/",
          "height": 35
        },
        "outputId": "46da50e6-cb34-48b2-a480-118fb6440a79"
      },
      "source": [
        "# Выведем имя операционной системы\n",
        "os.name"
      ],
      "execution_count": null,
      "outputs": [
        {
          "output_type": "execute_result",
          "data": {
            "text/plain": [
              "'posix'"
            ],
            "application/vnd.google.colaboratory.intrinsic+json": {
              "type": "string"
            }
          },
          "metadata": {},
          "execution_count": 12
        }
      ]
    },
    {
      "cell_type": "markdown",
      "source": [
        "### Абсолютный и относительный путь"
      ],
      "metadata": {
        "id": "BQYOpLK2Jkt5"
      }
    },
    {
      "cell_type": "markdown",
      "source": [
        "Абсолютный путь показывает точное местонахождение файла,  \n",
        "а относительный показывает путь к файлу относительно какой-либо \"отправной точки\".\n",
        "\n",
        "Linux:\n",
        "- /home/user/docs/Letter.txt - абсолютный путь\n",
        "- user/docs/Letter.txt - относительный путь\n",
        "\n",
        "Windows:\n",
        "- C:\\user\\docs\\Letter.txt - абсолютный путь\n",
        "- user\\docs\\Letter.txt - относительный путь  \n",
        "\n",
        "Примечание:  \n",
        "В windows системе в качестве разделителя так же можно использовать `/`"
      ],
      "metadata": {
        "id": "buha2pL-Jb0X"
      }
    },
    {
      "cell_type": "markdown",
      "source": [
        "#### Текущая рабочая директория `os.getcwd()`"
      ],
      "metadata": {
        "id": "S-573iwjM0bI"
      }
    },
    {
      "cell_type": "markdown",
      "source": [
        "С помощью команды `os.getcwd()` можно получить текущую рабочую папку (директорию)."
      ],
      "metadata": {
        "id": "NHeZbE-1GSFW"
      }
    },
    {
      "cell_type": "code",
      "source": [
        "os.getcwd()"
      ],
      "metadata": {
        "colab": {
          "base_uri": "https://localhost:8080/",
          "height": 35
        },
        "id": "lxYHjdtbGTVK",
        "outputId": "857cf8e3-3f98-4997-fb35-9d7b54443b64"
      },
      "execution_count": null,
      "outputs": [
        {
          "output_type": "execute_result",
          "data": {
            "text/plain": [
              "'/content'"
            ],
            "application/vnd.google.colaboratory.intrinsic+json": {
              "type": "string"
            }
          },
          "metadata": {},
          "execution_count": 13
        }
      ]
    },
    {
      "cell_type": "markdown",
      "metadata": {
        "trusted": true,
        "id": "KQaJDQuSL80h"
      },
      "source": [
        "С помощью функции `os.listdir()` можно получить весь список файлов,  \n",
        "находящихся в директории.  \n",
        "\n",
        "По умолчанию в текущей директории."
      ]
    },
    {
      "cell_type": "code",
      "metadata": {
        "trusted": true,
        "id": "bCnnhoCXL80h",
        "colab": {
          "base_uri": "https://localhost:8080/"
        },
        "outputId": "56da3999-9381-4c0f-b24b-94cfd9d59d10"
      },
      "source": [
        "# список файлов и директорий в папке\n",
        "os.listdir()"
      ],
      "execution_count": null,
      "outputs": [
        {
          "output_type": "execute_result",
          "data": {
            "text/plain": [
              "['.config',\n",
              " 'test.txt',\n",
              " 'russian.json',\n",
              " 'russian_ensure_ascii.json',\n",
              " 'test_new.txt',\n",
              " 'sample_data']"
            ]
          },
          "metadata": {},
          "execution_count": 63
        }
      ]
    },
    {
      "cell_type": "code",
      "metadata": {
        "trusted": true,
        "id": "AUaSYXPnL80i",
        "colab": {
          "base_uri": "https://localhost:8080/"
        },
        "outputId": "639d9479-0e6c-4411-8403-963afe12c0e6"
      },
      "source": [
        "# список файлов и директорий в другой директории отличной от текущей\n",
        "os.listdir(\"/content\")  # абсолютный путь"
      ],
      "execution_count": null,
      "outputs": [
        {
          "output_type": "execute_result",
          "data": {
            "text/plain": [
              "['.config',\n",
              " 'test.txt',\n",
              " 'russian.json',\n",
              " 'russian_ensure_ascii.json',\n",
              " 'test_new.txt',\n",
              " 'sample_data']"
            ]
          },
          "metadata": {},
          "execution_count": 64
        }
      ]
    },
    {
      "cell_type": "code",
      "source": [
        "# список файлов и директорий в другой директории отличной от текущей\n",
        "os.listdir(\"sample_data\")  # относительный путь"
      ],
      "metadata": {
        "colab": {
          "base_uri": "https://localhost:8080/"
        },
        "id": "e5z-Fv_VHnH6",
        "outputId": "2a27f931-0a24-4573-a1b8-869b80a6db41"
      },
      "execution_count": null,
      "outputs": [
        {
          "output_type": "execute_result",
          "data": {
            "text/plain": [
              "['anscombe.json',\n",
              " 'README.md',\n",
              " 'mnist_train_small.csv',\n",
              " 'california_housing_test.csv',\n",
              " 'mnist_test.csv',\n",
              " 'california_housing_train.csv']"
            ]
          },
          "metadata": {},
          "execution_count": 62
        }
      ]
    },
    {
      "cell_type": "markdown",
      "source": [
        "#### Работа с путями `os.path.join`"
      ],
      "metadata": {
        "id": "VHhd-PhsM99Q"
      }
    },
    {
      "cell_type": "markdown",
      "metadata": {
        "id": "oL6gt79wL80j"
      },
      "source": [
        "Для того чтобы склеивать пути следует использовать функцию `os.path.join`"
      ]
    },
    {
      "cell_type": "code",
      "metadata": {
        "trusted": true,
        "id": "r-laXS8cMfjo",
        "colab": {
          "base_uri": "https://localhost:8080/"
        },
        "outputId": "c29a6167-d6c3-4d3e-ef32-2dcb10d4267f"
      },
      "source": [
        "import os\n",
        "\n",
        "absolute_path = os.path.join(\"/content\", \"sample_data\")  # абсолютный путь\n",
        "\n",
        "print(absolute_path)  # /content/sample_data\n",
        "print(os.path.exists(absolute_path))  # True"
      ],
      "execution_count": null,
      "outputs": [
        {
          "output_type": "stream",
          "name": "stdout",
          "text": [
            "/content/sample_data\n",
            "True\n"
          ]
        }
      ]
    },
    {
      "cell_type": "code",
      "source": [
        "relative_path = os.path.join(\"sample_data\", \"mnist_test.csv\")  # относительный путь\n",
        "\n",
        "print(relative_path)  # sample_data/mnist_test.csv\n",
        "print(os.path.exists(relative_path))  # True"
      ],
      "metadata": {
        "colab": {
          "base_uri": "https://localhost:8080/"
        },
        "id": "DYa-CMPqsQaZ",
        "outputId": "d0635767-00ce-49db-934c-3035dbe321e3"
      },
      "execution_count": null,
      "outputs": [
        {
          "output_type": "stream",
          "name": "stdout",
          "text": [
            "sample_data/mnist_test.csv\n",
            "True\n"
          ]
        }
      ]
    },
    {
      "cell_type": "markdown",
      "metadata": {
        "id": "kjOSzDLDL80c"
      },
      "source": [
        "Функция `os.chdir()` позволяет нам изменить директорию,  \n",
        "который мы в данный момент используем.  \n"
      ]
    },
    {
      "cell_type": "code",
      "metadata": {
        "trusted": true,
        "id": "h9IoPs5iL80d",
        "colab": {
          "base_uri": "https://localhost:8080/"
        },
        "outputId": "5c012301-4f7e-4356-84bc-148a855230d4"
      },
      "source": [
        "BASE_DIR = \"/content\"\n",
        "relative_path = os.path.join(\"sample_data\", \"mnist_test.csv\")  # относительный путей\n",
        "\n",
        "os.chdir(BASE_DIR)  # сменили текущую рабочую директорию\n",
        "\n",
        "print(os.path.exists(relative_path))  # True\n",
        "print(os.path.exists(os.path.join(BASE_DIR, relative_path)))  # True"
      ],
      "execution_count": null,
      "outputs": [
        {
          "output_type": "stream",
          "name": "stdout",
          "text": [
            "True\n",
            "True\n"
          ]
        }
      ]
    },
    {
      "cell_type": "markdown",
      "source": [
        "### Создание, перемещение и удаление файлов и папок"
      ],
      "metadata": {
        "id": "2sb9pGsVNV2K"
      }
    },
    {
      "cell_type": "markdown",
      "source": [
        "#### Создание папок"
      ],
      "metadata": {
        "id": "6Il-LegJT2f3"
      }
    },
    {
      "cell_type": "code",
      "source": [
        "BASE_DIR = \"/content\"\n",
        "src_tmp_folder = os.path.join(BASE_DIR, \"src_tmp_folder\")\n",
        "os.mkdir(src_tmp_folder)"
      ],
      "metadata": {
        "id": "JSFDKIROT8bi"
      },
      "execution_count": null,
      "outputs": []
    },
    {
      "cell_type": "code",
      "source": [
        "dst_tmp_folder = os.path.join(BASE_DIR, \"dst_tmp_folder\", \"inside_folder\")\n",
        "os.makedirs(dst_tmp_folder)"
      ],
      "metadata": {
        "id": "0dN4YpiRRIN4"
      },
      "execution_count": null,
      "outputs": []
    },
    {
      "cell_type": "markdown",
      "source": [
        "#### Перемещение файлов и папок"
      ],
      "metadata": {
        "id": "m0HJkESvUCWc"
      }
    },
    {
      "cell_type": "markdown",
      "metadata": {
        "id": "uoKusbLFL80l"
      },
      "source": [
        "Для того чтобы переместить файл необходимо воспользоваться  \n",
        "функцией `os.rename()`, которая принимает откуда и куда надо переместить файл."
      ]
    },
    {
      "cell_type": "code",
      "source": [
        "src = os.path.join(\"/content/src_tmp_folder\", \"tmp_file.txt\")\n",
        "dst = os.path.join(\"/content/dst_tmp_folder/inside_folder\", \"tmp_file.txt\")\n",
        "\n",
        "with open(src, \"w\") as f:\n",
        "    f.write(\"test\\n\")\n",
        "\n",
        "os.rename(src, dst)"
      ],
      "metadata": {
        "id": "71_L_WciQMIN"
      },
      "execution_count": null,
      "outputs": []
    },
    {
      "cell_type": "markdown",
      "metadata": {
        "id": "wThnFolEL80l"
      },
      "source": [
        "Для того чтобы переместить папку со всем её содержимым,  \n",
        "необходимо воспользоваться модулем `shutil` и функцией `shutil.move()`"
      ]
    },
    {
      "cell_type": "code",
      "source": [
        "import shutil\n",
        "\n",
        "shutil.move(\"/content/src_tmp_folder\", \"/content/dst_tmp_folder/inside_folder\")"
      ],
      "metadata": {
        "colab": {
          "base_uri": "https://localhost:8080/",
          "height": 35
        },
        "id": "3zOP6Fz9U5d6",
        "outputId": "4908dfec-1691-42fc-d819-ec273a11ea5c"
      },
      "execution_count": null,
      "outputs": [
        {
          "output_type": "execute_result",
          "data": {
            "text/plain": [
              "'/content/dst_tmp_folder/inside_folder/src_tmp_folder'"
            ],
            "application/vnd.google.colaboratory.intrinsic+json": {
              "type": "string"
            }
          },
          "metadata": {},
          "execution_count": 69
        }
      ]
    },
    {
      "cell_type": "markdown",
      "source": [
        "#### Обход содержимого папки. `os.walk()`"
      ],
      "metadata": {
        "id": "QdwwPxXzSQMF"
      }
    },
    {
      "cell_type": "markdown",
      "metadata": {
        "id": "ECqA-bedL80k"
      },
      "source": [
        "Для того чтобы обойти все папки и посмотреть их содержимое,  \n",
        "в модуле `os` есть функция `os.walk()`"
      ]
    },
    {
      "cell_type": "code",
      "metadata": {
        "trusted": true,
        "id": "Mb-6bACIL80k",
        "colab": {
          "base_uri": "https://localhost:8080/"
        },
        "outputId": "217a8071-bc14-4fd5-ffa6-907ffadc9ce1"
      },
      "source": [
        "dir = \"/content/dst_tmp_folder\"\n",
        "for root, dirs, files in os.walk(dir):\n",
        "    print(\"Текущая директория\", root)\n",
        "    print(\"---\")\n",
        "\n",
        "    if dirs:\n",
        "        print(\"Список папок\", dirs)\n",
        "    else:\n",
        "        print(\"Папок нет\")\n",
        "    print(\"---\")\n",
        "\n",
        "    if files:\n",
        "        print(\"Список файлов\", files)\n",
        "    else:\n",
        "        print(\"Файлов нет\")\n",
        "    print(\"---\")\n",
        "\n",
        "    if files and dirs:\n",
        "        print(\"Все пути:\")\n",
        "    for f in files:\n",
        "        print(\"Файл \", os.path.join(root, f))\n",
        "    for d in dirs:\n",
        "        print(\"Папка \", os.path.join(root, d))\n",
        "    print(\"===\")"
      ],
      "execution_count": null,
      "outputs": [
        {
          "output_type": "stream",
          "name": "stdout",
          "text": [
            "Текущая директория /content/dst_tmp_folder\n",
            "---\n",
            "Список папок ['inside_folder']\n",
            "---\n",
            "Файлов нет\n",
            "---\n",
            "Папка  /content/dst_tmp_folder/inside_folder\n",
            "===\n",
            "Текущая директория /content/dst_tmp_folder/inside_folder\n",
            "---\n",
            "Список папок ['src_tmp_folder']\n",
            "---\n",
            "Список файлов ['tmp_file.txt']\n",
            "---\n",
            "Все пути:\n",
            "Файл  /content/dst_tmp_folder/inside_folder/tmp_file.txt\n",
            "Папка  /content/dst_tmp_folder/inside_folder/src_tmp_folder\n",
            "===\n",
            "Текущая директория /content/dst_tmp_folder/inside_folder/src_tmp_folder\n",
            "---\n",
            "Папок нет\n",
            "---\n",
            "Файлов нет\n",
            "---\n",
            "===\n"
          ]
        }
      ]
    },
    {
      "cell_type": "markdown",
      "source": [
        "#### Удаление файлов и папок"
      ],
      "metadata": {
        "id": "j7_4HAE-SYti"
      }
    },
    {
      "cell_type": "markdown",
      "metadata": {
        "id": "ASz5Ttn4L80m"
      },
      "source": [
        "Для того чтобы удалить файл есть функция `os.remove()`.  \n",
        "А вот функция `os.rmdir()` удаляет директорию но только пустую.\n"
      ]
    },
    {
      "cell_type": "code",
      "source": [
        "os.remove(\"/content/dst_tmp_folder/inside_folder/tmp_file.txt\")  # удаляем файл\n",
        "os.rmdir(\"/content/dst_tmp_folder/inside_folder/src_tmp_folder\")  # удаляем пустую папку"
      ],
      "metadata": {
        "id": "iMAqgIBrS2Qs"
      },
      "execution_count": null,
      "outputs": []
    },
    {
      "cell_type": "markdown",
      "metadata": {
        "id": "gLA9JgrNL80m"
      },
      "source": [
        "\n",
        "**Будте очень осторожны, используя данную фукцию!!!**  \n",
        "`shutil.rmtree(path)` Удаляет текущую директорию (path)  \n",
        "и все поддиректории c их содержимым"
      ]
    },
    {
      "cell_type": "code",
      "source": [
        "import shutil\n",
        "\n",
        "shutil.rmtree(\"/content/dst_tmp_folder\")  # удаляем папку с содержимым"
      ],
      "metadata": {
        "id": "IshW1BJ6S9or"
      },
      "execution_count": null,
      "outputs": []
    },
    {
      "cell_type": "markdown",
      "source": [
        "### Временные файлы и папки"
      ],
      "metadata": {
        "id": "_bOv0zUcVqv3"
      }
    },
    {
      "cell_type": "markdown",
      "source": [
        "Иногда бывают необходимы временные папки или файлы.  \n",
        "Чтобы вручную не очищать за собой временныые файлы и папки,  \n",
        "лучше использовать встроенные модуль [tempfile](https://docs.python.org/3/library/tempfile.html)\n",
        "\n",
        "```python\n",
        "import tempfile\n",
        "\n",
        "# создание временного файла\n",
        "with tempfile.TemporaryFile() as fp:\n",
        "    ...\n",
        "\n",
        "# создание временной папки\n",
        "with tempfile.TemporaryDirectory() as tmpdirname:\n",
        "    print('created temporary directory', tmpdirname)\n",
        "```"
      ],
      "metadata": {
        "id": "GwD3Bh-4Wvp7"
      }
    },
    {
      "cell_type": "markdown",
      "metadata": {
        "id": "OFkNidTzMfkJ"
      },
      "source": [
        "## Сериализация данных"
      ]
    },
    {
      "cell_type": "markdown",
      "metadata": {
        "id": "EDdtOWEwMfkJ"
      },
      "source": [
        "**Сериализация** – процесс перевода какой-либо структуры данных в другой  формат,  \n",
        "более удобный для хранения и/или передачи.  \n",
        "\n",
        "Основная задача сериализации – эффективно (т.е. обычно с наименьшим размером)  \n",
        "сохранить или передать данные, при условии, что их можно десериализовать в исходные.  \n",
        "\n",
        "![https://app.diagrams.net/#G1hW2mNoQfq5Y49n2TOazzJNmAxIg7WwGz](https://drive.google.com/uc?id=1hW2mNoQfq5Y49n2TOazzJNmAxIg7WwGz)"
      ]
    },
    {
      "cell_type": "markdown",
      "metadata": {
        "id": "_IOmJrXHMfkN"
      },
      "source": [
        "### JSON\n"
      ]
    },
    {
      "cell_type": "markdown",
      "source": [
        "**JSON** – JavaScript Object Notation – текстовый формат обмена данными.  \n",
        "\n",
        "Легко читаем людьми, однозначно записывает данные, подходит для  \n",
        "сериализации сложных структур. Много используется в вебе."
      ],
      "metadata": {
        "id": "e4Qm3YlzZUwp"
      }
    },
    {
      "cell_type": "markdown",
      "metadata": {
        "id": "9inXg3QJMfkN"
      },
      "source": [
        "Пример JSON:\n",
        "```JavaScript\n",
        "{\n",
        "    \"firstName\": \"Иван\",\n",
        "    \"lastName\": \"Иванов\",\n",
        "    \"address\": {\n",
        "        \"streetAddress\": \"Московское ш., 101, кв.101\",\n",
        "        \"city\": \"Ленинград\",\n",
        "        \"postalCode\": \"101101“\n",
        "    },\n",
        "    \"phoneNumbers\": [\"812 123-1234\", \"916 123-4567“]\n",
        "}\n",
        "```"
      ]
    },
    {
      "cell_type": "markdown",
      "metadata": {
        "id": "4aXiFED6MfkN"
      },
      "source": [
        "**Преимущества**:\n",
        "- Человекочитаем – легко проверять данные и находить ошибки в реализации\n",
        "- Текстовый формат\n",
        "- Лаконичен\n",
        "- Широко распространен\n",
        "\n",
        "**Недостатки**:\n",
        "- Поддерживает ограниченное число типов данных (числа, строки, Boolean, None, list, dict)\n",
        "- Нельзя задать рекурсивные структуры\n"
      ]
    },
    {
      "metadata": {
        "id": "HANKkaSEtqI9"
      },
      "cell_type": "markdown",
      "source": [
        "---\n",
        "JSON – формат сплошь и рядом используемый в веб-технологиях.   \n",
        "Для работы с ним в python используется модуль `json`.\n"
      ]
    },
    {
      "metadata": {
        "trusted": true,
        "id": "HTN7z8YPtqI9"
      },
      "cell_type": "code",
      "source": [
        "# импортируем модуль JSON\n",
        "import json"
      ],
      "execution_count": null,
      "outputs": []
    },
    {
      "metadata": {
        "id": "qLWrpr9btqI9"
      },
      "cell_type": "markdown",
      "source": [
        "Основные методы:\n",
        "- `json.dumps(obj)` – сериализует python объект в строку формата JSON\n",
        "- `json.loads(str)` – десериализует строку формата JSON в объект языка Python  \n",
        "(выдает `ValueError`, если строка неверная)\n",
        "\n"
      ]
    },
    {
      "metadata": {
        "id": "JYldLNPNtqI9"
      },
      "cell_type": "markdown",
      "source": [
        "#### Сериализация"
      ]
    },
    {
      "cell_type": "markdown",
      "source": [
        "Процесс, при котором берется python объект,  \n",
        "а на выходе получается строка формата json"
      ],
      "metadata": {
        "id": "iIx3FtALafme"
      }
    },
    {
      "metadata": {
        "trusted": true,
        "id": "8Lk-nRCStqI-",
        "outputId": "30094669-f5bf-49e8-82bb-bea9b9f304d5",
        "colab": {
          "base_uri": "https://localhost:8080/",
          "height": 35
        }
      },
      "cell_type": "code",
      "source": [
        "# Сериализуем Python объект в json строку\n",
        "json.dumps([1, 2, 3, {'4': 5, '6': 7}])"
      ],
      "execution_count": null,
      "outputs": [
        {
          "output_type": "execute_result",
          "data": {
            "text/plain": [
              "'[1, 2, 3, {\"4\": 5, \"6\": 7}]'"
            ],
            "application/vnd.google.colaboratory.intrinsic+json": {
              "type": "string"
            }
          },
          "metadata": {},
          "execution_count": 27
        }
      ]
    },
    {
      "metadata": {
        "trusted": true,
        "id": "AciFZglwtqJA",
        "outputId": "6bc91e21-881b-4c1c-8dec-5eb8fbe52ed3",
        "colab": {
          "base_uri": "https://localhost:8080/"
        }
      },
      "cell_type": "code",
      "source": [
        "# вывод в читабельном формате\n",
        "print(json.dumps([1, 2, 3, {'4': 5, '6': 7}], indent=4))  # indent - задает дополнительные отступы"
      ],
      "execution_count": null,
      "outputs": [
        {
          "output_type": "stream",
          "name": "stdout",
          "text": [
            "[\n",
            "    1,\n",
            "    2,\n",
            "    3,\n",
            "    {\n",
            "        \"4\": 5,\n",
            "        \"6\": 7\n",
            "    }\n",
            "]\n"
          ]
        }
      ]
    },
    {
      "metadata": {
        "trusted": true,
        "id": "QlkkYIkMtqJB",
        "outputId": "02156aa8-8156-4e4d-abb1-2ca7eb6f1a7c",
        "colab": {
          "base_uri": "https://localhost:8080/"
        }
      },
      "cell_type": "code",
      "source": [
        "# json по умолчанию \"не дружит\" с русскими текстами\n",
        "print(json.dumps({\"english text\": \"русский текст\"}))"
      ],
      "execution_count": null,
      "outputs": [
        {
          "output_type": "stream",
          "name": "stdout",
          "text": [
            "{\"english text\": \"\\u0440\\u0443\\u0441\\u0441\\u043a\\u0438\\u0439 \\u0442\\u0435\\u043a\\u0441\\u0442\"}\n"
          ]
        }
      ]
    },
    {
      "cell_type": "code",
      "source": [
        "print(\n",
        "    json.dumps(\n",
        "        {\"english text\": \"русский текст\"},\n",
        "        ensure_ascii=False) # флаг ensure_ascii дает ожидаемый вид текста\n",
        ")"
      ],
      "metadata": {
        "colab": {
          "base_uri": "https://localhost:8080/"
        },
        "id": "6vKCUVmlukex",
        "outputId": "fddc6fd1-3188-4f2b-aa06-576858af7e71"
      },
      "execution_count": null,
      "outputs": [
        {
          "output_type": "stream",
          "name": "stdout",
          "text": [
            "{\"english text\": \"русский текст\"}\n"
          ]
        }
      ]
    },
    {
      "cell_type": "code",
      "source": [
        "print(json.dumps(\n",
        "    {\"english text\": \"русский текст\"},\n",
        "    ensure_ascii=False,\n",
        "    indent=4) # флаг ensure_ascii дает ожидаемый вид текста\n",
        ")"
      ],
      "metadata": {
        "colab": {
          "base_uri": "https://localhost:8080/"
        },
        "id": "j59Y4hXfYi2y",
        "outputId": "7fcbcca1-d6ad-49fd-f6e6-a7dd7718d8cd"
      },
      "execution_count": null,
      "outputs": [
        {
          "output_type": "stream",
          "name": "stdout",
          "text": [
            "{\n",
            "    \"english text\": \"русский текст\"\n",
            "}\n"
          ]
        }
      ]
    },
    {
      "metadata": {
        "id": "B2T8e1P_tqJC"
      },
      "cell_type": "markdown",
      "source": [
        "#### Десериализация"
      ]
    },
    {
      "cell_type": "markdown",
      "source": [
        "Процесс обратный сериализации, при котором берется строка json формата,  \n",
        "а на выходе получается объект python.  \n",
        "\n",
        "Имейте ввиду результат десериализации не всегда эквивалентен исходному объекту."
      ],
      "metadata": {
        "id": "yLQI_P69ab8M"
      }
    },
    {
      "metadata": {
        "trusted": true,
        "id": "agJtx_6btqJC"
      },
      "cell_type": "code",
      "source": [
        "def check_code_decode_json(src):\n",
        "    json_str = json.dumps(src)\n",
        "    python_obj = json.loads(json_str)\n",
        "\n",
        "    print('Исходный python объект:', repr(src))\n",
        "    print('json строка при сериализации:', repr(json_str))\n",
        "    print('python объект при десериализации', repr(python_obj))\n",
        "\n",
        "    return src == python_obj"
      ],
      "execution_count": null,
      "outputs": []
    },
    {
      "metadata": {
        "trusted": true,
        "id": "aEnIpROUtqJD",
        "outputId": "bc13434f-2434-40b5-c049-9445a60dca20",
        "colab": {
          "base_uri": "https://localhost:8080/"
        }
      },
      "cell_type": "code",
      "source": [
        "src = [1, 2, 3, {\"4\": 5, '6': 7}]\n",
        "print(check_code_decode_json(src))"
      ],
      "execution_count": null,
      "outputs": [
        {
          "output_type": "stream",
          "name": "stdout",
          "text": [
            "Исходный python объект: [1, 2, 3, {'4': 5, '6': 7}]\n",
            "json строка при сериализации: '[1, 2, 3, {\"4\": 5, \"6\": 7}]'\n",
            "python объект при десериализации [1, 2, 3, {'4': 5, '6': 7}]\n",
            "True\n"
          ]
        }
      ]
    },
    {
      "metadata": {
        "trusted": true,
        "id": "VH3gipO3tqJD",
        "outputId": "fe300311-76d5-4f92-ea2f-6337b41d88c1",
        "colab": {
          "base_uri": "https://localhost:8080/"
        }
      },
      "cell_type": "code",
      "source": [
        "# использование tuple\n",
        "src = [(1, 2, 3)]\n",
        "print(check_code_decode_json(src))"
      ],
      "execution_count": null,
      "outputs": [
        {
          "output_type": "stream",
          "name": "stdout",
          "text": [
            "Исходный python объект: [(1, 2, 3)]\n",
            "json строка при сериализации: '[[1, 2, 3]]'\n",
            "python объект при десериализации [[1, 2, 3]]\n",
            "False\n"
          ]
        }
      ]
    },
    {
      "metadata": {
        "trusted": true,
        "id": "eht0WN0CtqJD",
        "outputId": "4e8cc4ea-d0a0-4a47-8651-690c4e792a32",
        "colab": {
          "base_uri": "https://localhost:8080/"
        }
      },
      "cell_type": "code",
      "source": [
        "# в json ключи приводятся к строке, а в неявном виде не десериализуется назад\n",
        "src = [{4: 5, 6: 7}]\n",
        "check_code_decode_json(src)"
      ],
      "execution_count": null,
      "outputs": [
        {
          "output_type": "stream",
          "name": "stdout",
          "text": [
            "Исходный python объект: [{4: 5, 6: 7}]\n",
            "json строка при сериализации: '[{\"4\": 5, \"6\": 7}]'\n",
            "python объект при десериализации [{'4': 5, '6': 7}]\n"
          ]
        },
        {
          "output_type": "execute_result",
          "data": {
            "text/plain": [
              "False"
            ]
          },
          "metadata": {},
          "execution_count": 35
        }
      ]
    },
    {
      "cell_type": "markdown",
      "metadata": {
        "id": "bkX1oAhbV2pb"
      },
      "source": [
        "#### Dump и load. JSON файлы"
      ]
    },
    {
      "cell_type": "markdown",
      "metadata": {
        "id": "R2bNZ_8EMfkU"
      },
      "source": [
        "Не путайте `dumps` с `dump`, а `loads` с `load`!  \n",
        "Последние функции предназначены для работы с каким-либо  \n",
        "источником, например файлом"
      ]
    },
    {
      "cell_type": "code",
      "metadata": {
        "colab": {
          "base_uri": "https://localhost:8080/"
        },
        "id": "tgT9dv25WAOb",
        "outputId": "1a6ef077-5863-40b9-91e3-858586e5e3c4"
      },
      "source": [
        "from pprint import pprint\n",
        "\n",
        "file_path = \"/content/sample_data/anscombe.json\"\n",
        "with open(file_path) as f:\n",
        "    data = json.load(f)\n",
        "\n",
        "pprint(data)  # выгрузили список словарей"
      ],
      "execution_count": null,
      "outputs": [
        {
          "output_type": "stream",
          "name": "stdout",
          "text": [
            "[{'Series': 'I', 'X': 10.0, 'Y': 8.04},\n",
            " {'Series': 'I', 'X': 8.0, 'Y': 6.95},\n",
            " {'Series': 'I', 'X': 13.0, 'Y': 7.58},\n",
            " {'Series': 'I', 'X': 9.0, 'Y': 8.81},\n",
            " {'Series': 'I', 'X': 11.0, 'Y': 8.33},\n",
            " {'Series': 'I', 'X': 14.0, 'Y': 9.96},\n",
            " {'Series': 'I', 'X': 6.0, 'Y': 7.24},\n",
            " {'Series': 'I', 'X': 4.0, 'Y': 4.26},\n",
            " {'Series': 'I', 'X': 12.0, 'Y': 10.84},\n",
            " {'Series': 'I', 'X': 7.0, 'Y': 4.81},\n",
            " {'Series': 'I', 'X': 5.0, 'Y': 5.68},\n",
            " {'Series': 'II', 'X': 10.0, 'Y': 9.14},\n",
            " {'Series': 'II', 'X': 8.0, 'Y': 8.14},\n",
            " {'Series': 'II', 'X': 13.0, 'Y': 8.74},\n",
            " {'Series': 'II', 'X': 9.0, 'Y': 8.77},\n",
            " {'Series': 'II', 'X': 11.0, 'Y': 9.26},\n",
            " {'Series': 'II', 'X': 14.0, 'Y': 8.1},\n",
            " {'Series': 'II', 'X': 6.0, 'Y': 6.13},\n",
            " {'Series': 'II', 'X': 4.0, 'Y': 3.1},\n",
            " {'Series': 'II', 'X': 12.0, 'Y': 9.13},\n",
            " {'Series': 'II', 'X': 7.0, 'Y': 7.26},\n",
            " {'Series': 'II', 'X': 5.0, 'Y': 4.74},\n",
            " {'Series': 'III', 'X': 10.0, 'Y': 7.46},\n",
            " {'Series': 'III', 'X': 8.0, 'Y': 6.77},\n",
            " {'Series': 'III', 'X': 13.0, 'Y': 12.74},\n",
            " {'Series': 'III', 'X': 9.0, 'Y': 7.11},\n",
            " {'Series': 'III', 'X': 11.0, 'Y': 7.81},\n",
            " {'Series': 'III', 'X': 14.0, 'Y': 8.84},\n",
            " {'Series': 'III', 'X': 6.0, 'Y': 6.08},\n",
            " {'Series': 'III', 'X': 4.0, 'Y': 5.39},\n",
            " {'Series': 'III', 'X': 12.0, 'Y': 8.15},\n",
            " {'Series': 'III', 'X': 7.0, 'Y': 6.42},\n",
            " {'Series': 'III', 'X': 5.0, 'Y': 5.73},\n",
            " {'Series': 'IV', 'X': 8.0, 'Y': 6.58},\n",
            " {'Series': 'IV', 'X': 8.0, 'Y': 5.76},\n",
            " {'Series': 'IV', 'X': 8.0, 'Y': 7.71},\n",
            " {'Series': 'IV', 'X': 8.0, 'Y': 8.84},\n",
            " {'Series': 'IV', 'X': 8.0, 'Y': 8.47},\n",
            " {'Series': 'IV', 'X': 8.0, 'Y': 7.04},\n",
            " {'Series': 'IV', 'X': 8.0, 'Y': 5.25},\n",
            " {'Series': 'IV', 'X': 19.0, 'Y': 12.5},\n",
            " {'Series': 'IV', 'X': 8.0, 'Y': 5.56},\n",
            " {'Series': 'IV', 'X': 8.0, 'Y': 7.91},\n",
            " {'Series': 'IV', 'X': 8.0, 'Y': 6.89}]\n"
          ]
        }
      ]
    },
    {
      "cell_type": "code",
      "metadata": {
        "id": "D7QURHyEWSiW",
        "colab": {
          "base_uri": "https://localhost:8080/"
        },
        "outputId": "d401d54f-41b4-41d3-faf4-dd1e89fc1e38"
      },
      "source": [
        "print(json.dumps(data[:5], indent=4))"
      ],
      "execution_count": null,
      "outputs": [
        {
          "output_type": "stream",
          "name": "stdout",
          "text": [
            "[\n",
            "    {\n",
            "        \"Series\": \"I\",\n",
            "        \"X\": 10.0,\n",
            "        \"Y\": 8.04\n",
            "    },\n",
            "    {\n",
            "        \"Series\": \"I\",\n",
            "        \"X\": 8.0,\n",
            "        \"Y\": 6.95\n",
            "    },\n",
            "    {\n",
            "        \"Series\": \"I\",\n",
            "        \"X\": 13.0,\n",
            "        \"Y\": 7.58\n",
            "    },\n",
            "    {\n",
            "        \"Series\": \"I\",\n",
            "        \"X\": 9.0,\n",
            "        \"Y\": 8.81\n",
            "    },\n",
            "    {\n",
            "        \"Series\": \"I\",\n",
            "        \"X\": 11.0,\n",
            "        \"Y\": 8.33\n",
            "    }\n",
            "]\n"
          ]
        }
      ]
    },
    {
      "cell_type": "code",
      "metadata": {
        "id": "KdEUUAalW2o2"
      },
      "source": [
        "russian_data = {\n",
        "    \"Фамилия\": \"Петров\",\n",
        "    \"Имя\": \"Петр\",\n",
        "}\n",
        "\n",
        "filename = \"russian.json\"\n",
        "with open(filename, \"w\") as f:\n",
        "    json.dump(russian_data, f)\n",
        "\n",
        "\n",
        "filename = \"russian_ensure_ascii.json\"\n",
        "with open(filename, \"w\", encoding=\"utf8\") as f:\n",
        "    json.dump(russian_data, f, ensure_ascii=False)"
      ],
      "execution_count": null,
      "outputs": []
    },
    {
      "cell_type": "markdown",
      "metadata": {
        "id": "g_x2n60yMfkU"
      },
      "source": [
        "### Pickle"
      ]
    },
    {
      "cell_type": "markdown",
      "source": [
        "Сериализация в JSON полезна в мире веба, если вам нужно что-то сохранить  \n",
        "на диск – можно использовать бинарную сериализацию.\n",
        "\n",
        "Самый популярный модуль для бинарной сериализации – `Pickle`.\n",
        "\n",
        "Сохраняет объекты в бинарный формат, который потом можно восстановить  \n",
        "при другом запуске или на другом устройстве.\n",
        "\n",
        "По умолчанию в Python3 `pickle` версии – 3.\n"
      ],
      "metadata": {
        "id": "YCtYc_96ZYf5"
      }
    },
    {
      "cell_type": "markdown",
      "metadata": {
        "id": "y2sRT5kRMfkU"
      },
      "source": [
        "Внутри модуля реализовано всего несколько методов:\n",
        "- `pickle.dump(obj, file)` – сохраняет объект **obj** в файл **file**\n",
        "- `pickle.dumps(obj)` – сериализует объект и возвращает набор байт (для передачи по сети, например)\n",
        "- `pickle.load(file)` – читает файл и восстанавливает объект из файла\n",
        "- `pickle.loads(bytes_object)` – читает последовательность байт и восстанавливает по ним объект\n"
      ]
    },
    {
      "cell_type": "markdown",
      "metadata": {
        "id": "ItHOR48MMfkU"
      },
      "source": [
        "Что можно «запиклить»?\n",
        "- None, True, False\n",
        "- целые, дробные и комплексные числа\n",
        "- строки, байты, байт-массивы\n",
        "- кортежи, списки, множества и словари, содержащие только \"picklable\" объекты\n",
        "- функции, определенные на верхнем уровне модуля (только используя `def`, не лямбда функции)\n",
        "- встроенные функции языка Python, определенные на верхнем уровне модуля\n",
        "- классы, определенные на верхнем уровеня модуля\n",
        "- экземпляры таких классов, чей результат `__dict__` или `__getstate__()` – \"picklable\"\n"
      ]
    },
    {
      "cell_type": "markdown",
      "metadata": {
        "id": "dFgUgbKjMfkV"
      },
      "source": [
        "#### Pickle vs JSON\n"
      ]
    },
    {
      "cell_type": "markdown",
      "metadata": {
        "id": "oKk1tLgFMfkV"
      },
      "source": [
        "JSON – формат текстовой сериализации,  \n",
        "а `pickle` – формат бинарной сериализации\n",
        "\n",
        "JSON человекочитаем, а `pickle` – нет\n",
        "\n",
        "JSON не привязан к языку и часто используется вне экосистемы языка Python,  \n",
        "в то время как `pickle` специфичен для языка Python\n",
        "\n",
        "JSON (по умолчанию) может сериализовывать только часть встроенных типов языка Python,  \n",
        "`pickle` может сериализовывать множество различных типов объектов\n",
        "\n",
        "Если вы хотите сохранять данные, которые потом будут обрабатывать  \n",
        "на python – берите `pickle`.  \n",
        "Передача данных в вебе – JSON (даже если на другой стороне  \n",
        "тоже python и pickle доступен)."
      ]
    },
    {
      "cell_type": "markdown",
      "metadata": {
        "id": "EHLxCgyZMfkW"
      },
      "source": [
        "#### Не только Pickle\n"
      ]
    },
    {
      "cell_type": "markdown",
      "source": [
        "В языке Python существуют и другие способы сериализации:\n",
        "- Если объект – `NumPy` массив, можно использовать  \n",
        "`np.save`, `np.savetxt`, `np.savez`, `np.savez_compressed`\n",
        "\n",
        "- Для хранения больших файлов (астрономические данные, веса больших нейронных сетей и т.д.)  \n",
        "используется формат `HDF5`.  \n",
        "Работа с такими файлами в Python осуществляется с помощью библиотеки `h5py`  \n",
        "и методов `create_dataset`, `File` и т.д.\n",
        "\n",
        "Многие модули имеют собственные методы для сериализации данных  \n",
        "(часто на основе – pickle)"
      ],
      "metadata": {
        "id": "NQfShzlxZ7Un"
      }
    },
    {
      "cell_type": "markdown",
      "metadata": {
        "id": "LsWRu0G-YQvv"
      },
      "source": [
        "### CSV"
      ]
    },
    {
      "cell_type": "markdown",
      "metadata": {
        "id": "7waOCjB7a4Ga"
      },
      "source": [
        "CSV (от англ. Comma-Separated Values — значения, разделённые запятыми) —  \n",
        "текстовый формат, предназначенный для представления табличных данных.\n",
        "\n",
        "Формат CSV является наиболее часто используемым  \n",
        "форматом экспорта электронных таблиц.\n",
        "\n",
        "Файл CSV обычно имеет расширение **`.csv`**."
      ]
    },
    {
      "cell_type": "code",
      "metadata": {
        "colab": {
          "base_uri": "https://localhost:8080/"
        },
        "id": "PKhvIte1YP7w",
        "outputId": "b6b52341-a124-4a67-98cf-924f733578e0"
      },
      "source": [
        "filepath = \"/content/sample_data/california_housing_test.csv\"\n",
        "with open(filepath) as f:\n",
        "    for _ in range(5):\n",
        "        print(repr(f.readline()))"
      ],
      "execution_count": null,
      "outputs": [
        {
          "output_type": "stream",
          "name": "stdout",
          "text": [
            "'\"longitude\",\"latitude\",\"housing_median_age\",\"total_rooms\",\"total_bedrooms\",\"population\",\"households\",\"median_income\",\"median_house_value\"\\n'\n",
            "'-122.050000,37.370000,27.000000,3885.000000,661.000000,1537.000000,606.000000,6.608500,344700.000000\\n'\n",
            "'-118.300000,34.260000,43.000000,1510.000000,310.000000,809.000000,277.000000,3.599000,176500.000000\\n'\n",
            "'-117.810000,33.780000,27.000000,3589.000000,507.000000,1484.000000,495.000000,5.793400,270500.000000\\n'\n",
            "'-118.360000,33.820000,28.000000,67.000000,15.000000,49.000000,11.000000,6.135900,330000.000000\\n'\n"
          ]
        }
      ]
    },
    {
      "cell_type": "code",
      "metadata": {
        "colab": {
          "base_uri": "https://localhost:8080/"
        },
        "id": "qIe7SJ62b0Ak",
        "outputId": "4bc5adc7-0782-40dd-f82b-6543c05d2a33"
      },
      "source": [
        "import csv\n",
        "\n",
        "filepath = \"/content/sample_data/california_housing_test.csv\"\n",
        "\n",
        "with open(filepath) as f:\n",
        "    lines = [line for line in csv.reader(f)]\n",
        "    for line in lines[:5]:\n",
        "        print(line)"
      ],
      "execution_count": null,
      "outputs": [
        {
          "output_type": "stream",
          "name": "stdout",
          "text": [
            "['longitude', 'latitude', 'housing_median_age', 'total_rooms', 'total_bedrooms', 'population', 'households', 'median_income', 'median_house_value']\n",
            "['-122.050000', '37.370000', '27.000000', '3885.000000', '661.000000', '1537.000000', '606.000000', '6.608500', '344700.000000']\n",
            "['-118.300000', '34.260000', '43.000000', '1510.000000', '310.000000', '809.000000', '277.000000', '3.599000', '176500.000000']\n",
            "['-117.810000', '33.780000', '27.000000', '3589.000000', '507.000000', '1484.000000', '495.000000', '5.793400', '270500.000000']\n",
            "['-118.360000', '33.820000', '28.000000', '67.000000', '15.000000', '49.000000', '11.000000', '6.135900', '330000.000000']\n"
          ]
        }
      ]
    },
    {
      "cell_type": "code",
      "metadata": {
        "colab": {
          "base_uri": "https://localhost:8080/"
        },
        "id": "zqRFmZ7rb_Fg",
        "outputId": "8638875b-3a0f-4286-a150-32898e563931"
      },
      "source": [
        "filepath = \"/content/sample_data/california_housing_test.csv\"\n",
        "with open(filepath) as f:\n",
        "    lines = [line for line in csv.DictReader(f)]\n",
        "    for line in lines[:5]:\n",
        "        print(line)"
      ],
      "execution_count": null,
      "outputs": [
        {
          "output_type": "stream",
          "name": "stdout",
          "text": [
            "OrderedDict([('longitude', '-122.050000'), ('latitude', '37.370000'), ('housing_median_age', '27.000000'), ('total_rooms', '3885.000000'), ('total_bedrooms', '661.000000'), ('population', '1537.000000'), ('households', '606.000000'), ('median_income', '6.608500'), ('median_house_value', '344700.000000')])\n",
            "OrderedDict([('longitude', '-118.300000'), ('latitude', '34.260000'), ('housing_median_age', '43.000000'), ('total_rooms', '1510.000000'), ('total_bedrooms', '310.000000'), ('population', '809.000000'), ('households', '277.000000'), ('median_income', '3.599000'), ('median_house_value', '176500.000000')])\n",
            "OrderedDict([('longitude', '-117.810000'), ('latitude', '33.780000'), ('housing_median_age', '27.000000'), ('total_rooms', '3589.000000'), ('total_bedrooms', '507.000000'), ('population', '1484.000000'), ('households', '495.000000'), ('median_income', '5.793400'), ('median_house_value', '270500.000000')])\n",
            "OrderedDict([('longitude', '-118.360000'), ('latitude', '33.820000'), ('housing_median_age', '28.000000'), ('total_rooms', '67.000000'), ('total_bedrooms', '15.000000'), ('population', '49.000000'), ('households', '11.000000'), ('median_income', '6.135900'), ('median_house_value', '330000.000000')])\n",
            "OrderedDict([('longitude', '-119.670000'), ('latitude', '36.330000'), ('housing_median_age', '19.000000'), ('total_rooms', '1241.000000'), ('total_bedrooms', '244.000000'), ('population', '850.000000'), ('households', '237.000000'), ('median_income', '2.937500'), ('median_house_value', '81700.000000')])\n"
          ]
        }
      ]
    },
    {
      "cell_type": "markdown",
      "metadata": {
        "id": "7ljzlbiMcqYP"
      },
      "source": [
        "### YAML"
      ]
    },
    {
      "cell_type": "markdown",
      "metadata": {
        "id": "zmNfWGl4eRuR"
      },
      "source": [
        "YAML (YAML Ain’t Markup Language) - еще один текстовый формат для записи данных.\n",
        "\n",
        "YAML более приятен для восприятия человеком, чем JSON,  \n",
        "поэтому его часто используют для описания сценариев в ПО, например Docker-compose."
      ]
    },
    {
      "cell_type": "markdown",
      "metadata": {
        "id": "41VyBiLXeX0P"
      },
      "source": [
        "Список\n",
        "\n",
        "Список может быть записан в одну строку:\n",
        "\n",
        "```yaml\n",
        "[item1, item2, item3]\n",
        "```\n",
        "\n",
        "Или каждый элемент списка в своей строке:\n",
        "\n",
        "```yaml\n",
        "- item1\n",
        "- item2\n",
        "- item3\n",
        "```\n",
        "Когда список записан таким блоком, каждая строка должна начинаться с - (минуса и пробела),  \n",
        "и все строки в списке должны быть на одном уровне отступа."
      ]
    },
    {
      "cell_type": "markdown",
      "metadata": {
        "id": "lQ3gMesue3MR"
      },
      "source": [
        "Словарь\n",
        "\n",
        "Словарь также может быть записан в одну строку:\n",
        "\n",
        "```yaml\n",
        "{ name: Петр, surname: Петров }\n",
        "```\n",
        "Или блоком:\n",
        "\n",
        "```yaml\n",
        "name: Петр\n",
        "surname: Петров\n",
        "```\n"
      ]
    },
    {
      "cell_type": "markdown",
      "metadata": {
        "id": "1eAaExdYfUj_"
      },
      "source": [
        "Список словарей:\n",
        "\n",
        "```yaml\n",
        "- name: Петр\n",
        "  surname: Петров\n",
        "- name: Иван\n",
        "  surname: Иванов\n",
        "- name: Вася\n",
        "  surname: Пупкин\n",
        "```"
      ]
    },
    {
      "cell_type": "markdown",
      "metadata": {
        "id": "uicIsJcBjNYk"
      },
      "source": [
        "### XML"
      ]
    },
    {
      "cell_type": "markdown",
      "metadata": {
        "id": "LaUt1291jsJM"
      },
      "source": [
        "XML - расширяемый язык разметки.\n",
        "\n",
        "Основной идеей является использование разметки данных с помощью тегов.  \n",
        "Тег — это некий текст, обернутый в угловые скобки\n",
        "```xml\n",
        "<Название тега> Содержимое тега </Название тега>\n",
        "```\n",
        "\n",
        "Пример:\n",
        "```xml\n",
        "<person>\n",
        "    <name>Вася</name>\n",
        "    <surname>Пупкин</surname>\n",
        "</person>\n",
        "```"
      ]
    },
    {
      "cell_type": "markdown",
      "metadata": {
        "id": "YJPHMrpgnV0Z"
      },
      "source": [
        "## Анонимные lambda-функции.\n"
      ]
    },
    {
      "cell_type": "markdown",
      "source": [
        "### Создание анонимных lambda-функций."
      ],
      "metadata": {
        "id": "KRSECMyHpP1P"
      }
    },
    {
      "cell_type": "markdown",
      "metadata": {
        "id": "lYZnQPvjnV0g"
      },
      "source": [
        "Lambda функции в большинстве своем предназначены для выполнения  \n",
        "каких-либо одноразовых действий и после свое выполенения они сразу удаляются.  \n",
        "\n",
        "Lambda функции ещё называют анонимными функциями.  \n",
        "Объявляются они по ключевому слову `lambda`.\n",
        "\n",
        "lambda функции могут содержать в себе только  \n",
        "одну инструкцию (выражение), которую они выполняют\n",
        "\n",
        "```python\n",
        "lambda arg1, arg2, ...: pass\n",
        "```\n",
        "\n",
        "```python\n",
        "# эти две функции выполняют одно и тоже складывают два числа\n",
        "def my_function(x1, x2):  # Обычная функция\n",
        "    return x2 + x1\n",
        "\n",
        "lambda x1, x2: x2 + x1  # Lambda функция\n",
        "```\n",
        "\n",
        "Поэтому [не следует](https://www.python.org/dev/peps/pep-0008/#programming-recommendations) присваивать lambda функцию  \n",
        "какой-то переменной что-бы повторно использовать её.  \n",
        "Во время трассировки программы вам будет сложно понять,  \n",
        "где искать функцию, чтобы проверить, что она выполняет.\n",
        "\n",
        "```python\n",
        "lambda_function = lambda x1, x2: x2 + x1  # Неверное оформление из-за присваивая\n",
        "```"
      ]
    },
    {
      "cell_type": "code",
      "metadata": {
        "trusted": true,
        "id": "KPX5GBYmnV0h",
        "colab": {
          "base_uri": "https://localhost:8080/"
        },
        "outputId": "70b39c5e-9328-4dfe-e13c-ebea04da812a"
      },
      "source": [
        "def my_function(x1, x2):  # Обычная функция\n",
        "    return x2 + x1\n",
        "\n",
        "# именованая функция\n",
        "print(my_function)"
      ],
      "execution_count": null,
      "outputs": [
        {
          "output_type": "stream",
          "name": "stdout",
          "text": [
            "<function my_function at 0x7f8069070680>\n"
          ]
        }
      ]
    },
    {
      "cell_type": "code",
      "metadata": {
        "trusted": true,
        "id": "vMLHt0oVnV0h",
        "colab": {
          "base_uri": "https://localhost:8080/"
        },
        "outputId": "efe32f90-4d48-4961-af72-397e44ad714d"
      },
      "source": [
        "# анонимная функция тип function\n",
        "lambda x1, x2: x2 + x1"
      ],
      "execution_count": null,
      "outputs": [
        {
          "output_type": "execute_result",
          "data": {
            "text/plain": [
              "<function __main__.<lambda>>"
            ]
          },
          "metadata": {},
          "execution_count": 43
        }
      ]
    },
    {
      "cell_type": "code",
      "metadata": {
        "trusted": true,
        "id": "vKndOHWGnV0h",
        "colab": {
          "base_uri": "https://localhost:8080/"
        },
        "outputId": "f7335c6c-dd25-4fde-d13d-b73b54b0acc6"
      },
      "source": [
        "# вторая анонимная функция\n",
        "lambda x1, x2: x2 * x1"
      ],
      "execution_count": null,
      "outputs": [
        {
          "output_type": "execute_result",
          "data": {
            "text/plain": [
              "<function __main__.<lambda>>"
            ]
          },
          "metadata": {},
          "execution_count": 44
        }
      ]
    },
    {
      "cell_type": "markdown",
      "source": [
        "### Применение анонимных lambda-функций."
      ],
      "metadata": {
        "id": "v9QowGEHpdzl"
      }
    },
    {
      "cell_type": "markdown",
      "source": [
        "##### ***Задача***\n",
        "\n",
        "Дан словарь учеников.  \n",
        "Отсортировать учеников по возрасту.  \n"
      ],
      "metadata": {
        "id": "j-VICIMhRutw"
      }
    },
    {
      "cell_type": "code",
      "source": [
        "students_dict = {\n",
        "    'Саша': 27,\n",
        "    'Кирилл': 52,\n",
        "    'Маша': 14,\n",
        "    'Петя': 36,\n",
        "    'Оля': 43,\n",
        "}\n",
        "\n",
        "print(sorted(students_dict))"
      ],
      "metadata": {
        "colab": {
          "base_uri": "https://localhost:8080/"
        },
        "id": "Qmz6FyNzSI_F",
        "outputId": "1cb40d2f-3e9c-42ac-d479-98dee3b5de98"
      },
      "execution_count": null,
      "outputs": [
        {
          "output_type": "stream",
          "name": "stdout",
          "text": [
            "['Кирилл', 'Маша', 'Оля', 'Петя', 'Саша']\n"
          ]
        }
      ]
    },
    {
      "cell_type": "code",
      "metadata": {
        "trusted": true,
        "id": "oFMWUFOYnV0l",
        "colab": {
          "base_uri": "https://localhost:8080/"
        },
        "outputId": "9d83f2ad-9401-4f7a-9214-ccd24885cf57"
      },
      "source": [
        "# По умолчанию, словать сортируется по ключам\n",
        "print(dict(sorted(students_dict.items())))  # {'Кирилл': 52, 'Маша': 14, 'Оля': 43, 'Петя': 36, 'Саша': 27}"
      ],
      "execution_count": null,
      "outputs": [
        {
          "output_type": "stream",
          "name": "stdout",
          "text": [
            "{'Кирилл': 52, 'Маша': 14, 'Оля': 43, 'Петя': 36, 'Саша': 27}\n"
          ]
        }
      ]
    },
    {
      "cell_type": "markdown",
      "metadata": {
        "id": "ncSkTRQTnV0l"
      },
      "source": [
        "А вот чтобы отсортировать по значениям, нужно указать,  \n",
        "что сортировать нужно по второму значению из каждого пары ключ-значение.  \n",
        "\n",
        "Тут на помощь как раз приходят lambda функции.  \n",
        "У встроенной функции `sortred()` можно задать аргумент *key*,  \n",
        "который укажет, по какому ключу нужно производить сортировку"
      ]
    },
    {
      "cell_type": "code",
      "source": [
        "print(dict(sorted(students_dict.items(), key=lambda x: x[1])))  # {'Кирилл': 52, 'Маша': 14, 'Оля': 43, 'Петя': 36, 'Саша': 27}"
      ],
      "metadata": {
        "colab": {
          "base_uri": "https://localhost:8080/"
        },
        "id": "OWodqKqPjxa_",
        "outputId": "38a078b2-7402-41ea-d963-99d7ef9c847c"
      },
      "execution_count": null,
      "outputs": [
        {
          "output_type": "stream",
          "name": "stdout",
          "text": [
            "{'Маша': 14, 'Саша': 27, 'Петя': 36, 'Оля': 43, 'Кирилл': 52}\n"
          ]
        }
      ]
    },
    {
      "cell_type": "markdown",
      "metadata": {
        "id": "43NhnU-KnV0m"
      },
      "source": [
        "##### ***Задача.***\n",
        "Дан список с данными о росте и весе людей.  \n",
        "Отсортировать их по [индексу](https://www.adme.ru/svoboda-sdelaj-sam/professionalnye-tablicy-sootnosheniya-vesa-i-rosta-996960/) массы тела.  \n",
        "Он вычисляется по формуле:  \n",
        "\n",
        "$$\\frac{Вес\\ тела\\ в\\ киллограммах}{Рост\\ в\\ метрах * Рост\\ в\\ метрах}$$"
      ]
    },
    {
      "cell_type": "code",
      "metadata": {
        "trusted": true,
        "id": "q20PlqsonV0n",
        "colab": {
          "base_uri": "https://localhost:8080/"
        },
        "outputId": "91adfd5c-9fad-4219-b8e8-a525da4e5936"
      },
      "source": [
        "data = [\n",
        "    (82, 191),\n",
        "    (68, 174),\n",
        "    (90, 189),\n",
        "    (73, 179),\n",
        "    (76, 184)\n",
        "]\n",
        "\n",
        "print(sorted([x[0] / x[1] ** 2 for x in data]))  # высчитываем индексы, но теряем исходные данные\n",
        "\n",
        "print(sorted(data, key=lambda x: x[0] / x[1] ** 2))  # сортируем данные по ключевой функции"
      ],
      "execution_count": null,
      "outputs": [
        {
          "output_type": "stream",
          "name": "stdout",
          "text": [
            "[0.0022448015122873348, 0.002246003435064077, 0.002247745401715962, 0.0022783308885490467, 0.0025195263290501385]\n",
            "[(76, 184), (68, 174), (82, 191), (73, 179), (90, 189)]\n"
          ]
        }
      ]
    },
    {
      "cell_type": "markdown",
      "source": [
        "##### ***Задача***\n",
        "\n",
        "Дан словарь учеников.  \n",
        "Найти самого минимального ученика по возрасту.  \n"
      ],
      "metadata": {
        "id": "lrfs90YZr-yQ"
      }
    },
    {
      "cell_type": "code",
      "source": [
        "students_list = [\n",
        "    {\n",
        "        \"name\": \"Саша\",\n",
        "        \"age\": 27,\n",
        "    },\n",
        "    {\n",
        "        \"name\": \"Кирилл\",\n",
        "        \"age\": 52,\n",
        "    },\n",
        "    {\n",
        "        \"name\": \"Маша\",\n",
        "        \"age\": 14,\n",
        "    },\n",
        "    {\n",
        "        \"name\": \"Петя\",\n",
        "        \"age\": 36,\n",
        "    },\n",
        "    {\n",
        "        \"name\": \"Оля\",\n",
        "        \"age\": 43,\n",
        "    },\n",
        "]\n",
        "\n",
        "print(min(students_list, key=lambda item: item[\"age\"]))  # {'name': 'Маша', 'age': 14}"
      ],
      "metadata": {
        "colab": {
          "base_uri": "https://localhost:8080/"
        },
        "outputId": "8e2ac4ab-719a-4d9f-9f48-56312f404ba5",
        "id": "60JVEO0ar-yQ"
      },
      "execution_count": null,
      "outputs": [
        {
          "output_type": "stream",
          "name": "stdout",
          "text": [
            "{'name': 'Маша', 'age': 14}\n"
          ]
        }
      ]
    },
    {
      "cell_type": "markdown",
      "metadata": {
        "id": "b0PdLJKtzgCF"
      },
      "source": [
        "## Запаковка и распаковка множественных значений.\n",
        "\n"
      ]
    },
    {
      "cell_type": "code",
      "metadata": {
        "colab": {
          "base_uri": "https://localhost:8080/"
        },
        "id": "xFO0Q0ZjjP-2",
        "outputId": "a8cad27b-c89b-4644-ab73-5da97834f22e"
      },
      "source": [
        "a, b = 1, 2\n",
        "print(a)  # 1\n",
        "print(b)  # 2"
      ],
      "execution_count": null,
      "outputs": [
        {
          "output_type": "stream",
          "name": "stdout",
          "text": [
            "1\n",
            "2\n"
          ]
        }
      ]
    },
    {
      "cell_type": "code",
      "metadata": {
        "colab": {
          "base_uri": "https://localhost:8080/"
        },
        "id": "O6lDY5lMjU07",
        "outputId": "df6b0661-1366-4f53-e045-2b7110bf79b1"
      },
      "source": [
        "tuple_ = 1, 2\n",
        "print(tuple_)  # (1, 2)"
      ],
      "execution_count": null,
      "outputs": [
        {
          "output_type": "stream",
          "name": "stdout",
          "text": [
            "(1, 2)\n"
          ]
        }
      ]
    },
    {
      "cell_type": "markdown",
      "metadata": {
        "id": "RkLKQLI-zvoZ"
      },
      "source": [
        "Оператор `*` запаковывает множественные значения.  \n"
      ]
    },
    {
      "cell_type": "code",
      "source": [
        "tuple_ = 1, 2, 3, 4, 5\n",
        "first_value, *last_values = tuple_\n",
        "\n",
        "print(first_value)  # 1\n",
        "print(last_values)  # [2, 3, 4, 5]"
      ],
      "metadata": {
        "id": "o0gmgf62sig1",
        "colab": {
          "base_uri": "https://localhost:8080/"
        },
        "outputId": "1f26d0c4-4e57-4a17-d7a5-0b2b1dd1dd55"
      },
      "execution_count": null,
      "outputs": [
        {
          "output_type": "stream",
          "name": "stdout",
          "text": [
            "1\n",
            "[2, 3, 4, 5]\n"
          ]
        }
      ]
    },
    {
      "cell_type": "code",
      "metadata": {
        "colab": {
          "base_uri": "https://localhost:8080/"
        },
        "id": "YRF5UzI4j4R4",
        "outputId": "b9d06a7b-98c1-4708-f801-9aac49fa30df"
      },
      "source": [
        "tuple_ = 1, 2, 3, 4, 5\n",
        "*first_values, last_value = tuple_\n",
        "\n",
        "print(first_values)  # [1, 2, 3, 4]\n",
        "print(last_value)  # 5"
      ],
      "execution_count": null,
      "outputs": [
        {
          "output_type": "stream",
          "name": "stdout",
          "text": [
            "[1, 2, 3, 4]\n",
            "5\n"
          ]
        }
      ]
    },
    {
      "cell_type": "code",
      "metadata": {
        "colab": {
          "base_uri": "https://localhost:8080/"
        },
        "id": "_hx8m0KI0cdG",
        "outputId": "99207fa0-e610-4be8-d945-37627734c73f"
      },
      "source": [
        "tuple_ = 1, 2, 3, 4, 5\n",
        "first_value, *middle_values, last_value = tuple_\n",
        "\n",
        "print(first_value)\n",
        "print(middle_values)\n",
        "print(last_value)"
      ],
      "execution_count": null,
      "outputs": [
        {
          "output_type": "stream",
          "name": "stdout",
          "text": [
            "1\n",
            "[2, 3, 4]\n",
            "5\n"
          ]
        }
      ]
    },
    {
      "cell_type": "code",
      "metadata": {
        "colab": {
          "base_uri": "https://localhost:8080/"
        },
        "id": "HYOuPEtGjt5z",
        "outputId": "fcbf89a6-5b99-48d6-9fa9-403323f08d9f"
      },
      "source": [
        "tuple_ = (1,)\n",
        "first_value, *last_values = tuple_\n",
        "\n",
        "print(first_value)  # 1\n",
        "print(last_values)  # []"
      ],
      "execution_count": null,
      "outputs": [
        {
          "output_type": "stream",
          "name": "stdout",
          "text": [
            "1\n",
            "[]\n"
          ]
        }
      ]
    },
    {
      "cell_type": "markdown",
      "source": [
        "Также оператор `*` может распаковывать множественные значения.  \n"
      ],
      "metadata": {
        "id": "ag4U8JFhKars"
      }
    },
    {
      "cell_type": "code",
      "source": [
        "values = [1, 2, 3]\n",
        "\n",
        "print(values)  # [1, 2, 3]\n",
        "print(*values)  # 1 2 3"
      ],
      "metadata": {
        "colab": {
          "base_uri": "https://localhost:8080/"
        },
        "id": "nrUsQsAAulga",
        "outputId": "bc456705-857f-4da2-bc58-3499f2aa6fc8"
      },
      "execution_count": null,
      "outputs": [
        {
          "output_type": "stream",
          "name": "stdout",
          "text": [
            "[1, 2, 3]\n",
            "1 2 3\n"
          ]
        }
      ]
    },
    {
      "cell_type": "markdown",
      "source": [
        "### args и kwargs"
      ],
      "metadata": {
        "id": "G-7yyPRyKgjx"
      }
    },
    {
      "cell_type": "markdown",
      "metadata": {
        "id": "wbBCVEJn1TH9"
      },
      "source": [
        "Существует два типа параметров функции\n",
        "\n",
        "- позиционные - *args — это сокращение от arguments (аргументы)\n",
        "- именованные - **kwargs — это сокращение от keyword arguments (именованные аргументы)"
      ]
    },
    {
      "cell_type": "code",
      "metadata": {
        "colab": {
          "base_uri": "https://localhost:8080/"
        },
        "id": "WrK9mUtKzqHR",
        "outputId": "66651006-ecb3-4dfd-91af-2d2a80728fb3"
      },
      "source": [
        "def print_args(*args):\n",
        "    print(type(args), args)\n",
        "\n",
        "print_args()\n",
        "print_args(1)\n",
        "print_args(1, 2, 3)"
      ],
      "execution_count": null,
      "outputs": [
        {
          "output_type": "stream",
          "name": "stdout",
          "text": [
            "<class 'tuple'> ()\n",
            "<class 'tuple'> (1,)\n",
            "<class 'tuple'> (1, 2, 3)\n"
          ]
        }
      ]
    },
    {
      "cell_type": "code",
      "metadata": {
        "colab": {
          "base_uri": "https://localhost:8080/"
        },
        "id": "yIPyS7d7z-N0",
        "outputId": "24ede537-7006-4c7f-b4b5-ad6ea41aa03b"
      },
      "source": [
        "def print_kwargs(**kwargs):\n",
        "    print(type(kwargs), kwargs)\n",
        "\n",
        "print_kwargs()\n",
        "print_kwargs(kwarg1=\"kwarg1\")\n",
        "print_kwargs(kwarg1=\"kwarg1\", kwarg2=\"kwarg2\")"
      ],
      "execution_count": null,
      "outputs": [
        {
          "output_type": "stream",
          "name": "stdout",
          "text": [
            "<class 'dict'> {}\n",
            "<class 'dict'> {'kwarg1': 'kwarg1'}\n",
            "<class 'dict'> {'kwarg1': 'kwarg1', 'kwarg2': 'kwarg2'}\n"
          ]
        }
      ]
    },
    {
      "cell_type": "code",
      "metadata": {
        "colab": {
          "base_uri": "https://localhost:8080/"
        },
        "id": "NojwhdDd0MH-",
        "outputId": "d378c125-f372-4b7f-e7e7-476eebc598be"
      },
      "source": [
        "def print_args_kwargs(*args, **kwargs):\n",
        "    for index, arg in enumerate(args):\n",
        "        print(f\"Позиционный аргумент {index}: {arg}\")\n",
        "\n",
        "    for key, kwarg in kwargs.items():\n",
        "        print(f\"Именованный аргумент {key}: {kwarg}\")\n",
        "\n",
        "print_args_kwargs(1, 2, 3, kwarg1=\"kwarg1\", kwarg2=\"kwarg2\")"
      ],
      "execution_count": null,
      "outputs": [
        {
          "output_type": "stream",
          "name": "stdout",
          "text": [
            "Позиционный аргумент 0: 1\n",
            "Позиционный аргумент 1: 2\n",
            "Позиционный аргумент 2: 3\n",
            "Именованный аргумент kwarg1: kwarg1\n",
            "Именованный аргумент kwarg2: kwarg2\n"
          ]
        }
      ]
    },
    {
      "cell_type": "markdown",
      "metadata": {
        "id": "fA5wpmB8zqZt"
      },
      "source": [
        "Для дополнительного изучения,  \n",
        "можно воспользоваться следующим [материалом](https://habr.com/ru/company/ruvds/blog/482464/)"
      ]
    },
    {
      "cell_type": "markdown",
      "source": [
        "##### ***Задача.***\n",
        "\n",
        "Найти средний балл студента.  \n",
        "Имя студента является обзательный аргументом,  \n",
        "количетво оценок может быть переменной длины."
      ],
      "metadata": {
        "id": "m8Z4GxllLuNg"
      }
    },
    {
      "cell_type": "code",
      "source": [
        "from typing import Tuple\n",
        "\n",
        "\n",
        "def calc_mean_grade(student: str, *grades: Tuple[float, ...]):  # Tuple[float, ...] - кортеж чисел произвольной длины\n",
        "   print(f\"Студент: {student}\")\n",
        "   print(f\"Средний балл: {sum(grades) / len(grades)}\")\n",
        "\n",
        "\n",
        "calc_mean_grade(\"Вася\", 100, 95, 88, 92, 99)\n",
        "calc_mean_grade(\"Петя\", 92, 95, 99, 88)"
      ],
      "metadata": {
        "colab": {
          "base_uri": "https://localhost:8080/"
        },
        "id": "GsDtUdQPKwoT",
        "outputId": "b47c89a0-028b-4383-b8db-753d547babee"
      },
      "execution_count": null,
      "outputs": [
        {
          "output_type": "stream",
          "name": "stdout",
          "text": [
            "Студент: Вася\n",
            "Средний балл: 94.8\n",
            "Студент: Петя\n",
            "Средний балл: 93.5\n"
          ]
        }
      ]
    },
    {
      "cell_type": "markdown",
      "source": [
        "##### ***Задача.***\n",
        "\n",
        "Распечатать информацию о студенте.\n"
      ],
      "metadata": {
        "id": "utKU9cZSNlpl"
      }
    },
    {
      "cell_type": "code",
      "source": [
        "def print_student_info(name: str, grade: float):\n",
        "   print(f\"Студент:     {name}\")\n",
        "   print(f\"Оценка балл: {grade}\")\n",
        "\n",
        "\n",
        "student_dict = {\n",
        "    \"name\": \"Вася Пупкин\",\n",
        "    \"grade\": 97.5,\n",
        "}\n",
        "print_student_info(**student_dict)  # словарь распакуется в именованные аргументы"
      ],
      "metadata": {
        "colab": {
          "base_uri": "https://localhost:8080/"
        },
        "id": "n9J3fxWRNRQT",
        "outputId": "2549dd8a-b807-4aa9-8c66-e3d723376b31"
      },
      "execution_count": null,
      "outputs": [
        {
          "output_type": "stream",
          "name": "stdout",
          "text": [
            "Студент:     Вася Пупкин\n",
            "Оценка балл: 97.5\n"
          ]
        }
      ]
    }
  ]
}